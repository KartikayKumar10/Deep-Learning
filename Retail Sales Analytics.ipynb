{
 "cells": [
  {
   "cell_type": "code",
   "execution_count": 86,
   "metadata": {},
   "outputs": [],
   "source": [
    "import pandas as pd\n",
    "import numpy as np\n",
    "import matplotlib.pyplot as plt\n",
    "import seaborn as sns"
   ]
  },
  {
   "cell_type": "code",
   "execution_count": 87,
   "metadata": {},
   "outputs": [],
   "source": [
    "from tensorflow.keras.models import Sequential\n",
    "from tensorflow.keras.layers import LSTM, Dense, Dropout\n",
    "from tensorflow.keras.optimizers import Adam, RMSprop\n",
    "import tensorflow.keras.utils as ku"
   ]
  },
  {
   "cell_type": "code",
   "execution_count": 88,
   "metadata": {},
   "outputs": [
    {
     "data": {
      "text/html": [
       "<div>\n",
       "<style scoped>\n",
       "    .dataframe tbody tr th:only-of-type {\n",
       "        vertical-align: middle;\n",
       "    }\n",
       "\n",
       "    .dataframe tbody tr th {\n",
       "        vertical-align: top;\n",
       "    }\n",
       "\n",
       "    .dataframe thead th {\n",
       "        text-align: right;\n",
       "    }\n",
       "</style>\n",
       "<table border=\"1\" class=\"dataframe\">\n",
       "  <thead>\n",
       "    <tr style=\"text-align: right;\">\n",
       "      <th></th>\n",
       "      <th>date</th>\n",
       "      <th>store</th>\n",
       "      <th>item</th>\n",
       "      <th>sales</th>\n",
       "    </tr>\n",
       "  </thead>\n",
       "  <tbody>\n",
       "    <tr>\n",
       "      <th>0</th>\n",
       "      <td>2013-01-01</td>\n",
       "      <td>1</td>\n",
       "      <td>1</td>\n",
       "      <td>13</td>\n",
       "    </tr>\n",
       "    <tr>\n",
       "      <th>1</th>\n",
       "      <td>2013-01-02</td>\n",
       "      <td>1</td>\n",
       "      <td>1</td>\n",
       "      <td>11</td>\n",
       "    </tr>\n",
       "    <tr>\n",
       "      <th>2</th>\n",
       "      <td>2013-01-03</td>\n",
       "      <td>1</td>\n",
       "      <td>1</td>\n",
       "      <td>14</td>\n",
       "    </tr>\n",
       "    <tr>\n",
       "      <th>3</th>\n",
       "      <td>2013-01-04</td>\n",
       "      <td>1</td>\n",
       "      <td>1</td>\n",
       "      <td>13</td>\n",
       "    </tr>\n",
       "    <tr>\n",
       "      <th>4</th>\n",
       "      <td>2013-01-05</td>\n",
       "      <td>1</td>\n",
       "      <td>1</td>\n",
       "      <td>10</td>\n",
       "    </tr>\n",
       "  </tbody>\n",
       "</table>\n",
       "</div>"
      ],
      "text/plain": [
       "         date  store  item  sales\n",
       "0  2013-01-01      1     1     13\n",
       "1  2013-01-02      1     1     11\n",
       "2  2013-01-03      1     1     14\n",
       "3  2013-01-04      1     1     13\n",
       "4  2013-01-05      1     1     10"
      ]
     },
     "execution_count": 88,
     "metadata": {},
     "output_type": "execute_result"
    }
   ],
   "source": [
    "df=pd.read_csv(r'C:\\Users\\Kartikay\\Desktop\\DS Work\\Datasets\\demand-forecasting-kernels-only\\train.csv')\n",
    "df.head()"
   ]
  },
  {
   "cell_type": "code",
   "execution_count": 89,
   "metadata": {},
   "outputs": [
    {
     "data": {
      "text/plain": [
       "(913000, 4)"
      ]
     },
     "execution_count": 89,
     "metadata": {},
     "output_type": "execute_result"
    }
   ],
   "source": [
    "df.shape"
   ]
  },
  {
   "cell_type": "code",
   "execution_count": 90,
   "metadata": {},
   "outputs": [
    {
     "data": {
      "text/plain": [
       "array([ 1,  2,  3,  4,  5,  6,  7,  8,  9, 10, 11, 12, 13, 14, 15, 16, 17,\n",
       "       18, 19, 20, 21, 22, 23, 24, 25, 26, 27, 28, 29, 30, 31, 32, 33, 34,\n",
       "       35, 36, 37, 38, 39, 40, 41, 42, 43, 44, 45, 46, 47, 48, 49, 50],\n",
       "      dtype=int64)"
      ]
     },
     "execution_count": 90,
     "metadata": {},
     "output_type": "execute_result"
    }
   ],
   "source": [
    "df.item.unique()"
   ]
  },
  {
   "cell_type": "code",
   "execution_count": 91,
   "metadata": {},
   "outputs": [
    {
     "data": {
      "text/plain": [
       "array([ 1,  2,  3,  4,  5,  6,  7,  8,  9, 10], dtype=int64)"
      ]
     },
     "execution_count": 91,
     "metadata": {},
     "output_type": "execute_result"
    }
   ],
   "source": [
    "df.store.unique()"
   ]
  },
  {
   "cell_type": "code",
   "execution_count": 92,
   "metadata": {},
   "outputs": [
    {
     "data": {
      "text/html": [
       "<div>\n",
       "<style scoped>\n",
       "    .dataframe tbody tr th:only-of-type {\n",
       "        vertical-align: middle;\n",
       "    }\n",
       "\n",
       "    .dataframe tbody tr th {\n",
       "        vertical-align: top;\n",
       "    }\n",
       "\n",
       "    .dataframe thead th {\n",
       "        text-align: right;\n",
       "    }\n",
       "</style>\n",
       "<table border=\"1\" class=\"dataframe\">\n",
       "  <thead>\n",
       "    <tr style=\"text-align: right;\">\n",
       "      <th></th>\n",
       "      <th>store</th>\n",
       "      <th>item</th>\n",
       "      <th>sales</th>\n",
       "    </tr>\n",
       "  </thead>\n",
       "  <tbody>\n",
       "    <tr>\n",
       "      <th>count</th>\n",
       "      <td>913000.000000</td>\n",
       "      <td>913000.000000</td>\n",
       "      <td>913000.000000</td>\n",
       "    </tr>\n",
       "    <tr>\n",
       "      <th>mean</th>\n",
       "      <td>5.500000</td>\n",
       "      <td>25.500000</td>\n",
       "      <td>52.250287</td>\n",
       "    </tr>\n",
       "    <tr>\n",
       "      <th>std</th>\n",
       "      <td>2.872283</td>\n",
       "      <td>14.430878</td>\n",
       "      <td>28.801144</td>\n",
       "    </tr>\n",
       "    <tr>\n",
       "      <th>min</th>\n",
       "      <td>1.000000</td>\n",
       "      <td>1.000000</td>\n",
       "      <td>0.000000</td>\n",
       "    </tr>\n",
       "    <tr>\n",
       "      <th>25%</th>\n",
       "      <td>3.000000</td>\n",
       "      <td>13.000000</td>\n",
       "      <td>30.000000</td>\n",
       "    </tr>\n",
       "    <tr>\n",
       "      <th>50%</th>\n",
       "      <td>5.500000</td>\n",
       "      <td>25.500000</td>\n",
       "      <td>47.000000</td>\n",
       "    </tr>\n",
       "    <tr>\n",
       "      <th>75%</th>\n",
       "      <td>8.000000</td>\n",
       "      <td>38.000000</td>\n",
       "      <td>70.000000</td>\n",
       "    </tr>\n",
       "    <tr>\n",
       "      <th>max</th>\n",
       "      <td>10.000000</td>\n",
       "      <td>50.000000</td>\n",
       "      <td>231.000000</td>\n",
       "    </tr>\n",
       "  </tbody>\n",
       "</table>\n",
       "</div>"
      ],
      "text/plain": [
       "               store           item          sales\n",
       "count  913000.000000  913000.000000  913000.000000\n",
       "mean        5.500000      25.500000      52.250287\n",
       "std         2.872283      14.430878      28.801144\n",
       "min         1.000000       1.000000       0.000000\n",
       "25%         3.000000      13.000000      30.000000\n",
       "50%         5.500000      25.500000      47.000000\n",
       "75%         8.000000      38.000000      70.000000\n",
       "max        10.000000      50.000000     231.000000"
      ]
     },
     "execution_count": 92,
     "metadata": {},
     "output_type": "execute_result"
    }
   ],
   "source": [
    "df.describe()"
   ]
  },
  {
   "cell_type": "code",
   "execution_count": 93,
   "metadata": {},
   "outputs": [
    {
     "data": {
      "text/plain": [
       "date     object\n",
       "store     int64\n",
       "item      int64\n",
       "sales     int64\n",
       "dtype: object"
      ]
     },
     "execution_count": 93,
     "metadata": {},
     "output_type": "execute_result"
    }
   ],
   "source": [
    "df.dtypes"
   ]
  },
  {
   "cell_type": "code",
   "execution_count": 94,
   "metadata": {},
   "outputs": [],
   "source": [
    "df['date']=pd.to_datetime(df['date'])"
   ]
  },
  {
   "cell_type": "code",
   "execution_count": 95,
   "metadata": {},
   "outputs": [
    {
     "data": {
      "text/plain": [
       "date     datetime64[ns]\n",
       "store             int64\n",
       "item              int64\n",
       "sales             int64\n",
       "dtype: object"
      ]
     },
     "execution_count": 95,
     "metadata": {},
     "output_type": "execute_result"
    }
   ],
   "source": [
    "df.dtypes"
   ]
  },
  {
   "cell_type": "code",
   "execution_count": 96,
   "metadata": {},
   "outputs": [
    {
     "data": {
      "text/html": [
       "<div>\n",
       "<style scoped>\n",
       "    .dataframe tbody tr th:only-of-type {\n",
       "        vertical-align: middle;\n",
       "    }\n",
       "\n",
       "    .dataframe tbody tr th {\n",
       "        vertical-align: top;\n",
       "    }\n",
       "\n",
       "    .dataframe thead th {\n",
       "        text-align: right;\n",
       "    }\n",
       "</style>\n",
       "<table border=\"1\" class=\"dataframe\">\n",
       "  <thead>\n",
       "    <tr style=\"text-align: right;\">\n",
       "      <th></th>\n",
       "      <th>date</th>\n",
       "      <th>store</th>\n",
       "      <th>item</th>\n",
       "      <th>sales</th>\n",
       "    </tr>\n",
       "  </thead>\n",
       "  <tbody>\n",
       "    <tr>\n",
       "      <th>0</th>\n",
       "      <td>2013-01-01</td>\n",
       "      <td>1</td>\n",
       "      <td>1</td>\n",
       "      <td>13</td>\n",
       "    </tr>\n",
       "    <tr>\n",
       "      <th>1</th>\n",
       "      <td>2013-01-02</td>\n",
       "      <td>1</td>\n",
       "      <td>1</td>\n",
       "      <td>11</td>\n",
       "    </tr>\n",
       "    <tr>\n",
       "      <th>2</th>\n",
       "      <td>2013-01-03</td>\n",
       "      <td>1</td>\n",
       "      <td>1</td>\n",
       "      <td>14</td>\n",
       "    </tr>\n",
       "    <tr>\n",
       "      <th>3</th>\n",
       "      <td>2013-01-04</td>\n",
       "      <td>1</td>\n",
       "      <td>1</td>\n",
       "      <td>13</td>\n",
       "    </tr>\n",
       "    <tr>\n",
       "      <th>4</th>\n",
       "      <td>2013-01-05</td>\n",
       "      <td>1</td>\n",
       "      <td>1</td>\n",
       "      <td>10</td>\n",
       "    </tr>\n",
       "  </tbody>\n",
       "</table>\n",
       "</div>"
      ],
      "text/plain": [
       "        date  store  item  sales\n",
       "0 2013-01-01      1     1     13\n",
       "1 2013-01-02      1     1     11\n",
       "2 2013-01-03      1     1     14\n",
       "3 2013-01-04      1     1     13\n",
       "4 2013-01-05      1     1     10"
      ]
     },
     "execution_count": 96,
     "metadata": {},
     "output_type": "execute_result"
    }
   ],
   "source": [
    "df.head()"
   ]
  },
  {
   "cell_type": "code",
   "execution_count": 97,
   "metadata": {},
   "outputs": [],
   "source": [
    "monthly_sales=df.groupby(['date'],as_index=False)['sales'].sum()"
   ]
  },
  {
   "cell_type": "code",
   "execution_count": 98,
   "metadata": {},
   "outputs": [
    {
     "data": {
      "text/html": [
       "<div>\n",
       "<style scoped>\n",
       "    .dataframe tbody tr th:only-of-type {\n",
       "        vertical-align: middle;\n",
       "    }\n",
       "\n",
       "    .dataframe tbody tr th {\n",
       "        vertical-align: top;\n",
       "    }\n",
       "\n",
       "    .dataframe thead th {\n",
       "        text-align: right;\n",
       "    }\n",
       "</style>\n",
       "<table border=\"1\" class=\"dataframe\">\n",
       "  <thead>\n",
       "    <tr style=\"text-align: right;\">\n",
       "      <th></th>\n",
       "      <th>date</th>\n",
       "      <th>sales</th>\n",
       "    </tr>\n",
       "  </thead>\n",
       "  <tbody>\n",
       "    <tr>\n",
       "      <th>0</th>\n",
       "      <td>2013-01-01</td>\n",
       "      <td>13696</td>\n",
       "    </tr>\n",
       "    <tr>\n",
       "      <th>1</th>\n",
       "      <td>2013-01-02</td>\n",
       "      <td>13678</td>\n",
       "    </tr>\n",
       "    <tr>\n",
       "      <th>2</th>\n",
       "      <td>2013-01-03</td>\n",
       "      <td>14488</td>\n",
       "    </tr>\n",
       "    <tr>\n",
       "      <th>3</th>\n",
       "      <td>2013-01-04</td>\n",
       "      <td>15677</td>\n",
       "    </tr>\n",
       "    <tr>\n",
       "      <th>4</th>\n",
       "      <td>2013-01-05</td>\n",
       "      <td>16237</td>\n",
       "    </tr>\n",
       "    <tr>\n",
       "      <th>...</th>\n",
       "      <td>...</td>\n",
       "      <td>...</td>\n",
       "    </tr>\n",
       "    <tr>\n",
       "      <th>1821</th>\n",
       "      <td>2017-12-27</td>\n",
       "      <td>20378</td>\n",
       "    </tr>\n",
       "    <tr>\n",
       "      <th>1822</th>\n",
       "      <td>2017-12-28</td>\n",
       "      <td>21885</td>\n",
       "    </tr>\n",
       "    <tr>\n",
       "      <th>1823</th>\n",
       "      <td>2017-12-29</td>\n",
       "      <td>23535</td>\n",
       "    </tr>\n",
       "    <tr>\n",
       "      <th>1824</th>\n",
       "      <td>2017-12-30</td>\n",
       "      <td>24988</td>\n",
       "    </tr>\n",
       "    <tr>\n",
       "      <th>1825</th>\n",
       "      <td>2017-12-31</td>\n",
       "      <td>26420</td>\n",
       "    </tr>\n",
       "  </tbody>\n",
       "</table>\n",
       "<p>1826 rows × 2 columns</p>\n",
       "</div>"
      ],
      "text/plain": [
       "           date  sales\n",
       "0    2013-01-01  13696\n",
       "1    2013-01-02  13678\n",
       "2    2013-01-03  14488\n",
       "3    2013-01-04  15677\n",
       "4    2013-01-05  16237\n",
       "...         ...    ...\n",
       "1821 2017-12-27  20378\n",
       "1822 2017-12-28  21885\n",
       "1823 2017-12-29  23535\n",
       "1824 2017-12-30  24988\n",
       "1825 2017-12-31  26420\n",
       "\n",
       "[1826 rows x 2 columns]"
      ]
     },
     "execution_count": 98,
     "metadata": {},
     "output_type": "execute_result"
    }
   ],
   "source": [
    "monthly_sales"
   ]
  },
  {
   "cell_type": "code",
   "execution_count": 99,
   "metadata": {},
   "outputs": [],
   "source": [
    "monthly_sales=pd.DataFrame(monthly_sales.groupby(pd.Grouper(key='date',freq='M'))['sales'].sum())"
   ]
  },
  {
   "cell_type": "code",
   "execution_count": 100,
   "metadata": {},
   "outputs": [],
   "source": [
    "monthly_sales=monthly_sales.reset_index()"
   ]
  },
  {
   "cell_type": "code",
   "execution_count": 101,
   "metadata": {},
   "outputs": [
    {
     "data": {
      "text/html": [
       "<div>\n",
       "<style scoped>\n",
       "    .dataframe tbody tr th:only-of-type {\n",
       "        vertical-align: middle;\n",
       "    }\n",
       "\n",
       "    .dataframe tbody tr th {\n",
       "        vertical-align: top;\n",
       "    }\n",
       "\n",
       "    .dataframe thead th {\n",
       "        text-align: right;\n",
       "    }\n",
       "</style>\n",
       "<table border=\"1\" class=\"dataframe\">\n",
       "  <thead>\n",
       "    <tr style=\"text-align: right;\">\n",
       "      <th></th>\n",
       "      <th>date</th>\n",
       "      <th>sales</th>\n",
       "    </tr>\n",
       "  </thead>\n",
       "  <tbody>\n",
       "    <tr>\n",
       "      <th>0</th>\n",
       "      <td>2013-01-31</td>\n",
       "      <td>454904</td>\n",
       "    </tr>\n",
       "    <tr>\n",
       "      <th>1</th>\n",
       "      <td>2013-02-28</td>\n",
       "      <td>459417</td>\n",
       "    </tr>\n",
       "  </tbody>\n",
       "</table>\n",
       "</div>"
      ],
      "text/plain": [
       "        date   sales\n",
       "0 2013-01-31  454904\n",
       "1 2013-02-28  459417"
      ]
     },
     "execution_count": 101,
     "metadata": {},
     "output_type": "execute_result"
    }
   ],
   "source": [
    "monthly_sales.head(2)"
   ]
  },
  {
   "cell_type": "code",
   "execution_count": 102,
   "metadata": {},
   "outputs": [
    {
     "data": {
      "application/vnd.plotly.v1+json": {
       "config": {
        "linkText": "Export to plot.ly",
        "plotlyServerURL": "https://plot.ly",
        "showLink": false
       },
       "data": [
        {
         "type": "scatter",
         "x": [
          "2013-01-31T00:00:00",
          "2013-02-28T00:00:00",
          "2013-03-31T00:00:00",
          "2013-04-30T00:00:00",
          "2013-05-31T00:00:00",
          "2013-06-30T00:00:00",
          "2013-07-31T00:00:00",
          "2013-08-31T00:00:00",
          "2013-09-30T00:00:00",
          "2013-10-31T00:00:00",
          "2013-11-30T00:00:00",
          "2013-12-31T00:00:00",
          "2014-01-31T00:00:00",
          "2014-02-28T00:00:00",
          "2014-03-31T00:00:00",
          "2014-04-30T00:00:00",
          "2014-05-31T00:00:00",
          "2014-06-30T00:00:00",
          "2014-07-31T00:00:00",
          "2014-08-31T00:00:00",
          "2014-09-30T00:00:00",
          "2014-10-31T00:00:00",
          "2014-11-30T00:00:00",
          "2014-12-31T00:00:00",
          "2015-01-31T00:00:00",
          "2015-02-28T00:00:00",
          "2015-03-31T00:00:00",
          "2015-04-30T00:00:00",
          "2015-05-31T00:00:00",
          "2015-06-30T00:00:00",
          "2015-07-31T00:00:00",
          "2015-08-31T00:00:00",
          "2015-09-30T00:00:00",
          "2015-10-31T00:00:00",
          "2015-11-30T00:00:00",
          "2015-12-31T00:00:00",
          "2016-01-31T00:00:00",
          "2016-02-29T00:00:00",
          "2016-03-31T00:00:00",
          "2016-04-30T00:00:00",
          "2016-05-31T00:00:00",
          "2016-06-30T00:00:00",
          "2016-07-31T00:00:00",
          "2016-08-31T00:00:00",
          "2016-09-30T00:00:00",
          "2016-10-31T00:00:00",
          "2016-11-30T00:00:00",
          "2016-12-31T00:00:00",
          "2017-01-31T00:00:00",
          "2017-02-28T00:00:00",
          "2017-03-31T00:00:00",
          "2017-04-30T00:00:00",
          "2017-05-31T00:00:00",
          "2017-06-30T00:00:00",
          "2017-07-31T00:00:00",
          "2017-08-31T00:00:00",
          "2017-09-30T00:00:00",
          "2017-10-31T00:00:00",
          "2017-11-30T00:00:00",
          "2017-12-31T00:00:00"
         ],
         "y": [
          454904,
          459417,
          617382,
          682274,
          763242,
          795597,
          855922,
          766761,
          689907,
          656587,
          692643,
          506607,
          525987,
          529117,
          704301,
          788914,
          882877,
          906842,
          989010,
          885596,
          785124,
          758883,
          800783,
          578048,
          552513,
          551317,
          730951,
          824467,
          926902,
          937184,
          1037350,
          920401,
          823332,
          797253,
          827645,
          607572,
          602439,
          614957,
          790881,
          901950,
          988730,
          1022664,
          1138718,
          981494,
          896831,
          863637,
          891448,
          663411,
          617306,
          621369,
          822667,
          938862,
          1020686,
          1064624,
          1171393,
          1026403,
          935263,
          891160,
          928837,
          695170
         ]
        }
       ],
       "layout": {
        "template": {
         "data": {
          "bar": [
           {
            "error_x": {
             "color": "#2a3f5f"
            },
            "error_y": {
             "color": "#2a3f5f"
            },
            "marker": {
             "line": {
              "color": "#E5ECF6",
              "width": 0.5
             }
            },
            "type": "bar"
           }
          ],
          "barpolar": [
           {
            "marker": {
             "line": {
              "color": "#E5ECF6",
              "width": 0.5
             }
            },
            "type": "barpolar"
           }
          ],
          "carpet": [
           {
            "aaxis": {
             "endlinecolor": "#2a3f5f",
             "gridcolor": "white",
             "linecolor": "white",
             "minorgridcolor": "white",
             "startlinecolor": "#2a3f5f"
            },
            "baxis": {
             "endlinecolor": "#2a3f5f",
             "gridcolor": "white",
             "linecolor": "white",
             "minorgridcolor": "white",
             "startlinecolor": "#2a3f5f"
            },
            "type": "carpet"
           }
          ],
          "choropleth": [
           {
            "colorbar": {
             "outlinewidth": 0,
             "ticks": ""
            },
            "type": "choropleth"
           }
          ],
          "contour": [
           {
            "colorbar": {
             "outlinewidth": 0,
             "ticks": ""
            },
            "colorscale": [
             [
              0,
              "#0d0887"
             ],
             [
              0.1111111111111111,
              "#46039f"
             ],
             [
              0.2222222222222222,
              "#7201a8"
             ],
             [
              0.3333333333333333,
              "#9c179e"
             ],
             [
              0.4444444444444444,
              "#bd3786"
             ],
             [
              0.5555555555555556,
              "#d8576b"
             ],
             [
              0.6666666666666666,
              "#ed7953"
             ],
             [
              0.7777777777777778,
              "#fb9f3a"
             ],
             [
              0.8888888888888888,
              "#fdca26"
             ],
             [
              1,
              "#f0f921"
             ]
            ],
            "type": "contour"
           }
          ],
          "contourcarpet": [
           {
            "colorbar": {
             "outlinewidth": 0,
             "ticks": ""
            },
            "type": "contourcarpet"
           }
          ],
          "heatmap": [
           {
            "colorbar": {
             "outlinewidth": 0,
             "ticks": ""
            },
            "colorscale": [
             [
              0,
              "#0d0887"
             ],
             [
              0.1111111111111111,
              "#46039f"
             ],
             [
              0.2222222222222222,
              "#7201a8"
             ],
             [
              0.3333333333333333,
              "#9c179e"
             ],
             [
              0.4444444444444444,
              "#bd3786"
             ],
             [
              0.5555555555555556,
              "#d8576b"
             ],
             [
              0.6666666666666666,
              "#ed7953"
             ],
             [
              0.7777777777777778,
              "#fb9f3a"
             ],
             [
              0.8888888888888888,
              "#fdca26"
             ],
             [
              1,
              "#f0f921"
             ]
            ],
            "type": "heatmap"
           }
          ],
          "heatmapgl": [
           {
            "colorbar": {
             "outlinewidth": 0,
             "ticks": ""
            },
            "colorscale": [
             [
              0,
              "#0d0887"
             ],
             [
              0.1111111111111111,
              "#46039f"
             ],
             [
              0.2222222222222222,
              "#7201a8"
             ],
             [
              0.3333333333333333,
              "#9c179e"
             ],
             [
              0.4444444444444444,
              "#bd3786"
             ],
             [
              0.5555555555555556,
              "#d8576b"
             ],
             [
              0.6666666666666666,
              "#ed7953"
             ],
             [
              0.7777777777777778,
              "#fb9f3a"
             ],
             [
              0.8888888888888888,
              "#fdca26"
             ],
             [
              1,
              "#f0f921"
             ]
            ],
            "type": "heatmapgl"
           }
          ],
          "histogram": [
           {
            "marker": {
             "colorbar": {
              "outlinewidth": 0,
              "ticks": ""
             }
            },
            "type": "histogram"
           }
          ],
          "histogram2d": [
           {
            "colorbar": {
             "outlinewidth": 0,
             "ticks": ""
            },
            "colorscale": [
             [
              0,
              "#0d0887"
             ],
             [
              0.1111111111111111,
              "#46039f"
             ],
             [
              0.2222222222222222,
              "#7201a8"
             ],
             [
              0.3333333333333333,
              "#9c179e"
             ],
             [
              0.4444444444444444,
              "#bd3786"
             ],
             [
              0.5555555555555556,
              "#d8576b"
             ],
             [
              0.6666666666666666,
              "#ed7953"
             ],
             [
              0.7777777777777778,
              "#fb9f3a"
             ],
             [
              0.8888888888888888,
              "#fdca26"
             ],
             [
              1,
              "#f0f921"
             ]
            ],
            "type": "histogram2d"
           }
          ],
          "histogram2dcontour": [
           {
            "colorbar": {
             "outlinewidth": 0,
             "ticks": ""
            },
            "colorscale": [
             [
              0,
              "#0d0887"
             ],
             [
              0.1111111111111111,
              "#46039f"
             ],
             [
              0.2222222222222222,
              "#7201a8"
             ],
             [
              0.3333333333333333,
              "#9c179e"
             ],
             [
              0.4444444444444444,
              "#bd3786"
             ],
             [
              0.5555555555555556,
              "#d8576b"
             ],
             [
              0.6666666666666666,
              "#ed7953"
             ],
             [
              0.7777777777777778,
              "#fb9f3a"
             ],
             [
              0.8888888888888888,
              "#fdca26"
             ],
             [
              1,
              "#f0f921"
             ]
            ],
            "type": "histogram2dcontour"
           }
          ],
          "mesh3d": [
           {
            "colorbar": {
             "outlinewidth": 0,
             "ticks": ""
            },
            "type": "mesh3d"
           }
          ],
          "parcoords": [
           {
            "line": {
             "colorbar": {
              "outlinewidth": 0,
              "ticks": ""
             }
            },
            "type": "parcoords"
           }
          ],
          "pie": [
           {
            "automargin": true,
            "type": "pie"
           }
          ],
          "scatter": [
           {
            "marker": {
             "colorbar": {
              "outlinewidth": 0,
              "ticks": ""
             }
            },
            "type": "scatter"
           }
          ],
          "scatter3d": [
           {
            "line": {
             "colorbar": {
              "outlinewidth": 0,
              "ticks": ""
             }
            },
            "marker": {
             "colorbar": {
              "outlinewidth": 0,
              "ticks": ""
             }
            },
            "type": "scatter3d"
           }
          ],
          "scattercarpet": [
           {
            "marker": {
             "colorbar": {
              "outlinewidth": 0,
              "ticks": ""
             }
            },
            "type": "scattercarpet"
           }
          ],
          "scattergeo": [
           {
            "marker": {
             "colorbar": {
              "outlinewidth": 0,
              "ticks": ""
             }
            },
            "type": "scattergeo"
           }
          ],
          "scattergl": [
           {
            "marker": {
             "colorbar": {
              "outlinewidth": 0,
              "ticks": ""
             }
            },
            "type": "scattergl"
           }
          ],
          "scattermapbox": [
           {
            "marker": {
             "colorbar": {
              "outlinewidth": 0,
              "ticks": ""
             }
            },
            "type": "scattermapbox"
           }
          ],
          "scatterpolar": [
           {
            "marker": {
             "colorbar": {
              "outlinewidth": 0,
              "ticks": ""
             }
            },
            "type": "scatterpolar"
           }
          ],
          "scatterpolargl": [
           {
            "marker": {
             "colorbar": {
              "outlinewidth": 0,
              "ticks": ""
             }
            },
            "type": "scatterpolargl"
           }
          ],
          "scatterternary": [
           {
            "marker": {
             "colorbar": {
              "outlinewidth": 0,
              "ticks": ""
             }
            },
            "type": "scatterternary"
           }
          ],
          "surface": [
           {
            "colorbar": {
             "outlinewidth": 0,
             "ticks": ""
            },
            "colorscale": [
             [
              0,
              "#0d0887"
             ],
             [
              0.1111111111111111,
              "#46039f"
             ],
             [
              0.2222222222222222,
              "#7201a8"
             ],
             [
              0.3333333333333333,
              "#9c179e"
             ],
             [
              0.4444444444444444,
              "#bd3786"
             ],
             [
              0.5555555555555556,
              "#d8576b"
             ],
             [
              0.6666666666666666,
              "#ed7953"
             ],
             [
              0.7777777777777778,
              "#fb9f3a"
             ],
             [
              0.8888888888888888,
              "#fdca26"
             ],
             [
              1,
              "#f0f921"
             ]
            ],
            "type": "surface"
           }
          ],
          "table": [
           {
            "cells": {
             "fill": {
              "color": "#EBF0F8"
             },
             "line": {
              "color": "white"
             }
            },
            "header": {
             "fill": {
              "color": "#C8D4E3"
             },
             "line": {
              "color": "white"
             }
            },
            "type": "table"
           }
          ]
         },
         "layout": {
          "annotationdefaults": {
           "arrowcolor": "#2a3f5f",
           "arrowhead": 0,
           "arrowwidth": 1
          },
          "coloraxis": {
           "colorbar": {
            "outlinewidth": 0,
            "ticks": ""
           }
          },
          "colorscale": {
           "diverging": [
            [
             0,
             "#8e0152"
            ],
            [
             0.1,
             "#c51b7d"
            ],
            [
             0.2,
             "#de77ae"
            ],
            [
             0.3,
             "#f1b6da"
            ],
            [
             0.4,
             "#fde0ef"
            ],
            [
             0.5,
             "#f7f7f7"
            ],
            [
             0.6,
             "#e6f5d0"
            ],
            [
             0.7,
             "#b8e186"
            ],
            [
             0.8,
             "#7fbc41"
            ],
            [
             0.9,
             "#4d9221"
            ],
            [
             1,
             "#276419"
            ]
           ],
           "sequential": [
            [
             0,
             "#0d0887"
            ],
            [
             0.1111111111111111,
             "#46039f"
            ],
            [
             0.2222222222222222,
             "#7201a8"
            ],
            [
             0.3333333333333333,
             "#9c179e"
            ],
            [
             0.4444444444444444,
             "#bd3786"
            ],
            [
             0.5555555555555556,
             "#d8576b"
            ],
            [
             0.6666666666666666,
             "#ed7953"
            ],
            [
             0.7777777777777778,
             "#fb9f3a"
            ],
            [
             0.8888888888888888,
             "#fdca26"
            ],
            [
             1,
             "#f0f921"
            ]
           ],
           "sequentialminus": [
            [
             0,
             "#0d0887"
            ],
            [
             0.1111111111111111,
             "#46039f"
            ],
            [
             0.2222222222222222,
             "#7201a8"
            ],
            [
             0.3333333333333333,
             "#9c179e"
            ],
            [
             0.4444444444444444,
             "#bd3786"
            ],
            [
             0.5555555555555556,
             "#d8576b"
            ],
            [
             0.6666666666666666,
             "#ed7953"
            ],
            [
             0.7777777777777778,
             "#fb9f3a"
            ],
            [
             0.8888888888888888,
             "#fdca26"
            ],
            [
             1,
             "#f0f921"
            ]
           ]
          },
          "colorway": [
           "#636efa",
           "#EF553B",
           "#00cc96",
           "#ab63fa",
           "#FFA15A",
           "#19d3f3",
           "#FF6692",
           "#B6E880",
           "#FF97FF",
           "#FECB52"
          ],
          "font": {
           "color": "#2a3f5f"
          },
          "geo": {
           "bgcolor": "white",
           "lakecolor": "white",
           "landcolor": "#E5ECF6",
           "showlakes": true,
           "showland": true,
           "subunitcolor": "white"
          },
          "hoverlabel": {
           "align": "left"
          },
          "hovermode": "closest",
          "mapbox": {
           "style": "light"
          },
          "paper_bgcolor": "white",
          "plot_bgcolor": "#E5ECF6",
          "polar": {
           "angularaxis": {
            "gridcolor": "white",
            "linecolor": "white",
            "ticks": ""
           },
           "bgcolor": "#E5ECF6",
           "radialaxis": {
            "gridcolor": "white",
            "linecolor": "white",
            "ticks": ""
           }
          },
          "scene": {
           "xaxis": {
            "backgroundcolor": "#E5ECF6",
            "gridcolor": "white",
            "gridwidth": 2,
            "linecolor": "white",
            "showbackground": true,
            "ticks": "",
            "zerolinecolor": "white"
           },
           "yaxis": {
            "backgroundcolor": "#E5ECF6",
            "gridcolor": "white",
            "gridwidth": 2,
            "linecolor": "white",
            "showbackground": true,
            "ticks": "",
            "zerolinecolor": "white"
           },
           "zaxis": {
            "backgroundcolor": "#E5ECF6",
            "gridcolor": "white",
            "gridwidth": 2,
            "linecolor": "white",
            "showbackground": true,
            "ticks": "",
            "zerolinecolor": "white"
           }
          },
          "shapedefaults": {
           "line": {
            "color": "#2a3f5f"
           }
          },
          "ternary": {
           "aaxis": {
            "gridcolor": "white",
            "linecolor": "white",
            "ticks": ""
           },
           "baxis": {
            "gridcolor": "white",
            "linecolor": "white",
            "ticks": ""
           },
           "bgcolor": "#E5ECF6",
           "caxis": {
            "gridcolor": "white",
            "linecolor": "white",
            "ticks": ""
           }
          },
          "title": {
           "x": 0.05
          },
          "xaxis": {
           "automargin": true,
           "gridcolor": "white",
           "linecolor": "white",
           "ticks": "",
           "title": {
            "standoff": 15
           },
           "zerolinecolor": "white",
           "zerolinewidth": 2
          },
          "yaxis": {
           "automargin": true,
           "gridcolor": "white",
           "linecolor": "white",
           "ticks": "",
           "title": {
            "standoff": 15
           },
           "zerolinecolor": "white",
           "zerolinewidth": 2
          }
         }
        },
        "title": {
         "text": "Montly Sales"
        }
       }
      },
      "text/html": [
       "<div>                            <div id=\"4566b74e-9c67-45fe-852d-0788c29d256e\" class=\"plotly-graph-div\" style=\"height:525px; width:100%;\"></div>            <script type=\"text/javascript\">                require([\"plotly\"], function(Plotly) {                    window.PLOTLYENV=window.PLOTLYENV || {};                                    if (document.getElementById(\"4566b74e-9c67-45fe-852d-0788c29d256e\")) {                    Plotly.newPlot(                        \"4566b74e-9c67-45fe-852d-0788c29d256e\",                        [{\"type\": \"scatter\", \"x\": [\"2013-01-31T00:00:00\", \"2013-02-28T00:00:00\", \"2013-03-31T00:00:00\", \"2013-04-30T00:00:00\", \"2013-05-31T00:00:00\", \"2013-06-30T00:00:00\", \"2013-07-31T00:00:00\", \"2013-08-31T00:00:00\", \"2013-09-30T00:00:00\", \"2013-10-31T00:00:00\", \"2013-11-30T00:00:00\", \"2013-12-31T00:00:00\", \"2014-01-31T00:00:00\", \"2014-02-28T00:00:00\", \"2014-03-31T00:00:00\", \"2014-04-30T00:00:00\", \"2014-05-31T00:00:00\", \"2014-06-30T00:00:00\", \"2014-07-31T00:00:00\", \"2014-08-31T00:00:00\", \"2014-09-30T00:00:00\", \"2014-10-31T00:00:00\", \"2014-11-30T00:00:00\", \"2014-12-31T00:00:00\", \"2015-01-31T00:00:00\", \"2015-02-28T00:00:00\", \"2015-03-31T00:00:00\", \"2015-04-30T00:00:00\", \"2015-05-31T00:00:00\", \"2015-06-30T00:00:00\", \"2015-07-31T00:00:00\", \"2015-08-31T00:00:00\", \"2015-09-30T00:00:00\", \"2015-10-31T00:00:00\", \"2015-11-30T00:00:00\", \"2015-12-31T00:00:00\", \"2016-01-31T00:00:00\", \"2016-02-29T00:00:00\", \"2016-03-31T00:00:00\", \"2016-04-30T00:00:00\", \"2016-05-31T00:00:00\", \"2016-06-30T00:00:00\", \"2016-07-31T00:00:00\", \"2016-08-31T00:00:00\", \"2016-09-30T00:00:00\", \"2016-10-31T00:00:00\", \"2016-11-30T00:00:00\", \"2016-12-31T00:00:00\", \"2017-01-31T00:00:00\", \"2017-02-28T00:00:00\", \"2017-03-31T00:00:00\", \"2017-04-30T00:00:00\", \"2017-05-31T00:00:00\", \"2017-06-30T00:00:00\", \"2017-07-31T00:00:00\", \"2017-08-31T00:00:00\", \"2017-09-30T00:00:00\", \"2017-10-31T00:00:00\", \"2017-11-30T00:00:00\", \"2017-12-31T00:00:00\"], \"y\": [454904, 459417, 617382, 682274, 763242, 795597, 855922, 766761, 689907, 656587, 692643, 506607, 525987, 529117, 704301, 788914, 882877, 906842, 989010, 885596, 785124, 758883, 800783, 578048, 552513, 551317, 730951, 824467, 926902, 937184, 1037350, 920401, 823332, 797253, 827645, 607572, 602439, 614957, 790881, 901950, 988730, 1022664, 1138718, 981494, 896831, 863637, 891448, 663411, 617306, 621369, 822667, 938862, 1020686, 1064624, 1171393, 1026403, 935263, 891160, 928837, 695170]}],                        {\"template\": {\"data\": {\"bar\": [{\"error_x\": {\"color\": \"#2a3f5f\"}, \"error_y\": {\"color\": \"#2a3f5f\"}, \"marker\": {\"line\": {\"color\": \"#E5ECF6\", \"width\": 0.5}}, \"type\": \"bar\"}], \"barpolar\": [{\"marker\": {\"line\": {\"color\": \"#E5ECF6\", \"width\": 0.5}}, \"type\": \"barpolar\"}], \"carpet\": [{\"aaxis\": {\"endlinecolor\": \"#2a3f5f\", \"gridcolor\": \"white\", \"linecolor\": \"white\", \"minorgridcolor\": \"white\", \"startlinecolor\": \"#2a3f5f\"}, \"baxis\": {\"endlinecolor\": \"#2a3f5f\", \"gridcolor\": \"white\", \"linecolor\": \"white\", \"minorgridcolor\": \"white\", \"startlinecolor\": \"#2a3f5f\"}, \"type\": \"carpet\"}], \"choropleth\": [{\"colorbar\": {\"outlinewidth\": 0, \"ticks\": \"\"}, \"type\": \"choropleth\"}], \"contour\": [{\"colorbar\": {\"outlinewidth\": 0, \"ticks\": \"\"}, \"colorscale\": [[0.0, \"#0d0887\"], [0.1111111111111111, \"#46039f\"], [0.2222222222222222, \"#7201a8\"], [0.3333333333333333, \"#9c179e\"], [0.4444444444444444, \"#bd3786\"], [0.5555555555555556, \"#d8576b\"], [0.6666666666666666, \"#ed7953\"], [0.7777777777777778, \"#fb9f3a\"], [0.8888888888888888, \"#fdca26\"], [1.0, \"#f0f921\"]], \"type\": \"contour\"}], \"contourcarpet\": [{\"colorbar\": {\"outlinewidth\": 0, \"ticks\": \"\"}, \"type\": \"contourcarpet\"}], \"heatmap\": [{\"colorbar\": {\"outlinewidth\": 0, \"ticks\": \"\"}, \"colorscale\": [[0.0, \"#0d0887\"], [0.1111111111111111, \"#46039f\"], [0.2222222222222222, \"#7201a8\"], [0.3333333333333333, \"#9c179e\"], [0.4444444444444444, \"#bd3786\"], [0.5555555555555556, \"#d8576b\"], [0.6666666666666666, \"#ed7953\"], [0.7777777777777778, \"#fb9f3a\"], [0.8888888888888888, \"#fdca26\"], [1.0, \"#f0f921\"]], \"type\": \"heatmap\"}], \"heatmapgl\": [{\"colorbar\": {\"outlinewidth\": 0, \"ticks\": \"\"}, \"colorscale\": [[0.0, \"#0d0887\"], [0.1111111111111111, \"#46039f\"], [0.2222222222222222, \"#7201a8\"], [0.3333333333333333, \"#9c179e\"], [0.4444444444444444, \"#bd3786\"], [0.5555555555555556, \"#d8576b\"], [0.6666666666666666, \"#ed7953\"], [0.7777777777777778, \"#fb9f3a\"], [0.8888888888888888, \"#fdca26\"], [1.0, \"#f0f921\"]], \"type\": \"heatmapgl\"}], \"histogram\": [{\"marker\": {\"colorbar\": {\"outlinewidth\": 0, \"ticks\": \"\"}}, \"type\": \"histogram\"}], \"histogram2d\": [{\"colorbar\": {\"outlinewidth\": 0, \"ticks\": \"\"}, \"colorscale\": [[0.0, \"#0d0887\"], [0.1111111111111111, \"#46039f\"], [0.2222222222222222, \"#7201a8\"], [0.3333333333333333, \"#9c179e\"], [0.4444444444444444, \"#bd3786\"], [0.5555555555555556, \"#d8576b\"], [0.6666666666666666, \"#ed7953\"], [0.7777777777777778, \"#fb9f3a\"], [0.8888888888888888, \"#fdca26\"], [1.0, \"#f0f921\"]], \"type\": \"histogram2d\"}], \"histogram2dcontour\": [{\"colorbar\": {\"outlinewidth\": 0, \"ticks\": \"\"}, \"colorscale\": [[0.0, \"#0d0887\"], [0.1111111111111111, \"#46039f\"], [0.2222222222222222, \"#7201a8\"], [0.3333333333333333, \"#9c179e\"], [0.4444444444444444, \"#bd3786\"], [0.5555555555555556, \"#d8576b\"], [0.6666666666666666, \"#ed7953\"], [0.7777777777777778, \"#fb9f3a\"], [0.8888888888888888, \"#fdca26\"], [1.0, \"#f0f921\"]], \"type\": \"histogram2dcontour\"}], \"mesh3d\": [{\"colorbar\": {\"outlinewidth\": 0, \"ticks\": \"\"}, \"type\": \"mesh3d\"}], \"parcoords\": [{\"line\": {\"colorbar\": {\"outlinewidth\": 0, \"ticks\": \"\"}}, \"type\": \"parcoords\"}], \"pie\": [{\"automargin\": true, \"type\": \"pie\"}], \"scatter\": [{\"marker\": {\"colorbar\": {\"outlinewidth\": 0, \"ticks\": \"\"}}, \"type\": \"scatter\"}], \"scatter3d\": [{\"line\": {\"colorbar\": {\"outlinewidth\": 0, \"ticks\": \"\"}}, \"marker\": {\"colorbar\": {\"outlinewidth\": 0, \"ticks\": \"\"}}, \"type\": \"scatter3d\"}], \"scattercarpet\": [{\"marker\": {\"colorbar\": {\"outlinewidth\": 0, \"ticks\": \"\"}}, \"type\": \"scattercarpet\"}], \"scattergeo\": [{\"marker\": {\"colorbar\": {\"outlinewidth\": 0, \"ticks\": \"\"}}, \"type\": \"scattergeo\"}], \"scattergl\": [{\"marker\": {\"colorbar\": {\"outlinewidth\": 0, \"ticks\": \"\"}}, \"type\": \"scattergl\"}], \"scattermapbox\": [{\"marker\": {\"colorbar\": {\"outlinewidth\": 0, \"ticks\": \"\"}}, \"type\": \"scattermapbox\"}], \"scatterpolar\": [{\"marker\": {\"colorbar\": {\"outlinewidth\": 0, \"ticks\": \"\"}}, \"type\": \"scatterpolar\"}], \"scatterpolargl\": [{\"marker\": {\"colorbar\": {\"outlinewidth\": 0, \"ticks\": \"\"}}, \"type\": \"scatterpolargl\"}], \"scatterternary\": [{\"marker\": {\"colorbar\": {\"outlinewidth\": 0, \"ticks\": \"\"}}, \"type\": \"scatterternary\"}], \"surface\": [{\"colorbar\": {\"outlinewidth\": 0, \"ticks\": \"\"}, \"colorscale\": [[0.0, \"#0d0887\"], [0.1111111111111111, \"#46039f\"], [0.2222222222222222, \"#7201a8\"], [0.3333333333333333, \"#9c179e\"], [0.4444444444444444, \"#bd3786\"], [0.5555555555555556, \"#d8576b\"], [0.6666666666666666, \"#ed7953\"], [0.7777777777777778, \"#fb9f3a\"], [0.8888888888888888, \"#fdca26\"], [1.0, \"#f0f921\"]], \"type\": \"surface\"}], \"table\": [{\"cells\": {\"fill\": {\"color\": \"#EBF0F8\"}, \"line\": {\"color\": \"white\"}}, \"header\": {\"fill\": {\"color\": \"#C8D4E3\"}, \"line\": {\"color\": \"white\"}}, \"type\": \"table\"}]}, \"layout\": {\"annotationdefaults\": {\"arrowcolor\": \"#2a3f5f\", \"arrowhead\": 0, \"arrowwidth\": 1}, \"coloraxis\": {\"colorbar\": {\"outlinewidth\": 0, \"ticks\": \"\"}}, \"colorscale\": {\"diverging\": [[0, \"#8e0152\"], [0.1, \"#c51b7d\"], [0.2, \"#de77ae\"], [0.3, \"#f1b6da\"], [0.4, \"#fde0ef\"], [0.5, \"#f7f7f7\"], [0.6, \"#e6f5d0\"], [0.7, \"#b8e186\"], [0.8, \"#7fbc41\"], [0.9, \"#4d9221\"], [1, \"#276419\"]], \"sequential\": [[0.0, \"#0d0887\"], [0.1111111111111111, \"#46039f\"], [0.2222222222222222, \"#7201a8\"], [0.3333333333333333, \"#9c179e\"], [0.4444444444444444, \"#bd3786\"], [0.5555555555555556, \"#d8576b\"], [0.6666666666666666, \"#ed7953\"], [0.7777777777777778, \"#fb9f3a\"], [0.8888888888888888, \"#fdca26\"], [1.0, \"#f0f921\"]], \"sequentialminus\": [[0.0, \"#0d0887\"], [0.1111111111111111, \"#46039f\"], [0.2222222222222222, \"#7201a8\"], [0.3333333333333333, \"#9c179e\"], [0.4444444444444444, \"#bd3786\"], [0.5555555555555556, \"#d8576b\"], [0.6666666666666666, \"#ed7953\"], [0.7777777777777778, \"#fb9f3a\"], [0.8888888888888888, \"#fdca26\"], [1.0, \"#f0f921\"]]}, \"colorway\": [\"#636efa\", \"#EF553B\", \"#00cc96\", \"#ab63fa\", \"#FFA15A\", \"#19d3f3\", \"#FF6692\", \"#B6E880\", \"#FF97FF\", \"#FECB52\"], \"font\": {\"color\": \"#2a3f5f\"}, \"geo\": {\"bgcolor\": \"white\", \"lakecolor\": \"white\", \"landcolor\": \"#E5ECF6\", \"showlakes\": true, \"showland\": true, \"subunitcolor\": \"white\"}, \"hoverlabel\": {\"align\": \"left\"}, \"hovermode\": \"closest\", \"mapbox\": {\"style\": \"light\"}, \"paper_bgcolor\": \"white\", \"plot_bgcolor\": \"#E5ECF6\", \"polar\": {\"angularaxis\": {\"gridcolor\": \"white\", \"linecolor\": \"white\", \"ticks\": \"\"}, \"bgcolor\": \"#E5ECF6\", \"radialaxis\": {\"gridcolor\": \"white\", \"linecolor\": \"white\", \"ticks\": \"\"}}, \"scene\": {\"xaxis\": {\"backgroundcolor\": \"#E5ECF6\", \"gridcolor\": \"white\", \"gridwidth\": 2, \"linecolor\": \"white\", \"showbackground\": true, \"ticks\": \"\", \"zerolinecolor\": \"white\"}, \"yaxis\": {\"backgroundcolor\": \"#E5ECF6\", \"gridcolor\": \"white\", \"gridwidth\": 2, \"linecolor\": \"white\", \"showbackground\": true, \"ticks\": \"\", \"zerolinecolor\": \"white\"}, \"zaxis\": {\"backgroundcolor\": \"#E5ECF6\", \"gridcolor\": \"white\", \"gridwidth\": 2, \"linecolor\": \"white\", \"showbackground\": true, \"ticks\": \"\", \"zerolinecolor\": \"white\"}}, \"shapedefaults\": {\"line\": {\"color\": \"#2a3f5f\"}}, \"ternary\": {\"aaxis\": {\"gridcolor\": \"white\", \"linecolor\": \"white\", \"ticks\": \"\"}, \"baxis\": {\"gridcolor\": \"white\", \"linecolor\": \"white\", \"ticks\": \"\"}, \"bgcolor\": \"#E5ECF6\", \"caxis\": {\"gridcolor\": \"white\", \"linecolor\": \"white\", \"ticks\": \"\"}}, \"title\": {\"x\": 0.05}, \"xaxis\": {\"automargin\": true, \"gridcolor\": \"white\", \"linecolor\": \"white\", \"ticks\": \"\", \"title\": {\"standoff\": 15}, \"zerolinecolor\": \"white\", \"zerolinewidth\": 2}, \"yaxis\": {\"automargin\": true, \"gridcolor\": \"white\", \"linecolor\": \"white\", \"ticks\": \"\", \"title\": {\"standoff\": 15}, \"zerolinecolor\": \"white\", \"zerolinewidth\": 2}}}, \"title\": {\"text\": \"Montly Sales\"}},                        {\"responsive\": true}                    ).then(function(){\n",
       "                            \n",
       "var gd = document.getElementById('4566b74e-9c67-45fe-852d-0788c29d256e');\n",
       "var x = new MutationObserver(function (mutations, observer) {{\n",
       "        var display = window.getComputedStyle(gd).display;\n",
       "        if (!display || display === 'none') {{\n",
       "            console.log([gd, 'removed!']);\n",
       "            Plotly.purge(gd);\n",
       "            observer.disconnect();\n",
       "        }}\n",
       "}});\n",
       "\n",
       "// Listen for the removal of the full notebook cells\n",
       "var notebookContainer = gd.closest('#notebook-container');\n",
       "if (notebookContainer) {{\n",
       "    x.observe(notebookContainer, {childList: true});\n",
       "}}\n",
       "\n",
       "// Listen for the clearing of the current output cell\n",
       "var outputEl = gd.closest('.output');\n",
       "if (outputEl) {{\n",
       "    x.observe(outputEl, {childList: true});\n",
       "}}\n",
       "\n",
       "                        })                };                });            </script>        </div>"
      ]
     },
     "metadata": {},
     "output_type": "display_data"
    }
   ],
   "source": [
    "#plt.figure(figsize=[15,6])\n",
    "#plt.plot(monthly_sales.date,monthly_sales.sales)\n",
    "#plt.show()\n",
    "import chart_studio.plotly.plotly as py\n",
    "import plotly.offline as pyoff\n",
    "import plotly.graph_objs as go\n",
    "plot_data = [\n",
    "    go.Scatter(\n",
    "        x=monthly_sales['date'],\n",
    "        y=monthly_sales['sales'],\n",
    "    )\n",
    "]\n",
    "plot_layout = go.Layout(\n",
    "        title='Montly Sales'\n",
    "    )\n",
    "fig = go.Figure(data=plot_data, layout=plot_layout)\n",
    "pyoff.iplot(fig)"
   ]
  },
  {
   "cell_type": "code",
   "execution_count": 103,
   "metadata": {},
   "outputs": [],
   "source": [
    "plt.style.use('fivethirtyeight')"
   ]
  },
  {
   "cell_type": "code",
   "execution_count": 104,
   "metadata": {},
   "outputs": [],
   "source": [
    "df_diff=monthly_sales.copy()"
   ]
  },
  {
   "cell_type": "code",
   "execution_count": 105,
   "metadata": {},
   "outputs": [
    {
     "data": {
      "text/html": [
       "<div>\n",
       "<style scoped>\n",
       "    .dataframe tbody tr th:only-of-type {\n",
       "        vertical-align: middle;\n",
       "    }\n",
       "\n",
       "    .dataframe tbody tr th {\n",
       "        vertical-align: top;\n",
       "    }\n",
       "\n",
       "    .dataframe thead th {\n",
       "        text-align: right;\n",
       "    }\n",
       "</style>\n",
       "<table border=\"1\" class=\"dataframe\">\n",
       "  <thead>\n",
       "    <tr style=\"text-align: right;\">\n",
       "      <th></th>\n",
       "      <th>date</th>\n",
       "      <th>sales</th>\n",
       "    </tr>\n",
       "  </thead>\n",
       "  <tbody>\n",
       "    <tr>\n",
       "      <th>0</th>\n",
       "      <td>2013-01-31</td>\n",
       "      <td>454904</td>\n",
       "    </tr>\n",
       "    <tr>\n",
       "      <th>1</th>\n",
       "      <td>2013-02-28</td>\n",
       "      <td>459417</td>\n",
       "    </tr>\n",
       "    <tr>\n",
       "      <th>2</th>\n",
       "      <td>2013-03-31</td>\n",
       "      <td>617382</td>\n",
       "    </tr>\n",
       "    <tr>\n",
       "      <th>3</th>\n",
       "      <td>2013-04-30</td>\n",
       "      <td>682274</td>\n",
       "    </tr>\n",
       "    <tr>\n",
       "      <th>4</th>\n",
       "      <td>2013-05-31</td>\n",
       "      <td>763242</td>\n",
       "    </tr>\n",
       "  </tbody>\n",
       "</table>\n",
       "</div>"
      ],
      "text/plain": [
       "        date   sales\n",
       "0 2013-01-31  454904\n",
       "1 2013-02-28  459417\n",
       "2 2013-03-31  617382\n",
       "3 2013-04-30  682274\n",
       "4 2013-05-31  763242"
      ]
     },
     "execution_count": 105,
     "metadata": {},
     "output_type": "execute_result"
    }
   ],
   "source": [
    "df_diff.head()"
   ]
  },
  {
   "cell_type": "code",
   "execution_count": 152,
   "metadata": {},
   "outputs": [
    {
     "data": {
      "text/html": [
       "<div>\n",
       "<style scoped>\n",
       "    .dataframe tbody tr th:only-of-type {\n",
       "        vertical-align: middle;\n",
       "    }\n",
       "\n",
       "    .dataframe tbody tr th {\n",
       "        vertical-align: top;\n",
       "    }\n",
       "\n",
       "    .dataframe thead th {\n",
       "        text-align: right;\n",
       "    }\n",
       "</style>\n",
       "<table border=\"1\" class=\"dataframe\">\n",
       "  <thead>\n",
       "    <tr style=\"text-align: right;\">\n",
       "      <th></th>\n",
       "      <th>date</th>\n",
       "      <th>sales</th>\n",
       "      <th>prev_sales</th>\n",
       "      <th>diff</th>\n",
       "    </tr>\n",
       "  </thead>\n",
       "  <tbody>\n",
       "    <tr>\n",
       "      <th>2</th>\n",
       "      <td>2013-03-31</td>\n",
       "      <td>617382</td>\n",
       "      <td>459417.0</td>\n",
       "      <td>157965.0</td>\n",
       "    </tr>\n",
       "    <tr>\n",
       "      <th>3</th>\n",
       "      <td>2013-04-30</td>\n",
       "      <td>682274</td>\n",
       "      <td>617382.0</td>\n",
       "      <td>64892.0</td>\n",
       "    </tr>\n",
       "    <tr>\n",
       "      <th>4</th>\n",
       "      <td>2013-05-31</td>\n",
       "      <td>763242</td>\n",
       "      <td>682274.0</td>\n",
       "      <td>80968.0</td>\n",
       "    </tr>\n",
       "    <tr>\n",
       "      <th>5</th>\n",
       "      <td>2013-06-30</td>\n",
       "      <td>795597</td>\n",
       "      <td>763242.0</td>\n",
       "      <td>32355.0</td>\n",
       "    </tr>\n",
       "    <tr>\n",
       "      <th>6</th>\n",
       "      <td>2013-07-31</td>\n",
       "      <td>855922</td>\n",
       "      <td>795597.0</td>\n",
       "      <td>60325.0</td>\n",
       "    </tr>\n",
       "    <tr>\n",
       "      <th>7</th>\n",
       "      <td>2013-08-31</td>\n",
       "      <td>766761</td>\n",
       "      <td>855922.0</td>\n",
       "      <td>-89161.0</td>\n",
       "    </tr>\n",
       "    <tr>\n",
       "      <th>8</th>\n",
       "      <td>2013-09-30</td>\n",
       "      <td>689907</td>\n",
       "      <td>766761.0</td>\n",
       "      <td>-76854.0</td>\n",
       "    </tr>\n",
       "    <tr>\n",
       "      <th>9</th>\n",
       "      <td>2013-10-31</td>\n",
       "      <td>656587</td>\n",
       "      <td>689907.0</td>\n",
       "      <td>-33320.0</td>\n",
       "    </tr>\n",
       "    <tr>\n",
       "      <th>10</th>\n",
       "      <td>2013-11-30</td>\n",
       "      <td>692643</td>\n",
       "      <td>656587.0</td>\n",
       "      <td>36056.0</td>\n",
       "    </tr>\n",
       "    <tr>\n",
       "      <th>11</th>\n",
       "      <td>2013-12-31</td>\n",
       "      <td>506607</td>\n",
       "      <td>692643.0</td>\n",
       "      <td>-186036.0</td>\n",
       "    </tr>\n",
       "    <tr>\n",
       "      <th>12</th>\n",
       "      <td>2014-01-31</td>\n",
       "      <td>525987</td>\n",
       "      <td>506607.0</td>\n",
       "      <td>19380.0</td>\n",
       "    </tr>\n",
       "    <tr>\n",
       "      <th>13</th>\n",
       "      <td>2014-02-28</td>\n",
       "      <td>529117</td>\n",
       "      <td>525987.0</td>\n",
       "      <td>3130.0</td>\n",
       "    </tr>\n",
       "    <tr>\n",
       "      <th>14</th>\n",
       "      <td>2014-03-31</td>\n",
       "      <td>704301</td>\n",
       "      <td>529117.0</td>\n",
       "      <td>175184.0</td>\n",
       "    </tr>\n",
       "    <tr>\n",
       "      <th>15</th>\n",
       "      <td>2014-04-30</td>\n",
       "      <td>788914</td>\n",
       "      <td>704301.0</td>\n",
       "      <td>84613.0</td>\n",
       "    </tr>\n",
       "    <tr>\n",
       "      <th>16</th>\n",
       "      <td>2014-05-31</td>\n",
       "      <td>882877</td>\n",
       "      <td>788914.0</td>\n",
       "      <td>93963.0</td>\n",
       "    </tr>\n",
       "    <tr>\n",
       "      <th>17</th>\n",
       "      <td>2014-06-30</td>\n",
       "      <td>906842</td>\n",
       "      <td>882877.0</td>\n",
       "      <td>23965.0</td>\n",
       "    </tr>\n",
       "    <tr>\n",
       "      <th>18</th>\n",
       "      <td>2014-07-31</td>\n",
       "      <td>989010</td>\n",
       "      <td>906842.0</td>\n",
       "      <td>82168.0</td>\n",
       "    </tr>\n",
       "    <tr>\n",
       "      <th>19</th>\n",
       "      <td>2014-08-31</td>\n",
       "      <td>885596</td>\n",
       "      <td>989010.0</td>\n",
       "      <td>-103414.0</td>\n",
       "    </tr>\n",
       "    <tr>\n",
       "      <th>20</th>\n",
       "      <td>2014-09-30</td>\n",
       "      <td>785124</td>\n",
       "      <td>885596.0</td>\n",
       "      <td>-100472.0</td>\n",
       "    </tr>\n",
       "    <tr>\n",
       "      <th>21</th>\n",
       "      <td>2014-10-31</td>\n",
       "      <td>758883</td>\n",
       "      <td>785124.0</td>\n",
       "      <td>-26241.0</td>\n",
       "    </tr>\n",
       "    <tr>\n",
       "      <th>22</th>\n",
       "      <td>2014-11-30</td>\n",
       "      <td>800783</td>\n",
       "      <td>758883.0</td>\n",
       "      <td>41900.0</td>\n",
       "    </tr>\n",
       "    <tr>\n",
       "      <th>23</th>\n",
       "      <td>2014-12-31</td>\n",
       "      <td>578048</td>\n",
       "      <td>800783.0</td>\n",
       "      <td>-222735.0</td>\n",
       "    </tr>\n",
       "    <tr>\n",
       "      <th>24</th>\n",
       "      <td>2015-01-31</td>\n",
       "      <td>552513</td>\n",
       "      <td>578048.0</td>\n",
       "      <td>-25535.0</td>\n",
       "    </tr>\n",
       "    <tr>\n",
       "      <th>25</th>\n",
       "      <td>2015-02-28</td>\n",
       "      <td>551317</td>\n",
       "      <td>552513.0</td>\n",
       "      <td>-1196.0</td>\n",
       "    </tr>\n",
       "    <tr>\n",
       "      <th>26</th>\n",
       "      <td>2015-03-31</td>\n",
       "      <td>730951</td>\n",
       "      <td>551317.0</td>\n",
       "      <td>179634.0</td>\n",
       "    </tr>\n",
       "    <tr>\n",
       "      <th>27</th>\n",
       "      <td>2015-04-30</td>\n",
       "      <td>824467</td>\n",
       "      <td>730951.0</td>\n",
       "      <td>93516.0</td>\n",
       "    </tr>\n",
       "    <tr>\n",
       "      <th>28</th>\n",
       "      <td>2015-05-31</td>\n",
       "      <td>926902</td>\n",
       "      <td>824467.0</td>\n",
       "      <td>102435.0</td>\n",
       "    </tr>\n",
       "    <tr>\n",
       "      <th>29</th>\n",
       "      <td>2015-06-30</td>\n",
       "      <td>937184</td>\n",
       "      <td>926902.0</td>\n",
       "      <td>10282.0</td>\n",
       "    </tr>\n",
       "    <tr>\n",
       "      <th>30</th>\n",
       "      <td>2015-07-31</td>\n",
       "      <td>1037350</td>\n",
       "      <td>937184.0</td>\n",
       "      <td>100166.0</td>\n",
       "    </tr>\n",
       "    <tr>\n",
       "      <th>31</th>\n",
       "      <td>2015-08-31</td>\n",
       "      <td>920401</td>\n",
       "      <td>1037350.0</td>\n",
       "      <td>-116949.0</td>\n",
       "    </tr>\n",
       "    <tr>\n",
       "      <th>32</th>\n",
       "      <td>2015-09-30</td>\n",
       "      <td>823332</td>\n",
       "      <td>920401.0</td>\n",
       "      <td>-97069.0</td>\n",
       "    </tr>\n",
       "    <tr>\n",
       "      <th>33</th>\n",
       "      <td>2015-10-31</td>\n",
       "      <td>797253</td>\n",
       "      <td>823332.0</td>\n",
       "      <td>-26079.0</td>\n",
       "    </tr>\n",
       "    <tr>\n",
       "      <th>34</th>\n",
       "      <td>2015-11-30</td>\n",
       "      <td>827645</td>\n",
       "      <td>797253.0</td>\n",
       "      <td>30392.0</td>\n",
       "    </tr>\n",
       "    <tr>\n",
       "      <th>35</th>\n",
       "      <td>2015-12-31</td>\n",
       "      <td>607572</td>\n",
       "      <td>827645.0</td>\n",
       "      <td>-220073.0</td>\n",
       "    </tr>\n",
       "    <tr>\n",
       "      <th>36</th>\n",
       "      <td>2016-01-31</td>\n",
       "      <td>602439</td>\n",
       "      <td>607572.0</td>\n",
       "      <td>-5133.0</td>\n",
       "    </tr>\n",
       "    <tr>\n",
       "      <th>37</th>\n",
       "      <td>2016-02-29</td>\n",
       "      <td>614957</td>\n",
       "      <td>602439.0</td>\n",
       "      <td>12518.0</td>\n",
       "    </tr>\n",
       "    <tr>\n",
       "      <th>38</th>\n",
       "      <td>2016-03-31</td>\n",
       "      <td>790881</td>\n",
       "      <td>614957.0</td>\n",
       "      <td>175924.0</td>\n",
       "    </tr>\n",
       "    <tr>\n",
       "      <th>39</th>\n",
       "      <td>2016-04-30</td>\n",
       "      <td>901950</td>\n",
       "      <td>790881.0</td>\n",
       "      <td>111069.0</td>\n",
       "    </tr>\n",
       "    <tr>\n",
       "      <th>40</th>\n",
       "      <td>2016-05-31</td>\n",
       "      <td>988730</td>\n",
       "      <td>901950.0</td>\n",
       "      <td>86780.0</td>\n",
       "    </tr>\n",
       "    <tr>\n",
       "      <th>41</th>\n",
       "      <td>2016-06-30</td>\n",
       "      <td>1022664</td>\n",
       "      <td>988730.0</td>\n",
       "      <td>33934.0</td>\n",
       "    </tr>\n",
       "    <tr>\n",
       "      <th>42</th>\n",
       "      <td>2016-07-31</td>\n",
       "      <td>1138718</td>\n",
       "      <td>1022664.0</td>\n",
       "      <td>116054.0</td>\n",
       "    </tr>\n",
       "    <tr>\n",
       "      <th>43</th>\n",
       "      <td>2016-08-31</td>\n",
       "      <td>981494</td>\n",
       "      <td>1138718.0</td>\n",
       "      <td>-157224.0</td>\n",
       "    </tr>\n",
       "    <tr>\n",
       "      <th>44</th>\n",
       "      <td>2016-09-30</td>\n",
       "      <td>896831</td>\n",
       "      <td>981494.0</td>\n",
       "      <td>-84663.0</td>\n",
       "    </tr>\n",
       "    <tr>\n",
       "      <th>45</th>\n",
       "      <td>2016-10-31</td>\n",
       "      <td>863637</td>\n",
       "      <td>896831.0</td>\n",
       "      <td>-33194.0</td>\n",
       "    </tr>\n",
       "    <tr>\n",
       "      <th>46</th>\n",
       "      <td>2016-11-30</td>\n",
       "      <td>891448</td>\n",
       "      <td>863637.0</td>\n",
       "      <td>27811.0</td>\n",
       "    </tr>\n",
       "    <tr>\n",
       "      <th>47</th>\n",
       "      <td>2016-12-31</td>\n",
       "      <td>663411</td>\n",
       "      <td>891448.0</td>\n",
       "      <td>-228037.0</td>\n",
       "    </tr>\n",
       "    <tr>\n",
       "      <th>48</th>\n",
       "      <td>2017-01-31</td>\n",
       "      <td>617306</td>\n",
       "      <td>663411.0</td>\n",
       "      <td>-46105.0</td>\n",
       "    </tr>\n",
       "    <tr>\n",
       "      <th>49</th>\n",
       "      <td>2017-02-28</td>\n",
       "      <td>621369</td>\n",
       "      <td>617306.0</td>\n",
       "      <td>4063.0</td>\n",
       "    </tr>\n",
       "    <tr>\n",
       "      <th>50</th>\n",
       "      <td>2017-03-31</td>\n",
       "      <td>822667</td>\n",
       "      <td>621369.0</td>\n",
       "      <td>201298.0</td>\n",
       "    </tr>\n",
       "    <tr>\n",
       "      <th>51</th>\n",
       "      <td>2017-04-30</td>\n",
       "      <td>938862</td>\n",
       "      <td>822667.0</td>\n",
       "      <td>116195.0</td>\n",
       "    </tr>\n",
       "    <tr>\n",
       "      <th>52</th>\n",
       "      <td>2017-05-31</td>\n",
       "      <td>1020686</td>\n",
       "      <td>938862.0</td>\n",
       "      <td>81824.0</td>\n",
       "    </tr>\n",
       "    <tr>\n",
       "      <th>53</th>\n",
       "      <td>2017-06-30</td>\n",
       "      <td>1064624</td>\n",
       "      <td>1020686.0</td>\n",
       "      <td>43938.0</td>\n",
       "    </tr>\n",
       "    <tr>\n",
       "      <th>54</th>\n",
       "      <td>2017-07-31</td>\n",
       "      <td>1171393</td>\n",
       "      <td>1064624.0</td>\n",
       "      <td>106769.0</td>\n",
       "    </tr>\n",
       "    <tr>\n",
       "      <th>55</th>\n",
       "      <td>2017-08-31</td>\n",
       "      <td>1026403</td>\n",
       "      <td>1171393.0</td>\n",
       "      <td>-144990.0</td>\n",
       "    </tr>\n",
       "    <tr>\n",
       "      <th>56</th>\n",
       "      <td>2017-09-30</td>\n",
       "      <td>935263</td>\n",
       "      <td>1026403.0</td>\n",
       "      <td>-91140.0</td>\n",
       "    </tr>\n",
       "    <tr>\n",
       "      <th>57</th>\n",
       "      <td>2017-10-31</td>\n",
       "      <td>891160</td>\n",
       "      <td>935263.0</td>\n",
       "      <td>-44103.0</td>\n",
       "    </tr>\n",
       "    <tr>\n",
       "      <th>58</th>\n",
       "      <td>2017-11-30</td>\n",
       "      <td>928837</td>\n",
       "      <td>891160.0</td>\n",
       "      <td>37677.0</td>\n",
       "    </tr>\n",
       "    <tr>\n",
       "      <th>59</th>\n",
       "      <td>2017-12-31</td>\n",
       "      <td>695170</td>\n",
       "      <td>928837.0</td>\n",
       "      <td>-233667.0</td>\n",
       "    </tr>\n",
       "  </tbody>\n",
       "</table>\n",
       "</div>"
      ],
      "text/plain": [
       "         date    sales  prev_sales      diff\n",
       "2  2013-03-31   617382    459417.0  157965.0\n",
       "3  2013-04-30   682274    617382.0   64892.0\n",
       "4  2013-05-31   763242    682274.0   80968.0\n",
       "5  2013-06-30   795597    763242.0   32355.0\n",
       "6  2013-07-31   855922    795597.0   60325.0\n",
       "7  2013-08-31   766761    855922.0  -89161.0\n",
       "8  2013-09-30   689907    766761.0  -76854.0\n",
       "9  2013-10-31   656587    689907.0  -33320.0\n",
       "10 2013-11-30   692643    656587.0   36056.0\n",
       "11 2013-12-31   506607    692643.0 -186036.0\n",
       "12 2014-01-31   525987    506607.0   19380.0\n",
       "13 2014-02-28   529117    525987.0    3130.0\n",
       "14 2014-03-31   704301    529117.0  175184.0\n",
       "15 2014-04-30   788914    704301.0   84613.0\n",
       "16 2014-05-31   882877    788914.0   93963.0\n",
       "17 2014-06-30   906842    882877.0   23965.0\n",
       "18 2014-07-31   989010    906842.0   82168.0\n",
       "19 2014-08-31   885596    989010.0 -103414.0\n",
       "20 2014-09-30   785124    885596.0 -100472.0\n",
       "21 2014-10-31   758883    785124.0  -26241.0\n",
       "22 2014-11-30   800783    758883.0   41900.0\n",
       "23 2014-12-31   578048    800783.0 -222735.0\n",
       "24 2015-01-31   552513    578048.0  -25535.0\n",
       "25 2015-02-28   551317    552513.0   -1196.0\n",
       "26 2015-03-31   730951    551317.0  179634.0\n",
       "27 2015-04-30   824467    730951.0   93516.0\n",
       "28 2015-05-31   926902    824467.0  102435.0\n",
       "29 2015-06-30   937184    926902.0   10282.0\n",
       "30 2015-07-31  1037350    937184.0  100166.0\n",
       "31 2015-08-31   920401   1037350.0 -116949.0\n",
       "32 2015-09-30   823332    920401.0  -97069.0\n",
       "33 2015-10-31   797253    823332.0  -26079.0\n",
       "34 2015-11-30   827645    797253.0   30392.0\n",
       "35 2015-12-31   607572    827645.0 -220073.0\n",
       "36 2016-01-31   602439    607572.0   -5133.0\n",
       "37 2016-02-29   614957    602439.0   12518.0\n",
       "38 2016-03-31   790881    614957.0  175924.0\n",
       "39 2016-04-30   901950    790881.0  111069.0\n",
       "40 2016-05-31   988730    901950.0   86780.0\n",
       "41 2016-06-30  1022664    988730.0   33934.0\n",
       "42 2016-07-31  1138718   1022664.0  116054.0\n",
       "43 2016-08-31   981494   1138718.0 -157224.0\n",
       "44 2016-09-30   896831    981494.0  -84663.0\n",
       "45 2016-10-31   863637    896831.0  -33194.0\n",
       "46 2016-11-30   891448    863637.0   27811.0\n",
       "47 2016-12-31   663411    891448.0 -228037.0\n",
       "48 2017-01-31   617306    663411.0  -46105.0\n",
       "49 2017-02-28   621369    617306.0    4063.0\n",
       "50 2017-03-31   822667    621369.0  201298.0\n",
       "51 2017-04-30   938862    822667.0  116195.0\n",
       "52 2017-05-31  1020686    938862.0   81824.0\n",
       "53 2017-06-30  1064624   1020686.0   43938.0\n",
       "54 2017-07-31  1171393   1064624.0  106769.0\n",
       "55 2017-08-31  1026403   1171393.0 -144990.0\n",
       "56 2017-09-30   935263   1026403.0  -91140.0\n",
       "57 2017-10-31   891160    935263.0  -44103.0\n",
       "58 2017-11-30   928837    891160.0   37677.0\n",
       "59 2017-12-31   695170    928837.0 -233667.0"
      ]
     },
     "execution_count": 152,
     "metadata": {},
     "output_type": "execute_result"
    }
   ],
   "source": [
    "df_diff['prev_sales']=df_diff['sales'].shift(1)\n",
    "df_diff.dropna(inplace=True)\n",
    "\n",
    "df_diff"
   ]
  },
  {
   "cell_type": "code",
   "execution_count": 107,
   "metadata": {},
   "outputs": [],
   "source": [
    "df_diff['diff']=df_diff['sales']-df_diff['prev_sales']"
   ]
  },
  {
   "cell_type": "code",
   "execution_count": 108,
   "metadata": {},
   "outputs": [
    {
     "data": {
      "text/html": [
       "<div>\n",
       "<style scoped>\n",
       "    .dataframe tbody tr th:only-of-type {\n",
       "        vertical-align: middle;\n",
       "    }\n",
       "\n",
       "    .dataframe tbody tr th {\n",
       "        vertical-align: top;\n",
       "    }\n",
       "\n",
       "    .dataframe thead th {\n",
       "        text-align: right;\n",
       "    }\n",
       "</style>\n",
       "<table border=\"1\" class=\"dataframe\">\n",
       "  <thead>\n",
       "    <tr style=\"text-align: right;\">\n",
       "      <th></th>\n",
       "      <th>date</th>\n",
       "      <th>sales</th>\n",
       "      <th>prev_sales</th>\n",
       "      <th>diff</th>\n",
       "    </tr>\n",
       "  </thead>\n",
       "  <tbody>\n",
       "    <tr>\n",
       "      <th>1</th>\n",
       "      <td>2013-02-28</td>\n",
       "      <td>459417</td>\n",
       "      <td>454904.0</td>\n",
       "      <td>4513.0</td>\n",
       "    </tr>\n",
       "    <tr>\n",
       "      <th>2</th>\n",
       "      <td>2013-03-31</td>\n",
       "      <td>617382</td>\n",
       "      <td>459417.0</td>\n",
       "      <td>157965.0</td>\n",
       "    </tr>\n",
       "    <tr>\n",
       "      <th>3</th>\n",
       "      <td>2013-04-30</td>\n",
       "      <td>682274</td>\n",
       "      <td>617382.0</td>\n",
       "      <td>64892.0</td>\n",
       "    </tr>\n",
       "    <tr>\n",
       "      <th>4</th>\n",
       "      <td>2013-05-31</td>\n",
       "      <td>763242</td>\n",
       "      <td>682274.0</td>\n",
       "      <td>80968.0</td>\n",
       "    </tr>\n",
       "    <tr>\n",
       "      <th>5</th>\n",
       "      <td>2013-06-30</td>\n",
       "      <td>795597</td>\n",
       "      <td>763242.0</td>\n",
       "      <td>32355.0</td>\n",
       "    </tr>\n",
       "  </tbody>\n",
       "</table>\n",
       "</div>"
      ],
      "text/plain": [
       "        date   sales  prev_sales      diff\n",
       "1 2013-02-28  459417    454904.0    4513.0\n",
       "2 2013-03-31  617382    459417.0  157965.0\n",
       "3 2013-04-30  682274    617382.0   64892.0\n",
       "4 2013-05-31  763242    682274.0   80968.0\n",
       "5 2013-06-30  795597    763242.0   32355.0"
      ]
     },
     "execution_count": 108,
     "metadata": {},
     "output_type": "execute_result"
    }
   ],
   "source": [
    "df_diff.head()"
   ]
  },
  {
   "cell_type": "code",
   "execution_count": 109,
   "metadata": {},
   "outputs": [
    {
     "data": {
      "application/vnd.plotly.v1+json": {
       "config": {
        "linkText": "Export to plot.ly",
        "plotlyServerURL": "https://plot.ly",
        "showLink": false
       },
       "data": [
        {
         "type": "scatter",
         "x": [
          "2013-02-28T00:00:00",
          "2013-03-31T00:00:00",
          "2013-04-30T00:00:00",
          "2013-05-31T00:00:00",
          "2013-06-30T00:00:00",
          "2013-07-31T00:00:00",
          "2013-08-31T00:00:00",
          "2013-09-30T00:00:00",
          "2013-10-31T00:00:00",
          "2013-11-30T00:00:00",
          "2013-12-31T00:00:00",
          "2014-01-31T00:00:00",
          "2014-02-28T00:00:00",
          "2014-03-31T00:00:00",
          "2014-04-30T00:00:00",
          "2014-05-31T00:00:00",
          "2014-06-30T00:00:00",
          "2014-07-31T00:00:00",
          "2014-08-31T00:00:00",
          "2014-09-30T00:00:00",
          "2014-10-31T00:00:00",
          "2014-11-30T00:00:00",
          "2014-12-31T00:00:00",
          "2015-01-31T00:00:00",
          "2015-02-28T00:00:00",
          "2015-03-31T00:00:00",
          "2015-04-30T00:00:00",
          "2015-05-31T00:00:00",
          "2015-06-30T00:00:00",
          "2015-07-31T00:00:00",
          "2015-08-31T00:00:00",
          "2015-09-30T00:00:00",
          "2015-10-31T00:00:00",
          "2015-11-30T00:00:00",
          "2015-12-31T00:00:00",
          "2016-01-31T00:00:00",
          "2016-02-29T00:00:00",
          "2016-03-31T00:00:00",
          "2016-04-30T00:00:00",
          "2016-05-31T00:00:00",
          "2016-06-30T00:00:00",
          "2016-07-31T00:00:00",
          "2016-08-31T00:00:00",
          "2016-09-30T00:00:00",
          "2016-10-31T00:00:00",
          "2016-11-30T00:00:00",
          "2016-12-31T00:00:00",
          "2017-01-31T00:00:00",
          "2017-02-28T00:00:00",
          "2017-03-31T00:00:00",
          "2017-04-30T00:00:00",
          "2017-05-31T00:00:00",
          "2017-06-30T00:00:00",
          "2017-07-31T00:00:00",
          "2017-08-31T00:00:00",
          "2017-09-30T00:00:00",
          "2017-10-31T00:00:00",
          "2017-11-30T00:00:00",
          "2017-12-31T00:00:00"
         ],
         "y": [
          4513,
          157965,
          64892,
          80968,
          32355,
          60325,
          -89161,
          -76854,
          -33320,
          36056,
          -186036,
          19380,
          3130,
          175184,
          84613,
          93963,
          23965,
          82168,
          -103414,
          -100472,
          -26241,
          41900,
          -222735,
          -25535,
          -1196,
          179634,
          93516,
          102435,
          10282,
          100166,
          -116949,
          -97069,
          -26079,
          30392,
          -220073,
          -5133,
          12518,
          175924,
          111069,
          86780,
          33934,
          116054,
          -157224,
          -84663,
          -33194,
          27811,
          -228037,
          -46105,
          4063,
          201298,
          116195,
          81824,
          43938,
          106769,
          -144990,
          -91140,
          -44103,
          37677,
          -233667
         ]
        }
       ],
       "layout": {
        "template": {
         "data": {
          "bar": [
           {
            "error_x": {
             "color": "#2a3f5f"
            },
            "error_y": {
             "color": "#2a3f5f"
            },
            "marker": {
             "line": {
              "color": "#E5ECF6",
              "width": 0.5
             }
            },
            "type": "bar"
           }
          ],
          "barpolar": [
           {
            "marker": {
             "line": {
              "color": "#E5ECF6",
              "width": 0.5
             }
            },
            "type": "barpolar"
           }
          ],
          "carpet": [
           {
            "aaxis": {
             "endlinecolor": "#2a3f5f",
             "gridcolor": "white",
             "linecolor": "white",
             "minorgridcolor": "white",
             "startlinecolor": "#2a3f5f"
            },
            "baxis": {
             "endlinecolor": "#2a3f5f",
             "gridcolor": "white",
             "linecolor": "white",
             "minorgridcolor": "white",
             "startlinecolor": "#2a3f5f"
            },
            "type": "carpet"
           }
          ],
          "choropleth": [
           {
            "colorbar": {
             "outlinewidth": 0,
             "ticks": ""
            },
            "type": "choropleth"
           }
          ],
          "contour": [
           {
            "colorbar": {
             "outlinewidth": 0,
             "ticks": ""
            },
            "colorscale": [
             [
              0,
              "#0d0887"
             ],
             [
              0.1111111111111111,
              "#46039f"
             ],
             [
              0.2222222222222222,
              "#7201a8"
             ],
             [
              0.3333333333333333,
              "#9c179e"
             ],
             [
              0.4444444444444444,
              "#bd3786"
             ],
             [
              0.5555555555555556,
              "#d8576b"
             ],
             [
              0.6666666666666666,
              "#ed7953"
             ],
             [
              0.7777777777777778,
              "#fb9f3a"
             ],
             [
              0.8888888888888888,
              "#fdca26"
             ],
             [
              1,
              "#f0f921"
             ]
            ],
            "type": "contour"
           }
          ],
          "contourcarpet": [
           {
            "colorbar": {
             "outlinewidth": 0,
             "ticks": ""
            },
            "type": "contourcarpet"
           }
          ],
          "heatmap": [
           {
            "colorbar": {
             "outlinewidth": 0,
             "ticks": ""
            },
            "colorscale": [
             [
              0,
              "#0d0887"
             ],
             [
              0.1111111111111111,
              "#46039f"
             ],
             [
              0.2222222222222222,
              "#7201a8"
             ],
             [
              0.3333333333333333,
              "#9c179e"
             ],
             [
              0.4444444444444444,
              "#bd3786"
             ],
             [
              0.5555555555555556,
              "#d8576b"
             ],
             [
              0.6666666666666666,
              "#ed7953"
             ],
             [
              0.7777777777777778,
              "#fb9f3a"
             ],
             [
              0.8888888888888888,
              "#fdca26"
             ],
             [
              1,
              "#f0f921"
             ]
            ],
            "type": "heatmap"
           }
          ],
          "heatmapgl": [
           {
            "colorbar": {
             "outlinewidth": 0,
             "ticks": ""
            },
            "colorscale": [
             [
              0,
              "#0d0887"
             ],
             [
              0.1111111111111111,
              "#46039f"
             ],
             [
              0.2222222222222222,
              "#7201a8"
             ],
             [
              0.3333333333333333,
              "#9c179e"
             ],
             [
              0.4444444444444444,
              "#bd3786"
             ],
             [
              0.5555555555555556,
              "#d8576b"
             ],
             [
              0.6666666666666666,
              "#ed7953"
             ],
             [
              0.7777777777777778,
              "#fb9f3a"
             ],
             [
              0.8888888888888888,
              "#fdca26"
             ],
             [
              1,
              "#f0f921"
             ]
            ],
            "type": "heatmapgl"
           }
          ],
          "histogram": [
           {
            "marker": {
             "colorbar": {
              "outlinewidth": 0,
              "ticks": ""
             }
            },
            "type": "histogram"
           }
          ],
          "histogram2d": [
           {
            "colorbar": {
             "outlinewidth": 0,
             "ticks": ""
            },
            "colorscale": [
             [
              0,
              "#0d0887"
             ],
             [
              0.1111111111111111,
              "#46039f"
             ],
             [
              0.2222222222222222,
              "#7201a8"
             ],
             [
              0.3333333333333333,
              "#9c179e"
             ],
             [
              0.4444444444444444,
              "#bd3786"
             ],
             [
              0.5555555555555556,
              "#d8576b"
             ],
             [
              0.6666666666666666,
              "#ed7953"
             ],
             [
              0.7777777777777778,
              "#fb9f3a"
             ],
             [
              0.8888888888888888,
              "#fdca26"
             ],
             [
              1,
              "#f0f921"
             ]
            ],
            "type": "histogram2d"
           }
          ],
          "histogram2dcontour": [
           {
            "colorbar": {
             "outlinewidth": 0,
             "ticks": ""
            },
            "colorscale": [
             [
              0,
              "#0d0887"
             ],
             [
              0.1111111111111111,
              "#46039f"
             ],
             [
              0.2222222222222222,
              "#7201a8"
             ],
             [
              0.3333333333333333,
              "#9c179e"
             ],
             [
              0.4444444444444444,
              "#bd3786"
             ],
             [
              0.5555555555555556,
              "#d8576b"
             ],
             [
              0.6666666666666666,
              "#ed7953"
             ],
             [
              0.7777777777777778,
              "#fb9f3a"
             ],
             [
              0.8888888888888888,
              "#fdca26"
             ],
             [
              1,
              "#f0f921"
             ]
            ],
            "type": "histogram2dcontour"
           }
          ],
          "mesh3d": [
           {
            "colorbar": {
             "outlinewidth": 0,
             "ticks": ""
            },
            "type": "mesh3d"
           }
          ],
          "parcoords": [
           {
            "line": {
             "colorbar": {
              "outlinewidth": 0,
              "ticks": ""
             }
            },
            "type": "parcoords"
           }
          ],
          "pie": [
           {
            "automargin": true,
            "type": "pie"
           }
          ],
          "scatter": [
           {
            "marker": {
             "colorbar": {
              "outlinewidth": 0,
              "ticks": ""
             }
            },
            "type": "scatter"
           }
          ],
          "scatter3d": [
           {
            "line": {
             "colorbar": {
              "outlinewidth": 0,
              "ticks": ""
             }
            },
            "marker": {
             "colorbar": {
              "outlinewidth": 0,
              "ticks": ""
             }
            },
            "type": "scatter3d"
           }
          ],
          "scattercarpet": [
           {
            "marker": {
             "colorbar": {
              "outlinewidth": 0,
              "ticks": ""
             }
            },
            "type": "scattercarpet"
           }
          ],
          "scattergeo": [
           {
            "marker": {
             "colorbar": {
              "outlinewidth": 0,
              "ticks": ""
             }
            },
            "type": "scattergeo"
           }
          ],
          "scattergl": [
           {
            "marker": {
             "colorbar": {
              "outlinewidth": 0,
              "ticks": ""
             }
            },
            "type": "scattergl"
           }
          ],
          "scattermapbox": [
           {
            "marker": {
             "colorbar": {
              "outlinewidth": 0,
              "ticks": ""
             }
            },
            "type": "scattermapbox"
           }
          ],
          "scatterpolar": [
           {
            "marker": {
             "colorbar": {
              "outlinewidth": 0,
              "ticks": ""
             }
            },
            "type": "scatterpolar"
           }
          ],
          "scatterpolargl": [
           {
            "marker": {
             "colorbar": {
              "outlinewidth": 0,
              "ticks": ""
             }
            },
            "type": "scatterpolargl"
           }
          ],
          "scatterternary": [
           {
            "marker": {
             "colorbar": {
              "outlinewidth": 0,
              "ticks": ""
             }
            },
            "type": "scatterternary"
           }
          ],
          "surface": [
           {
            "colorbar": {
             "outlinewidth": 0,
             "ticks": ""
            },
            "colorscale": [
             [
              0,
              "#0d0887"
             ],
             [
              0.1111111111111111,
              "#46039f"
             ],
             [
              0.2222222222222222,
              "#7201a8"
             ],
             [
              0.3333333333333333,
              "#9c179e"
             ],
             [
              0.4444444444444444,
              "#bd3786"
             ],
             [
              0.5555555555555556,
              "#d8576b"
             ],
             [
              0.6666666666666666,
              "#ed7953"
             ],
             [
              0.7777777777777778,
              "#fb9f3a"
             ],
             [
              0.8888888888888888,
              "#fdca26"
             ],
             [
              1,
              "#f0f921"
             ]
            ],
            "type": "surface"
           }
          ],
          "table": [
           {
            "cells": {
             "fill": {
              "color": "#EBF0F8"
             },
             "line": {
              "color": "white"
             }
            },
            "header": {
             "fill": {
              "color": "#C8D4E3"
             },
             "line": {
              "color": "white"
             }
            },
            "type": "table"
           }
          ]
         },
         "layout": {
          "annotationdefaults": {
           "arrowcolor": "#2a3f5f",
           "arrowhead": 0,
           "arrowwidth": 1
          },
          "coloraxis": {
           "colorbar": {
            "outlinewidth": 0,
            "ticks": ""
           }
          },
          "colorscale": {
           "diverging": [
            [
             0,
             "#8e0152"
            ],
            [
             0.1,
             "#c51b7d"
            ],
            [
             0.2,
             "#de77ae"
            ],
            [
             0.3,
             "#f1b6da"
            ],
            [
             0.4,
             "#fde0ef"
            ],
            [
             0.5,
             "#f7f7f7"
            ],
            [
             0.6,
             "#e6f5d0"
            ],
            [
             0.7,
             "#b8e186"
            ],
            [
             0.8,
             "#7fbc41"
            ],
            [
             0.9,
             "#4d9221"
            ],
            [
             1,
             "#276419"
            ]
           ],
           "sequential": [
            [
             0,
             "#0d0887"
            ],
            [
             0.1111111111111111,
             "#46039f"
            ],
            [
             0.2222222222222222,
             "#7201a8"
            ],
            [
             0.3333333333333333,
             "#9c179e"
            ],
            [
             0.4444444444444444,
             "#bd3786"
            ],
            [
             0.5555555555555556,
             "#d8576b"
            ],
            [
             0.6666666666666666,
             "#ed7953"
            ],
            [
             0.7777777777777778,
             "#fb9f3a"
            ],
            [
             0.8888888888888888,
             "#fdca26"
            ],
            [
             1,
             "#f0f921"
            ]
           ],
           "sequentialminus": [
            [
             0,
             "#0d0887"
            ],
            [
             0.1111111111111111,
             "#46039f"
            ],
            [
             0.2222222222222222,
             "#7201a8"
            ],
            [
             0.3333333333333333,
             "#9c179e"
            ],
            [
             0.4444444444444444,
             "#bd3786"
            ],
            [
             0.5555555555555556,
             "#d8576b"
            ],
            [
             0.6666666666666666,
             "#ed7953"
            ],
            [
             0.7777777777777778,
             "#fb9f3a"
            ],
            [
             0.8888888888888888,
             "#fdca26"
            ],
            [
             1,
             "#f0f921"
            ]
           ]
          },
          "colorway": [
           "#636efa",
           "#EF553B",
           "#00cc96",
           "#ab63fa",
           "#FFA15A",
           "#19d3f3",
           "#FF6692",
           "#B6E880",
           "#FF97FF",
           "#FECB52"
          ],
          "font": {
           "color": "#2a3f5f"
          },
          "geo": {
           "bgcolor": "white",
           "lakecolor": "white",
           "landcolor": "#E5ECF6",
           "showlakes": true,
           "showland": true,
           "subunitcolor": "white"
          },
          "hoverlabel": {
           "align": "left"
          },
          "hovermode": "closest",
          "mapbox": {
           "style": "light"
          },
          "paper_bgcolor": "white",
          "plot_bgcolor": "#E5ECF6",
          "polar": {
           "angularaxis": {
            "gridcolor": "white",
            "linecolor": "white",
            "ticks": ""
           },
           "bgcolor": "#E5ECF6",
           "radialaxis": {
            "gridcolor": "white",
            "linecolor": "white",
            "ticks": ""
           }
          },
          "scene": {
           "xaxis": {
            "backgroundcolor": "#E5ECF6",
            "gridcolor": "white",
            "gridwidth": 2,
            "linecolor": "white",
            "showbackground": true,
            "ticks": "",
            "zerolinecolor": "white"
           },
           "yaxis": {
            "backgroundcolor": "#E5ECF6",
            "gridcolor": "white",
            "gridwidth": 2,
            "linecolor": "white",
            "showbackground": true,
            "ticks": "",
            "zerolinecolor": "white"
           },
           "zaxis": {
            "backgroundcolor": "#E5ECF6",
            "gridcolor": "white",
            "gridwidth": 2,
            "linecolor": "white",
            "showbackground": true,
            "ticks": "",
            "zerolinecolor": "white"
           }
          },
          "shapedefaults": {
           "line": {
            "color": "#2a3f5f"
           }
          },
          "ternary": {
           "aaxis": {
            "gridcolor": "white",
            "linecolor": "white",
            "ticks": ""
           },
           "baxis": {
            "gridcolor": "white",
            "linecolor": "white",
            "ticks": ""
           },
           "bgcolor": "#E5ECF6",
           "caxis": {
            "gridcolor": "white",
            "linecolor": "white",
            "ticks": ""
           }
          },
          "title": {
           "x": 0.05
          },
          "xaxis": {
           "automargin": true,
           "gridcolor": "white",
           "linecolor": "white",
           "ticks": "",
           "title": {
            "standoff": 15
           },
           "zerolinecolor": "white",
           "zerolinewidth": 2
          },
          "yaxis": {
           "automargin": true,
           "gridcolor": "white",
           "linecolor": "white",
           "ticks": "",
           "title": {
            "standoff": 15
           },
           "zerolinecolor": "white",
           "zerolinewidth": 2
          }
         }
        },
        "title": {
         "text": "Montly Sales Difference"
        }
       }
      },
      "text/html": [
       "<div>                            <div id=\"2a5d0aee-5c6a-421c-97b4-451660e0ee2e\" class=\"plotly-graph-div\" style=\"height:525px; width:100%;\"></div>            <script type=\"text/javascript\">                require([\"plotly\"], function(Plotly) {                    window.PLOTLYENV=window.PLOTLYENV || {};                                    if (document.getElementById(\"2a5d0aee-5c6a-421c-97b4-451660e0ee2e\")) {                    Plotly.newPlot(                        \"2a5d0aee-5c6a-421c-97b4-451660e0ee2e\",                        [{\"type\": \"scatter\", \"x\": [\"2013-02-28T00:00:00\", \"2013-03-31T00:00:00\", \"2013-04-30T00:00:00\", \"2013-05-31T00:00:00\", \"2013-06-30T00:00:00\", \"2013-07-31T00:00:00\", \"2013-08-31T00:00:00\", \"2013-09-30T00:00:00\", \"2013-10-31T00:00:00\", \"2013-11-30T00:00:00\", \"2013-12-31T00:00:00\", \"2014-01-31T00:00:00\", \"2014-02-28T00:00:00\", \"2014-03-31T00:00:00\", \"2014-04-30T00:00:00\", \"2014-05-31T00:00:00\", \"2014-06-30T00:00:00\", \"2014-07-31T00:00:00\", \"2014-08-31T00:00:00\", \"2014-09-30T00:00:00\", \"2014-10-31T00:00:00\", \"2014-11-30T00:00:00\", \"2014-12-31T00:00:00\", \"2015-01-31T00:00:00\", \"2015-02-28T00:00:00\", \"2015-03-31T00:00:00\", \"2015-04-30T00:00:00\", \"2015-05-31T00:00:00\", \"2015-06-30T00:00:00\", \"2015-07-31T00:00:00\", \"2015-08-31T00:00:00\", \"2015-09-30T00:00:00\", \"2015-10-31T00:00:00\", \"2015-11-30T00:00:00\", \"2015-12-31T00:00:00\", \"2016-01-31T00:00:00\", \"2016-02-29T00:00:00\", \"2016-03-31T00:00:00\", \"2016-04-30T00:00:00\", \"2016-05-31T00:00:00\", \"2016-06-30T00:00:00\", \"2016-07-31T00:00:00\", \"2016-08-31T00:00:00\", \"2016-09-30T00:00:00\", \"2016-10-31T00:00:00\", \"2016-11-30T00:00:00\", \"2016-12-31T00:00:00\", \"2017-01-31T00:00:00\", \"2017-02-28T00:00:00\", \"2017-03-31T00:00:00\", \"2017-04-30T00:00:00\", \"2017-05-31T00:00:00\", \"2017-06-30T00:00:00\", \"2017-07-31T00:00:00\", \"2017-08-31T00:00:00\", \"2017-09-30T00:00:00\", \"2017-10-31T00:00:00\", \"2017-11-30T00:00:00\", \"2017-12-31T00:00:00\"], \"y\": [4513.0, 157965.0, 64892.0, 80968.0, 32355.0, 60325.0, -89161.0, -76854.0, -33320.0, 36056.0, -186036.0, 19380.0, 3130.0, 175184.0, 84613.0, 93963.0, 23965.0, 82168.0, -103414.0, -100472.0, -26241.0, 41900.0, -222735.0, -25535.0, -1196.0, 179634.0, 93516.0, 102435.0, 10282.0, 100166.0, -116949.0, -97069.0, -26079.0, 30392.0, -220073.0, -5133.0, 12518.0, 175924.0, 111069.0, 86780.0, 33934.0, 116054.0, -157224.0, -84663.0, -33194.0, 27811.0, -228037.0, -46105.0, 4063.0, 201298.0, 116195.0, 81824.0, 43938.0, 106769.0, -144990.0, -91140.0, -44103.0, 37677.0, -233667.0]}],                        {\"template\": {\"data\": {\"bar\": [{\"error_x\": {\"color\": \"#2a3f5f\"}, \"error_y\": {\"color\": \"#2a3f5f\"}, \"marker\": {\"line\": {\"color\": \"#E5ECF6\", \"width\": 0.5}}, \"type\": \"bar\"}], \"barpolar\": [{\"marker\": {\"line\": {\"color\": \"#E5ECF6\", \"width\": 0.5}}, \"type\": \"barpolar\"}], \"carpet\": [{\"aaxis\": {\"endlinecolor\": \"#2a3f5f\", \"gridcolor\": \"white\", \"linecolor\": \"white\", \"minorgridcolor\": \"white\", \"startlinecolor\": \"#2a3f5f\"}, \"baxis\": {\"endlinecolor\": \"#2a3f5f\", \"gridcolor\": \"white\", \"linecolor\": \"white\", \"minorgridcolor\": \"white\", \"startlinecolor\": \"#2a3f5f\"}, \"type\": \"carpet\"}], \"choropleth\": [{\"colorbar\": {\"outlinewidth\": 0, \"ticks\": \"\"}, \"type\": \"choropleth\"}], \"contour\": [{\"colorbar\": {\"outlinewidth\": 0, \"ticks\": \"\"}, \"colorscale\": [[0.0, \"#0d0887\"], [0.1111111111111111, \"#46039f\"], [0.2222222222222222, \"#7201a8\"], [0.3333333333333333, \"#9c179e\"], [0.4444444444444444, \"#bd3786\"], [0.5555555555555556, \"#d8576b\"], [0.6666666666666666, \"#ed7953\"], [0.7777777777777778, \"#fb9f3a\"], [0.8888888888888888, \"#fdca26\"], [1.0, \"#f0f921\"]], \"type\": \"contour\"}], \"contourcarpet\": [{\"colorbar\": {\"outlinewidth\": 0, \"ticks\": \"\"}, \"type\": \"contourcarpet\"}], \"heatmap\": [{\"colorbar\": {\"outlinewidth\": 0, \"ticks\": \"\"}, \"colorscale\": [[0.0, \"#0d0887\"], [0.1111111111111111, \"#46039f\"], [0.2222222222222222, \"#7201a8\"], [0.3333333333333333, \"#9c179e\"], [0.4444444444444444, \"#bd3786\"], [0.5555555555555556, \"#d8576b\"], [0.6666666666666666, \"#ed7953\"], [0.7777777777777778, \"#fb9f3a\"], [0.8888888888888888, \"#fdca26\"], [1.0, \"#f0f921\"]], \"type\": \"heatmap\"}], \"heatmapgl\": [{\"colorbar\": {\"outlinewidth\": 0, \"ticks\": \"\"}, \"colorscale\": [[0.0, \"#0d0887\"], [0.1111111111111111, \"#46039f\"], [0.2222222222222222, \"#7201a8\"], [0.3333333333333333, \"#9c179e\"], [0.4444444444444444, \"#bd3786\"], [0.5555555555555556, \"#d8576b\"], [0.6666666666666666, \"#ed7953\"], [0.7777777777777778, \"#fb9f3a\"], [0.8888888888888888, \"#fdca26\"], [1.0, \"#f0f921\"]], \"type\": \"heatmapgl\"}], \"histogram\": [{\"marker\": {\"colorbar\": {\"outlinewidth\": 0, \"ticks\": \"\"}}, \"type\": \"histogram\"}], \"histogram2d\": [{\"colorbar\": {\"outlinewidth\": 0, \"ticks\": \"\"}, \"colorscale\": [[0.0, \"#0d0887\"], [0.1111111111111111, \"#46039f\"], [0.2222222222222222, \"#7201a8\"], [0.3333333333333333, \"#9c179e\"], [0.4444444444444444, \"#bd3786\"], [0.5555555555555556, \"#d8576b\"], [0.6666666666666666, \"#ed7953\"], [0.7777777777777778, \"#fb9f3a\"], [0.8888888888888888, \"#fdca26\"], [1.0, \"#f0f921\"]], \"type\": \"histogram2d\"}], \"histogram2dcontour\": [{\"colorbar\": {\"outlinewidth\": 0, \"ticks\": \"\"}, \"colorscale\": [[0.0, \"#0d0887\"], [0.1111111111111111, \"#46039f\"], [0.2222222222222222, \"#7201a8\"], [0.3333333333333333, \"#9c179e\"], [0.4444444444444444, \"#bd3786\"], [0.5555555555555556, \"#d8576b\"], [0.6666666666666666, \"#ed7953\"], [0.7777777777777778, \"#fb9f3a\"], [0.8888888888888888, \"#fdca26\"], [1.0, \"#f0f921\"]], \"type\": \"histogram2dcontour\"}], \"mesh3d\": [{\"colorbar\": {\"outlinewidth\": 0, \"ticks\": \"\"}, \"type\": \"mesh3d\"}], \"parcoords\": [{\"line\": {\"colorbar\": {\"outlinewidth\": 0, \"ticks\": \"\"}}, \"type\": \"parcoords\"}], \"pie\": [{\"automargin\": true, \"type\": \"pie\"}], \"scatter\": [{\"marker\": {\"colorbar\": {\"outlinewidth\": 0, \"ticks\": \"\"}}, \"type\": \"scatter\"}], \"scatter3d\": [{\"line\": {\"colorbar\": {\"outlinewidth\": 0, \"ticks\": \"\"}}, \"marker\": {\"colorbar\": {\"outlinewidth\": 0, \"ticks\": \"\"}}, \"type\": \"scatter3d\"}], \"scattercarpet\": [{\"marker\": {\"colorbar\": {\"outlinewidth\": 0, \"ticks\": \"\"}}, \"type\": \"scattercarpet\"}], \"scattergeo\": [{\"marker\": {\"colorbar\": {\"outlinewidth\": 0, \"ticks\": \"\"}}, \"type\": \"scattergeo\"}], \"scattergl\": [{\"marker\": {\"colorbar\": {\"outlinewidth\": 0, \"ticks\": \"\"}}, \"type\": \"scattergl\"}], \"scattermapbox\": [{\"marker\": {\"colorbar\": {\"outlinewidth\": 0, \"ticks\": \"\"}}, \"type\": \"scattermapbox\"}], \"scatterpolar\": [{\"marker\": {\"colorbar\": {\"outlinewidth\": 0, \"ticks\": \"\"}}, \"type\": \"scatterpolar\"}], \"scatterpolargl\": [{\"marker\": {\"colorbar\": {\"outlinewidth\": 0, \"ticks\": \"\"}}, \"type\": \"scatterpolargl\"}], \"scatterternary\": [{\"marker\": {\"colorbar\": {\"outlinewidth\": 0, \"ticks\": \"\"}}, \"type\": \"scatterternary\"}], \"surface\": [{\"colorbar\": {\"outlinewidth\": 0, \"ticks\": \"\"}, \"colorscale\": [[0.0, \"#0d0887\"], [0.1111111111111111, \"#46039f\"], [0.2222222222222222, \"#7201a8\"], [0.3333333333333333, \"#9c179e\"], [0.4444444444444444, \"#bd3786\"], [0.5555555555555556, \"#d8576b\"], [0.6666666666666666, \"#ed7953\"], [0.7777777777777778, \"#fb9f3a\"], [0.8888888888888888, \"#fdca26\"], [1.0, \"#f0f921\"]], \"type\": \"surface\"}], \"table\": [{\"cells\": {\"fill\": {\"color\": \"#EBF0F8\"}, \"line\": {\"color\": \"white\"}}, \"header\": {\"fill\": {\"color\": \"#C8D4E3\"}, \"line\": {\"color\": \"white\"}}, \"type\": \"table\"}]}, \"layout\": {\"annotationdefaults\": {\"arrowcolor\": \"#2a3f5f\", \"arrowhead\": 0, \"arrowwidth\": 1}, \"coloraxis\": {\"colorbar\": {\"outlinewidth\": 0, \"ticks\": \"\"}}, \"colorscale\": {\"diverging\": [[0, \"#8e0152\"], [0.1, \"#c51b7d\"], [0.2, \"#de77ae\"], [0.3, \"#f1b6da\"], [0.4, \"#fde0ef\"], [0.5, \"#f7f7f7\"], [0.6, \"#e6f5d0\"], [0.7, \"#b8e186\"], [0.8, \"#7fbc41\"], [0.9, \"#4d9221\"], [1, \"#276419\"]], \"sequential\": [[0.0, \"#0d0887\"], [0.1111111111111111, \"#46039f\"], [0.2222222222222222, \"#7201a8\"], [0.3333333333333333, \"#9c179e\"], [0.4444444444444444, \"#bd3786\"], [0.5555555555555556, \"#d8576b\"], [0.6666666666666666, \"#ed7953\"], [0.7777777777777778, \"#fb9f3a\"], [0.8888888888888888, \"#fdca26\"], [1.0, \"#f0f921\"]], \"sequentialminus\": [[0.0, \"#0d0887\"], [0.1111111111111111, \"#46039f\"], [0.2222222222222222, \"#7201a8\"], [0.3333333333333333, \"#9c179e\"], [0.4444444444444444, \"#bd3786\"], [0.5555555555555556, \"#d8576b\"], [0.6666666666666666, \"#ed7953\"], [0.7777777777777778, \"#fb9f3a\"], [0.8888888888888888, \"#fdca26\"], [1.0, \"#f0f921\"]]}, \"colorway\": [\"#636efa\", \"#EF553B\", \"#00cc96\", \"#ab63fa\", \"#FFA15A\", \"#19d3f3\", \"#FF6692\", \"#B6E880\", \"#FF97FF\", \"#FECB52\"], \"font\": {\"color\": \"#2a3f5f\"}, \"geo\": {\"bgcolor\": \"white\", \"lakecolor\": \"white\", \"landcolor\": \"#E5ECF6\", \"showlakes\": true, \"showland\": true, \"subunitcolor\": \"white\"}, \"hoverlabel\": {\"align\": \"left\"}, \"hovermode\": \"closest\", \"mapbox\": {\"style\": \"light\"}, \"paper_bgcolor\": \"white\", \"plot_bgcolor\": \"#E5ECF6\", \"polar\": {\"angularaxis\": {\"gridcolor\": \"white\", \"linecolor\": \"white\", \"ticks\": \"\"}, \"bgcolor\": \"#E5ECF6\", \"radialaxis\": {\"gridcolor\": \"white\", \"linecolor\": \"white\", \"ticks\": \"\"}}, \"scene\": {\"xaxis\": {\"backgroundcolor\": \"#E5ECF6\", \"gridcolor\": \"white\", \"gridwidth\": 2, \"linecolor\": \"white\", \"showbackground\": true, \"ticks\": \"\", \"zerolinecolor\": \"white\"}, \"yaxis\": {\"backgroundcolor\": \"#E5ECF6\", \"gridcolor\": \"white\", \"gridwidth\": 2, \"linecolor\": \"white\", \"showbackground\": true, \"ticks\": \"\", \"zerolinecolor\": \"white\"}, \"zaxis\": {\"backgroundcolor\": \"#E5ECF6\", \"gridcolor\": \"white\", \"gridwidth\": 2, \"linecolor\": \"white\", \"showbackground\": true, \"ticks\": \"\", \"zerolinecolor\": \"white\"}}, \"shapedefaults\": {\"line\": {\"color\": \"#2a3f5f\"}}, \"ternary\": {\"aaxis\": {\"gridcolor\": \"white\", \"linecolor\": \"white\", \"ticks\": \"\"}, \"baxis\": {\"gridcolor\": \"white\", \"linecolor\": \"white\", \"ticks\": \"\"}, \"bgcolor\": \"#E5ECF6\", \"caxis\": {\"gridcolor\": \"white\", \"linecolor\": \"white\", \"ticks\": \"\"}}, \"title\": {\"x\": 0.05}, \"xaxis\": {\"automargin\": true, \"gridcolor\": \"white\", \"linecolor\": \"white\", \"ticks\": \"\", \"title\": {\"standoff\": 15}, \"zerolinecolor\": \"white\", \"zerolinewidth\": 2}, \"yaxis\": {\"automargin\": true, \"gridcolor\": \"white\", \"linecolor\": \"white\", \"ticks\": \"\", \"title\": {\"standoff\": 15}, \"zerolinecolor\": \"white\", \"zerolinewidth\": 2}}}, \"title\": {\"text\": \"Montly Sales Difference\"}},                        {\"responsive\": true}                    ).then(function(){\n",
       "                            \n",
       "var gd = document.getElementById('2a5d0aee-5c6a-421c-97b4-451660e0ee2e');\n",
       "var x = new MutationObserver(function (mutations, observer) {{\n",
       "        var display = window.getComputedStyle(gd).display;\n",
       "        if (!display || display === 'none') {{\n",
       "            console.log([gd, 'removed!']);\n",
       "            Plotly.purge(gd);\n",
       "            observer.disconnect();\n",
       "        }}\n",
       "}});\n",
       "\n",
       "// Listen for the removal of the full notebook cells\n",
       "var notebookContainer = gd.closest('#notebook-container');\n",
       "if (notebookContainer) {{\n",
       "    x.observe(notebookContainer, {childList: true});\n",
       "}}\n",
       "\n",
       "// Listen for the clearing of the current output cell\n",
       "var outputEl = gd.closest('.output');\n",
       "if (outputEl) {{\n",
       "    x.observe(outputEl, {childList: true});\n",
       "}}\n",
       "\n",
       "                        })                };                });            </script>        </div>"
      ]
     },
     "metadata": {},
     "output_type": "display_data"
    }
   ],
   "source": [
    "plot_data = [\n",
    "    go.Scatter(\n",
    "        x=df_diff['date'],\n",
    "        y=df_diff['diff'],\n",
    "    )\n",
    "]\n",
    "plot_layout = go.Layout(\n",
    "        title='Montly Sales Difference'\n",
    "    )\n",
    "fig = go.Figure(data=plot_data, layout=plot_layout)\n",
    "pyoff.iplot(fig)"
   ]
  },
  {
   "cell_type": "code",
   "execution_count": 110,
   "metadata": {},
   "outputs": [],
   "source": [
    "df_supervised=df_diff.drop('prev_sales',axis=1)"
   ]
  },
  {
   "cell_type": "code",
   "execution_count": 111,
   "metadata": {},
   "outputs": [
    {
     "data": {
      "text/html": [
       "<div>\n",
       "<style scoped>\n",
       "    .dataframe tbody tr th:only-of-type {\n",
       "        vertical-align: middle;\n",
       "    }\n",
       "\n",
       "    .dataframe tbody tr th {\n",
       "        vertical-align: top;\n",
       "    }\n",
       "\n",
       "    .dataframe thead th {\n",
       "        text-align: right;\n",
       "    }\n",
       "</style>\n",
       "<table border=\"1\" class=\"dataframe\">\n",
       "  <thead>\n",
       "    <tr style=\"text-align: right;\">\n",
       "      <th></th>\n",
       "      <th>date</th>\n",
       "      <th>sales</th>\n",
       "      <th>diff</th>\n",
       "    </tr>\n",
       "  </thead>\n",
       "  <tbody>\n",
       "    <tr>\n",
       "      <th>1</th>\n",
       "      <td>2013-02-28</td>\n",
       "      <td>459417</td>\n",
       "      <td>4513.0</td>\n",
       "    </tr>\n",
       "    <tr>\n",
       "      <th>2</th>\n",
       "      <td>2013-03-31</td>\n",
       "      <td>617382</td>\n",
       "      <td>157965.0</td>\n",
       "    </tr>\n",
       "    <tr>\n",
       "      <th>3</th>\n",
       "      <td>2013-04-30</td>\n",
       "      <td>682274</td>\n",
       "      <td>64892.0</td>\n",
       "    </tr>\n",
       "    <tr>\n",
       "      <th>4</th>\n",
       "      <td>2013-05-31</td>\n",
       "      <td>763242</td>\n",
       "      <td>80968.0</td>\n",
       "    </tr>\n",
       "    <tr>\n",
       "      <th>5</th>\n",
       "      <td>2013-06-30</td>\n",
       "      <td>795597</td>\n",
       "      <td>32355.0</td>\n",
       "    </tr>\n",
       "  </tbody>\n",
       "</table>\n",
       "</div>"
      ],
      "text/plain": [
       "        date   sales      diff\n",
       "1 2013-02-28  459417    4513.0\n",
       "2 2013-03-31  617382  157965.0\n",
       "3 2013-04-30  682274   64892.0\n",
       "4 2013-05-31  763242   80968.0\n",
       "5 2013-06-30  795597   32355.0"
      ]
     },
     "execution_count": 111,
     "metadata": {},
     "output_type": "execute_result"
    }
   ],
   "source": [
    "df_supervised.head()"
   ]
  },
  {
   "cell_type": "code",
   "execution_count": 112,
   "metadata": {},
   "outputs": [],
   "source": [
    "for i in range(1,13):\n",
    "    field_name='lag_'+ str(i)\n",
    "    df_supervised[field_name]=df_supervised['diff'].shift(i)"
   ]
  },
  {
   "cell_type": "code",
   "execution_count": 113,
   "metadata": {},
   "outputs": [],
   "source": [
    "df_supervised=df_supervised.dropna()"
   ]
  },
  {
   "cell_type": "code",
   "execution_count": 114,
   "metadata": {},
   "outputs": [
    {
     "data": {
      "text/html": [
       "<div>\n",
       "<style scoped>\n",
       "    .dataframe tbody tr th:only-of-type {\n",
       "        vertical-align: middle;\n",
       "    }\n",
       "\n",
       "    .dataframe tbody tr th {\n",
       "        vertical-align: top;\n",
       "    }\n",
       "\n",
       "    .dataframe thead th {\n",
       "        text-align: right;\n",
       "    }\n",
       "</style>\n",
       "<table border=\"1\" class=\"dataframe\">\n",
       "  <thead>\n",
       "    <tr style=\"text-align: right;\">\n",
       "      <th></th>\n",
       "      <th>date</th>\n",
       "      <th>sales</th>\n",
       "      <th>diff</th>\n",
       "      <th>lag_1</th>\n",
       "      <th>lag_2</th>\n",
       "      <th>lag_3</th>\n",
       "      <th>lag_4</th>\n",
       "      <th>lag_5</th>\n",
       "      <th>lag_6</th>\n",
       "      <th>lag_7</th>\n",
       "      <th>lag_8</th>\n",
       "      <th>lag_9</th>\n",
       "      <th>lag_10</th>\n",
       "      <th>lag_11</th>\n",
       "      <th>lag_12</th>\n",
       "    </tr>\n",
       "  </thead>\n",
       "  <tbody>\n",
       "    <tr>\n",
       "      <th>13</th>\n",
       "      <td>2014-02-28</td>\n",
       "      <td>529117</td>\n",
       "      <td>3130.0</td>\n",
       "      <td>19380.0</td>\n",
       "      <td>-186036.0</td>\n",
       "      <td>36056.0</td>\n",
       "      <td>-33320.0</td>\n",
       "      <td>-76854.0</td>\n",
       "      <td>-89161.0</td>\n",
       "      <td>60325.0</td>\n",
       "      <td>32355.0</td>\n",
       "      <td>80968.0</td>\n",
       "      <td>64892.0</td>\n",
       "      <td>157965.0</td>\n",
       "      <td>4513.0</td>\n",
       "    </tr>\n",
       "    <tr>\n",
       "      <th>14</th>\n",
       "      <td>2014-03-31</td>\n",
       "      <td>704301</td>\n",
       "      <td>175184.0</td>\n",
       "      <td>3130.0</td>\n",
       "      <td>19380.0</td>\n",
       "      <td>-186036.0</td>\n",
       "      <td>36056.0</td>\n",
       "      <td>-33320.0</td>\n",
       "      <td>-76854.0</td>\n",
       "      <td>-89161.0</td>\n",
       "      <td>60325.0</td>\n",
       "      <td>32355.0</td>\n",
       "      <td>80968.0</td>\n",
       "      <td>64892.0</td>\n",
       "      <td>157965.0</td>\n",
       "    </tr>\n",
       "    <tr>\n",
       "      <th>15</th>\n",
       "      <td>2014-04-30</td>\n",
       "      <td>788914</td>\n",
       "      <td>84613.0</td>\n",
       "      <td>175184.0</td>\n",
       "      <td>3130.0</td>\n",
       "      <td>19380.0</td>\n",
       "      <td>-186036.0</td>\n",
       "      <td>36056.0</td>\n",
       "      <td>-33320.0</td>\n",
       "      <td>-76854.0</td>\n",
       "      <td>-89161.0</td>\n",
       "      <td>60325.0</td>\n",
       "      <td>32355.0</td>\n",
       "      <td>80968.0</td>\n",
       "      <td>64892.0</td>\n",
       "    </tr>\n",
       "    <tr>\n",
       "      <th>16</th>\n",
       "      <td>2014-05-31</td>\n",
       "      <td>882877</td>\n",
       "      <td>93963.0</td>\n",
       "      <td>84613.0</td>\n",
       "      <td>175184.0</td>\n",
       "      <td>3130.0</td>\n",
       "      <td>19380.0</td>\n",
       "      <td>-186036.0</td>\n",
       "      <td>36056.0</td>\n",
       "      <td>-33320.0</td>\n",
       "      <td>-76854.0</td>\n",
       "      <td>-89161.0</td>\n",
       "      <td>60325.0</td>\n",
       "      <td>32355.0</td>\n",
       "      <td>80968.0</td>\n",
       "    </tr>\n",
       "    <tr>\n",
       "      <th>17</th>\n",
       "      <td>2014-06-30</td>\n",
       "      <td>906842</td>\n",
       "      <td>23965.0</td>\n",
       "      <td>93963.0</td>\n",
       "      <td>84613.0</td>\n",
       "      <td>175184.0</td>\n",
       "      <td>3130.0</td>\n",
       "      <td>19380.0</td>\n",
       "      <td>-186036.0</td>\n",
       "      <td>36056.0</td>\n",
       "      <td>-33320.0</td>\n",
       "      <td>-76854.0</td>\n",
       "      <td>-89161.0</td>\n",
       "      <td>60325.0</td>\n",
       "      <td>32355.0</td>\n",
       "    </tr>\n",
       "  </tbody>\n",
       "</table>\n",
       "</div>"
      ],
      "text/plain": [
       "         date   sales      diff     lag_1     lag_2     lag_3     lag_4  \\\n",
       "13 2014-02-28  529117    3130.0   19380.0 -186036.0   36056.0  -33320.0   \n",
       "14 2014-03-31  704301  175184.0    3130.0   19380.0 -186036.0   36056.0   \n",
       "15 2014-04-30  788914   84613.0  175184.0    3130.0   19380.0 -186036.0   \n",
       "16 2014-05-31  882877   93963.0   84613.0  175184.0    3130.0   19380.0   \n",
       "17 2014-06-30  906842   23965.0   93963.0   84613.0  175184.0    3130.0   \n",
       "\n",
       "       lag_5     lag_6    lag_7    lag_8    lag_9   lag_10    lag_11    lag_12  \n",
       "13  -76854.0  -89161.0  60325.0  32355.0  80968.0  64892.0  157965.0    4513.0  \n",
       "14  -33320.0  -76854.0 -89161.0  60325.0  32355.0  80968.0   64892.0  157965.0  \n",
       "15   36056.0  -33320.0 -76854.0 -89161.0  60325.0  32355.0   80968.0   64892.0  \n",
       "16 -186036.0   36056.0 -33320.0 -76854.0 -89161.0  60325.0   32355.0   80968.0  \n",
       "17   19380.0 -186036.0  36056.0 -33320.0 -76854.0 -89161.0   60325.0   32355.0  "
      ]
     },
     "execution_count": 114,
     "metadata": {},
     "output_type": "execute_result"
    }
   ],
   "source": [
    "\n",
    "df_supervised.head()"
   ]
  },
  {
   "cell_type": "code",
   "execution_count": 115,
   "metadata": {},
   "outputs": [],
   "source": [
    "import statsmodels.formula.api as smf\n",
    "from sklearn.preprocessing import MinMaxScaler"
   ]
  },
  {
   "cell_type": "code",
   "execution_count": 116,
   "metadata": {},
   "outputs": [],
   "source": [
    "df_model=df_supervised.drop(['date','sales'],axis=1)"
   ]
  },
  {
   "cell_type": "code",
   "execution_count": 118,
   "metadata": {},
   "outputs": [
    {
     "data": {
      "text/html": [
       "<div>\n",
       "<style scoped>\n",
       "    .dataframe tbody tr th:only-of-type {\n",
       "        vertical-align: middle;\n",
       "    }\n",
       "\n",
       "    .dataframe tbody tr th {\n",
       "        vertical-align: top;\n",
       "    }\n",
       "\n",
       "    .dataframe thead th {\n",
       "        text-align: right;\n",
       "    }\n",
       "</style>\n",
       "<table border=\"1\" class=\"dataframe\">\n",
       "  <thead>\n",
       "    <tr style=\"text-align: right;\">\n",
       "      <th></th>\n",
       "      <th>diff</th>\n",
       "      <th>lag_1</th>\n",
       "      <th>lag_2</th>\n",
       "      <th>lag_3</th>\n",
       "      <th>lag_4</th>\n",
       "      <th>lag_5</th>\n",
       "      <th>lag_6</th>\n",
       "      <th>lag_7</th>\n",
       "      <th>lag_8</th>\n",
       "      <th>lag_9</th>\n",
       "      <th>lag_10</th>\n",
       "      <th>lag_11</th>\n",
       "      <th>lag_12</th>\n",
       "    </tr>\n",
       "  </thead>\n",
       "  <tbody>\n",
       "    <tr>\n",
       "      <th>13</th>\n",
       "      <td>3130.0</td>\n",
       "      <td>19380.0</td>\n",
       "      <td>-186036.0</td>\n",
       "      <td>36056.0</td>\n",
       "      <td>-33320.0</td>\n",
       "      <td>-76854.0</td>\n",
       "      <td>-89161.0</td>\n",
       "      <td>60325.0</td>\n",
       "      <td>32355.0</td>\n",
       "      <td>80968.0</td>\n",
       "      <td>64892.0</td>\n",
       "      <td>157965.0</td>\n",
       "      <td>4513.0</td>\n",
       "    </tr>\n",
       "    <tr>\n",
       "      <th>14</th>\n",
       "      <td>175184.0</td>\n",
       "      <td>3130.0</td>\n",
       "      <td>19380.0</td>\n",
       "      <td>-186036.0</td>\n",
       "      <td>36056.0</td>\n",
       "      <td>-33320.0</td>\n",
       "      <td>-76854.0</td>\n",
       "      <td>-89161.0</td>\n",
       "      <td>60325.0</td>\n",
       "      <td>32355.0</td>\n",
       "      <td>80968.0</td>\n",
       "      <td>64892.0</td>\n",
       "      <td>157965.0</td>\n",
       "    </tr>\n",
       "    <tr>\n",
       "      <th>15</th>\n",
       "      <td>84613.0</td>\n",
       "      <td>175184.0</td>\n",
       "      <td>3130.0</td>\n",
       "      <td>19380.0</td>\n",
       "      <td>-186036.0</td>\n",
       "      <td>36056.0</td>\n",
       "      <td>-33320.0</td>\n",
       "      <td>-76854.0</td>\n",
       "      <td>-89161.0</td>\n",
       "      <td>60325.0</td>\n",
       "      <td>32355.0</td>\n",
       "      <td>80968.0</td>\n",
       "      <td>64892.0</td>\n",
       "    </tr>\n",
       "    <tr>\n",
       "      <th>16</th>\n",
       "      <td>93963.0</td>\n",
       "      <td>84613.0</td>\n",
       "      <td>175184.0</td>\n",
       "      <td>3130.0</td>\n",
       "      <td>19380.0</td>\n",
       "      <td>-186036.0</td>\n",
       "      <td>36056.0</td>\n",
       "      <td>-33320.0</td>\n",
       "      <td>-76854.0</td>\n",
       "      <td>-89161.0</td>\n",
       "      <td>60325.0</td>\n",
       "      <td>32355.0</td>\n",
       "      <td>80968.0</td>\n",
       "    </tr>\n",
       "    <tr>\n",
       "      <th>17</th>\n",
       "      <td>23965.0</td>\n",
       "      <td>93963.0</td>\n",
       "      <td>84613.0</td>\n",
       "      <td>175184.0</td>\n",
       "      <td>3130.0</td>\n",
       "      <td>19380.0</td>\n",
       "      <td>-186036.0</td>\n",
       "      <td>36056.0</td>\n",
       "      <td>-33320.0</td>\n",
       "      <td>-76854.0</td>\n",
       "      <td>-89161.0</td>\n",
       "      <td>60325.0</td>\n",
       "      <td>32355.0</td>\n",
       "    </tr>\n",
       "    <tr>\n",
       "      <th>18</th>\n",
       "      <td>82168.0</td>\n",
       "      <td>23965.0</td>\n",
       "      <td>93963.0</td>\n",
       "      <td>84613.0</td>\n",
       "      <td>175184.0</td>\n",
       "      <td>3130.0</td>\n",
       "      <td>19380.0</td>\n",
       "      <td>-186036.0</td>\n",
       "      <td>36056.0</td>\n",
       "      <td>-33320.0</td>\n",
       "      <td>-76854.0</td>\n",
       "      <td>-89161.0</td>\n",
       "      <td>60325.0</td>\n",
       "    </tr>\n",
       "    <tr>\n",
       "      <th>19</th>\n",
       "      <td>-103414.0</td>\n",
       "      <td>82168.0</td>\n",
       "      <td>23965.0</td>\n",
       "      <td>93963.0</td>\n",
       "      <td>84613.0</td>\n",
       "      <td>175184.0</td>\n",
       "      <td>3130.0</td>\n",
       "      <td>19380.0</td>\n",
       "      <td>-186036.0</td>\n",
       "      <td>36056.0</td>\n",
       "      <td>-33320.0</td>\n",
       "      <td>-76854.0</td>\n",
       "      <td>-89161.0</td>\n",
       "    </tr>\n",
       "    <tr>\n",
       "      <th>20</th>\n",
       "      <td>-100472.0</td>\n",
       "      <td>-103414.0</td>\n",
       "      <td>82168.0</td>\n",
       "      <td>23965.0</td>\n",
       "      <td>93963.0</td>\n",
       "      <td>84613.0</td>\n",
       "      <td>175184.0</td>\n",
       "      <td>3130.0</td>\n",
       "      <td>19380.0</td>\n",
       "      <td>-186036.0</td>\n",
       "      <td>36056.0</td>\n",
       "      <td>-33320.0</td>\n",
       "      <td>-76854.0</td>\n",
       "    </tr>\n",
       "    <tr>\n",
       "      <th>21</th>\n",
       "      <td>-26241.0</td>\n",
       "      <td>-100472.0</td>\n",
       "      <td>-103414.0</td>\n",
       "      <td>82168.0</td>\n",
       "      <td>23965.0</td>\n",
       "      <td>93963.0</td>\n",
       "      <td>84613.0</td>\n",
       "      <td>175184.0</td>\n",
       "      <td>3130.0</td>\n",
       "      <td>19380.0</td>\n",
       "      <td>-186036.0</td>\n",
       "      <td>36056.0</td>\n",
       "      <td>-33320.0</td>\n",
       "    </tr>\n",
       "    <tr>\n",
       "      <th>22</th>\n",
       "      <td>41900.0</td>\n",
       "      <td>-26241.0</td>\n",
       "      <td>-100472.0</td>\n",
       "      <td>-103414.0</td>\n",
       "      <td>82168.0</td>\n",
       "      <td>23965.0</td>\n",
       "      <td>93963.0</td>\n",
       "      <td>84613.0</td>\n",
       "      <td>175184.0</td>\n",
       "      <td>3130.0</td>\n",
       "      <td>19380.0</td>\n",
       "      <td>-186036.0</td>\n",
       "      <td>36056.0</td>\n",
       "    </tr>\n",
       "    <tr>\n",
       "      <th>23</th>\n",
       "      <td>-222735.0</td>\n",
       "      <td>41900.0</td>\n",
       "      <td>-26241.0</td>\n",
       "      <td>-100472.0</td>\n",
       "      <td>-103414.0</td>\n",
       "      <td>82168.0</td>\n",
       "      <td>23965.0</td>\n",
       "      <td>93963.0</td>\n",
       "      <td>84613.0</td>\n",
       "      <td>175184.0</td>\n",
       "      <td>3130.0</td>\n",
       "      <td>19380.0</td>\n",
       "      <td>-186036.0</td>\n",
       "    </tr>\n",
       "    <tr>\n",
       "      <th>24</th>\n",
       "      <td>-25535.0</td>\n",
       "      <td>-222735.0</td>\n",
       "      <td>41900.0</td>\n",
       "      <td>-26241.0</td>\n",
       "      <td>-100472.0</td>\n",
       "      <td>-103414.0</td>\n",
       "      <td>82168.0</td>\n",
       "      <td>23965.0</td>\n",
       "      <td>93963.0</td>\n",
       "      <td>84613.0</td>\n",
       "      <td>175184.0</td>\n",
       "      <td>3130.0</td>\n",
       "      <td>19380.0</td>\n",
       "    </tr>\n",
       "    <tr>\n",
       "      <th>25</th>\n",
       "      <td>-1196.0</td>\n",
       "      <td>-25535.0</td>\n",
       "      <td>-222735.0</td>\n",
       "      <td>41900.0</td>\n",
       "      <td>-26241.0</td>\n",
       "      <td>-100472.0</td>\n",
       "      <td>-103414.0</td>\n",
       "      <td>82168.0</td>\n",
       "      <td>23965.0</td>\n",
       "      <td>93963.0</td>\n",
       "      <td>84613.0</td>\n",
       "      <td>175184.0</td>\n",
       "      <td>3130.0</td>\n",
       "    </tr>\n",
       "    <tr>\n",
       "      <th>26</th>\n",
       "      <td>179634.0</td>\n",
       "      <td>-1196.0</td>\n",
       "      <td>-25535.0</td>\n",
       "      <td>-222735.0</td>\n",
       "      <td>41900.0</td>\n",
       "      <td>-26241.0</td>\n",
       "      <td>-100472.0</td>\n",
       "      <td>-103414.0</td>\n",
       "      <td>82168.0</td>\n",
       "      <td>23965.0</td>\n",
       "      <td>93963.0</td>\n",
       "      <td>84613.0</td>\n",
       "      <td>175184.0</td>\n",
       "    </tr>\n",
       "    <tr>\n",
       "      <th>27</th>\n",
       "      <td>93516.0</td>\n",
       "      <td>179634.0</td>\n",
       "      <td>-1196.0</td>\n",
       "      <td>-25535.0</td>\n",
       "      <td>-222735.0</td>\n",
       "      <td>41900.0</td>\n",
       "      <td>-26241.0</td>\n",
       "      <td>-100472.0</td>\n",
       "      <td>-103414.0</td>\n",
       "      <td>82168.0</td>\n",
       "      <td>23965.0</td>\n",
       "      <td>93963.0</td>\n",
       "      <td>84613.0</td>\n",
       "    </tr>\n",
       "    <tr>\n",
       "      <th>28</th>\n",
       "      <td>102435.0</td>\n",
       "      <td>93516.0</td>\n",
       "      <td>179634.0</td>\n",
       "      <td>-1196.0</td>\n",
       "      <td>-25535.0</td>\n",
       "      <td>-222735.0</td>\n",
       "      <td>41900.0</td>\n",
       "      <td>-26241.0</td>\n",
       "      <td>-100472.0</td>\n",
       "      <td>-103414.0</td>\n",
       "      <td>82168.0</td>\n",
       "      <td>23965.0</td>\n",
       "      <td>93963.0</td>\n",
       "    </tr>\n",
       "    <tr>\n",
       "      <th>29</th>\n",
       "      <td>10282.0</td>\n",
       "      <td>102435.0</td>\n",
       "      <td>93516.0</td>\n",
       "      <td>179634.0</td>\n",
       "      <td>-1196.0</td>\n",
       "      <td>-25535.0</td>\n",
       "      <td>-222735.0</td>\n",
       "      <td>41900.0</td>\n",
       "      <td>-26241.0</td>\n",
       "      <td>-100472.0</td>\n",
       "      <td>-103414.0</td>\n",
       "      <td>82168.0</td>\n",
       "      <td>23965.0</td>\n",
       "    </tr>\n",
       "    <tr>\n",
       "      <th>30</th>\n",
       "      <td>100166.0</td>\n",
       "      <td>10282.0</td>\n",
       "      <td>102435.0</td>\n",
       "      <td>93516.0</td>\n",
       "      <td>179634.0</td>\n",
       "      <td>-1196.0</td>\n",
       "      <td>-25535.0</td>\n",
       "      <td>-222735.0</td>\n",
       "      <td>41900.0</td>\n",
       "      <td>-26241.0</td>\n",
       "      <td>-100472.0</td>\n",
       "      <td>-103414.0</td>\n",
       "      <td>82168.0</td>\n",
       "    </tr>\n",
       "    <tr>\n",
       "      <th>31</th>\n",
       "      <td>-116949.0</td>\n",
       "      <td>100166.0</td>\n",
       "      <td>10282.0</td>\n",
       "      <td>102435.0</td>\n",
       "      <td>93516.0</td>\n",
       "      <td>179634.0</td>\n",
       "      <td>-1196.0</td>\n",
       "      <td>-25535.0</td>\n",
       "      <td>-222735.0</td>\n",
       "      <td>41900.0</td>\n",
       "      <td>-26241.0</td>\n",
       "      <td>-100472.0</td>\n",
       "      <td>-103414.0</td>\n",
       "    </tr>\n",
       "    <tr>\n",
       "      <th>32</th>\n",
       "      <td>-97069.0</td>\n",
       "      <td>-116949.0</td>\n",
       "      <td>100166.0</td>\n",
       "      <td>10282.0</td>\n",
       "      <td>102435.0</td>\n",
       "      <td>93516.0</td>\n",
       "      <td>179634.0</td>\n",
       "      <td>-1196.0</td>\n",
       "      <td>-25535.0</td>\n",
       "      <td>-222735.0</td>\n",
       "      <td>41900.0</td>\n",
       "      <td>-26241.0</td>\n",
       "      <td>-100472.0</td>\n",
       "    </tr>\n",
       "    <tr>\n",
       "      <th>33</th>\n",
       "      <td>-26079.0</td>\n",
       "      <td>-97069.0</td>\n",
       "      <td>-116949.0</td>\n",
       "      <td>100166.0</td>\n",
       "      <td>10282.0</td>\n",
       "      <td>102435.0</td>\n",
       "      <td>93516.0</td>\n",
       "      <td>179634.0</td>\n",
       "      <td>-1196.0</td>\n",
       "      <td>-25535.0</td>\n",
       "      <td>-222735.0</td>\n",
       "      <td>41900.0</td>\n",
       "      <td>-26241.0</td>\n",
       "    </tr>\n",
       "    <tr>\n",
       "      <th>34</th>\n",
       "      <td>30392.0</td>\n",
       "      <td>-26079.0</td>\n",
       "      <td>-97069.0</td>\n",
       "      <td>-116949.0</td>\n",
       "      <td>100166.0</td>\n",
       "      <td>10282.0</td>\n",
       "      <td>102435.0</td>\n",
       "      <td>93516.0</td>\n",
       "      <td>179634.0</td>\n",
       "      <td>-1196.0</td>\n",
       "      <td>-25535.0</td>\n",
       "      <td>-222735.0</td>\n",
       "      <td>41900.0</td>\n",
       "    </tr>\n",
       "    <tr>\n",
       "      <th>35</th>\n",
       "      <td>-220073.0</td>\n",
       "      <td>30392.0</td>\n",
       "      <td>-26079.0</td>\n",
       "      <td>-97069.0</td>\n",
       "      <td>-116949.0</td>\n",
       "      <td>100166.0</td>\n",
       "      <td>10282.0</td>\n",
       "      <td>102435.0</td>\n",
       "      <td>93516.0</td>\n",
       "      <td>179634.0</td>\n",
       "      <td>-1196.0</td>\n",
       "      <td>-25535.0</td>\n",
       "      <td>-222735.0</td>\n",
       "    </tr>\n",
       "    <tr>\n",
       "      <th>36</th>\n",
       "      <td>-5133.0</td>\n",
       "      <td>-220073.0</td>\n",
       "      <td>30392.0</td>\n",
       "      <td>-26079.0</td>\n",
       "      <td>-97069.0</td>\n",
       "      <td>-116949.0</td>\n",
       "      <td>100166.0</td>\n",
       "      <td>10282.0</td>\n",
       "      <td>102435.0</td>\n",
       "      <td>93516.0</td>\n",
       "      <td>179634.0</td>\n",
       "      <td>-1196.0</td>\n",
       "      <td>-25535.0</td>\n",
       "    </tr>\n",
       "    <tr>\n",
       "      <th>37</th>\n",
       "      <td>12518.0</td>\n",
       "      <td>-5133.0</td>\n",
       "      <td>-220073.0</td>\n",
       "      <td>30392.0</td>\n",
       "      <td>-26079.0</td>\n",
       "      <td>-97069.0</td>\n",
       "      <td>-116949.0</td>\n",
       "      <td>100166.0</td>\n",
       "      <td>10282.0</td>\n",
       "      <td>102435.0</td>\n",
       "      <td>93516.0</td>\n",
       "      <td>179634.0</td>\n",
       "      <td>-1196.0</td>\n",
       "    </tr>\n",
       "    <tr>\n",
       "      <th>38</th>\n",
       "      <td>175924.0</td>\n",
       "      <td>12518.0</td>\n",
       "      <td>-5133.0</td>\n",
       "      <td>-220073.0</td>\n",
       "      <td>30392.0</td>\n",
       "      <td>-26079.0</td>\n",
       "      <td>-97069.0</td>\n",
       "      <td>-116949.0</td>\n",
       "      <td>100166.0</td>\n",
       "      <td>10282.0</td>\n",
       "      <td>102435.0</td>\n",
       "      <td>93516.0</td>\n",
       "      <td>179634.0</td>\n",
       "    </tr>\n",
       "    <tr>\n",
       "      <th>39</th>\n",
       "      <td>111069.0</td>\n",
       "      <td>175924.0</td>\n",
       "      <td>12518.0</td>\n",
       "      <td>-5133.0</td>\n",
       "      <td>-220073.0</td>\n",
       "      <td>30392.0</td>\n",
       "      <td>-26079.0</td>\n",
       "      <td>-97069.0</td>\n",
       "      <td>-116949.0</td>\n",
       "      <td>100166.0</td>\n",
       "      <td>10282.0</td>\n",
       "      <td>102435.0</td>\n",
       "      <td>93516.0</td>\n",
       "    </tr>\n",
       "    <tr>\n",
       "      <th>40</th>\n",
       "      <td>86780.0</td>\n",
       "      <td>111069.0</td>\n",
       "      <td>175924.0</td>\n",
       "      <td>12518.0</td>\n",
       "      <td>-5133.0</td>\n",
       "      <td>-220073.0</td>\n",
       "      <td>30392.0</td>\n",
       "      <td>-26079.0</td>\n",
       "      <td>-97069.0</td>\n",
       "      <td>-116949.0</td>\n",
       "      <td>100166.0</td>\n",
       "      <td>10282.0</td>\n",
       "      <td>102435.0</td>\n",
       "    </tr>\n",
       "    <tr>\n",
       "      <th>41</th>\n",
       "      <td>33934.0</td>\n",
       "      <td>86780.0</td>\n",
       "      <td>111069.0</td>\n",
       "      <td>175924.0</td>\n",
       "      <td>12518.0</td>\n",
       "      <td>-5133.0</td>\n",
       "      <td>-220073.0</td>\n",
       "      <td>30392.0</td>\n",
       "      <td>-26079.0</td>\n",
       "      <td>-97069.0</td>\n",
       "      <td>-116949.0</td>\n",
       "      <td>100166.0</td>\n",
       "      <td>10282.0</td>\n",
       "    </tr>\n",
       "    <tr>\n",
       "      <th>42</th>\n",
       "      <td>116054.0</td>\n",
       "      <td>33934.0</td>\n",
       "      <td>86780.0</td>\n",
       "      <td>111069.0</td>\n",
       "      <td>175924.0</td>\n",
       "      <td>12518.0</td>\n",
       "      <td>-5133.0</td>\n",
       "      <td>-220073.0</td>\n",
       "      <td>30392.0</td>\n",
       "      <td>-26079.0</td>\n",
       "      <td>-97069.0</td>\n",
       "      <td>-116949.0</td>\n",
       "      <td>100166.0</td>\n",
       "    </tr>\n",
       "    <tr>\n",
       "      <th>43</th>\n",
       "      <td>-157224.0</td>\n",
       "      <td>116054.0</td>\n",
       "      <td>33934.0</td>\n",
       "      <td>86780.0</td>\n",
       "      <td>111069.0</td>\n",
       "      <td>175924.0</td>\n",
       "      <td>12518.0</td>\n",
       "      <td>-5133.0</td>\n",
       "      <td>-220073.0</td>\n",
       "      <td>30392.0</td>\n",
       "      <td>-26079.0</td>\n",
       "      <td>-97069.0</td>\n",
       "      <td>-116949.0</td>\n",
       "    </tr>\n",
       "    <tr>\n",
       "      <th>44</th>\n",
       "      <td>-84663.0</td>\n",
       "      <td>-157224.0</td>\n",
       "      <td>116054.0</td>\n",
       "      <td>33934.0</td>\n",
       "      <td>86780.0</td>\n",
       "      <td>111069.0</td>\n",
       "      <td>175924.0</td>\n",
       "      <td>12518.0</td>\n",
       "      <td>-5133.0</td>\n",
       "      <td>-220073.0</td>\n",
       "      <td>30392.0</td>\n",
       "      <td>-26079.0</td>\n",
       "      <td>-97069.0</td>\n",
       "    </tr>\n",
       "    <tr>\n",
       "      <th>45</th>\n",
       "      <td>-33194.0</td>\n",
       "      <td>-84663.0</td>\n",
       "      <td>-157224.0</td>\n",
       "      <td>116054.0</td>\n",
       "      <td>33934.0</td>\n",
       "      <td>86780.0</td>\n",
       "      <td>111069.0</td>\n",
       "      <td>175924.0</td>\n",
       "      <td>12518.0</td>\n",
       "      <td>-5133.0</td>\n",
       "      <td>-220073.0</td>\n",
       "      <td>30392.0</td>\n",
       "      <td>-26079.0</td>\n",
       "    </tr>\n",
       "    <tr>\n",
       "      <th>46</th>\n",
       "      <td>27811.0</td>\n",
       "      <td>-33194.0</td>\n",
       "      <td>-84663.0</td>\n",
       "      <td>-157224.0</td>\n",
       "      <td>116054.0</td>\n",
       "      <td>33934.0</td>\n",
       "      <td>86780.0</td>\n",
       "      <td>111069.0</td>\n",
       "      <td>175924.0</td>\n",
       "      <td>12518.0</td>\n",
       "      <td>-5133.0</td>\n",
       "      <td>-220073.0</td>\n",
       "      <td>30392.0</td>\n",
       "    </tr>\n",
       "    <tr>\n",
       "      <th>47</th>\n",
       "      <td>-228037.0</td>\n",
       "      <td>27811.0</td>\n",
       "      <td>-33194.0</td>\n",
       "      <td>-84663.0</td>\n",
       "      <td>-157224.0</td>\n",
       "      <td>116054.0</td>\n",
       "      <td>33934.0</td>\n",
       "      <td>86780.0</td>\n",
       "      <td>111069.0</td>\n",
       "      <td>175924.0</td>\n",
       "      <td>12518.0</td>\n",
       "      <td>-5133.0</td>\n",
       "      <td>-220073.0</td>\n",
       "    </tr>\n",
       "    <tr>\n",
       "      <th>48</th>\n",
       "      <td>-46105.0</td>\n",
       "      <td>-228037.0</td>\n",
       "      <td>27811.0</td>\n",
       "      <td>-33194.0</td>\n",
       "      <td>-84663.0</td>\n",
       "      <td>-157224.0</td>\n",
       "      <td>116054.0</td>\n",
       "      <td>33934.0</td>\n",
       "      <td>86780.0</td>\n",
       "      <td>111069.0</td>\n",
       "      <td>175924.0</td>\n",
       "      <td>12518.0</td>\n",
       "      <td>-5133.0</td>\n",
       "    </tr>\n",
       "    <tr>\n",
       "      <th>49</th>\n",
       "      <td>4063.0</td>\n",
       "      <td>-46105.0</td>\n",
       "      <td>-228037.0</td>\n",
       "      <td>27811.0</td>\n",
       "      <td>-33194.0</td>\n",
       "      <td>-84663.0</td>\n",
       "      <td>-157224.0</td>\n",
       "      <td>116054.0</td>\n",
       "      <td>33934.0</td>\n",
       "      <td>86780.0</td>\n",
       "      <td>111069.0</td>\n",
       "      <td>175924.0</td>\n",
       "      <td>12518.0</td>\n",
       "    </tr>\n",
       "    <tr>\n",
       "      <th>50</th>\n",
       "      <td>201298.0</td>\n",
       "      <td>4063.0</td>\n",
       "      <td>-46105.0</td>\n",
       "      <td>-228037.0</td>\n",
       "      <td>27811.0</td>\n",
       "      <td>-33194.0</td>\n",
       "      <td>-84663.0</td>\n",
       "      <td>-157224.0</td>\n",
       "      <td>116054.0</td>\n",
       "      <td>33934.0</td>\n",
       "      <td>86780.0</td>\n",
       "      <td>111069.0</td>\n",
       "      <td>175924.0</td>\n",
       "    </tr>\n",
       "    <tr>\n",
       "      <th>51</th>\n",
       "      <td>116195.0</td>\n",
       "      <td>201298.0</td>\n",
       "      <td>4063.0</td>\n",
       "      <td>-46105.0</td>\n",
       "      <td>-228037.0</td>\n",
       "      <td>27811.0</td>\n",
       "      <td>-33194.0</td>\n",
       "      <td>-84663.0</td>\n",
       "      <td>-157224.0</td>\n",
       "      <td>116054.0</td>\n",
       "      <td>33934.0</td>\n",
       "      <td>86780.0</td>\n",
       "      <td>111069.0</td>\n",
       "    </tr>\n",
       "    <tr>\n",
       "      <th>52</th>\n",
       "      <td>81824.0</td>\n",
       "      <td>116195.0</td>\n",
       "      <td>201298.0</td>\n",
       "      <td>4063.0</td>\n",
       "      <td>-46105.0</td>\n",
       "      <td>-228037.0</td>\n",
       "      <td>27811.0</td>\n",
       "      <td>-33194.0</td>\n",
       "      <td>-84663.0</td>\n",
       "      <td>-157224.0</td>\n",
       "      <td>116054.0</td>\n",
       "      <td>33934.0</td>\n",
       "      <td>86780.0</td>\n",
       "    </tr>\n",
       "    <tr>\n",
       "      <th>53</th>\n",
       "      <td>43938.0</td>\n",
       "      <td>81824.0</td>\n",
       "      <td>116195.0</td>\n",
       "      <td>201298.0</td>\n",
       "      <td>4063.0</td>\n",
       "      <td>-46105.0</td>\n",
       "      <td>-228037.0</td>\n",
       "      <td>27811.0</td>\n",
       "      <td>-33194.0</td>\n",
       "      <td>-84663.0</td>\n",
       "      <td>-157224.0</td>\n",
       "      <td>116054.0</td>\n",
       "      <td>33934.0</td>\n",
       "    </tr>\n",
       "    <tr>\n",
       "      <th>54</th>\n",
       "      <td>106769.0</td>\n",
       "      <td>43938.0</td>\n",
       "      <td>81824.0</td>\n",
       "      <td>116195.0</td>\n",
       "      <td>201298.0</td>\n",
       "      <td>4063.0</td>\n",
       "      <td>-46105.0</td>\n",
       "      <td>-228037.0</td>\n",
       "      <td>27811.0</td>\n",
       "      <td>-33194.0</td>\n",
       "      <td>-84663.0</td>\n",
       "      <td>-157224.0</td>\n",
       "      <td>116054.0</td>\n",
       "    </tr>\n",
       "    <tr>\n",
       "      <th>55</th>\n",
       "      <td>-144990.0</td>\n",
       "      <td>106769.0</td>\n",
       "      <td>43938.0</td>\n",
       "      <td>81824.0</td>\n",
       "      <td>116195.0</td>\n",
       "      <td>201298.0</td>\n",
       "      <td>4063.0</td>\n",
       "      <td>-46105.0</td>\n",
       "      <td>-228037.0</td>\n",
       "      <td>27811.0</td>\n",
       "      <td>-33194.0</td>\n",
       "      <td>-84663.0</td>\n",
       "      <td>-157224.0</td>\n",
       "    </tr>\n",
       "    <tr>\n",
       "      <th>56</th>\n",
       "      <td>-91140.0</td>\n",
       "      <td>-144990.0</td>\n",
       "      <td>106769.0</td>\n",
       "      <td>43938.0</td>\n",
       "      <td>81824.0</td>\n",
       "      <td>116195.0</td>\n",
       "      <td>201298.0</td>\n",
       "      <td>4063.0</td>\n",
       "      <td>-46105.0</td>\n",
       "      <td>-228037.0</td>\n",
       "      <td>27811.0</td>\n",
       "      <td>-33194.0</td>\n",
       "      <td>-84663.0</td>\n",
       "    </tr>\n",
       "    <tr>\n",
       "      <th>57</th>\n",
       "      <td>-44103.0</td>\n",
       "      <td>-91140.0</td>\n",
       "      <td>-144990.0</td>\n",
       "      <td>106769.0</td>\n",
       "      <td>43938.0</td>\n",
       "      <td>81824.0</td>\n",
       "      <td>116195.0</td>\n",
       "      <td>201298.0</td>\n",
       "      <td>4063.0</td>\n",
       "      <td>-46105.0</td>\n",
       "      <td>-228037.0</td>\n",
       "      <td>27811.0</td>\n",
       "      <td>-33194.0</td>\n",
       "    </tr>\n",
       "    <tr>\n",
       "      <th>58</th>\n",
       "      <td>37677.0</td>\n",
       "      <td>-44103.0</td>\n",
       "      <td>-91140.0</td>\n",
       "      <td>-144990.0</td>\n",
       "      <td>106769.0</td>\n",
       "      <td>43938.0</td>\n",
       "      <td>81824.0</td>\n",
       "      <td>116195.0</td>\n",
       "      <td>201298.0</td>\n",
       "      <td>4063.0</td>\n",
       "      <td>-46105.0</td>\n",
       "      <td>-228037.0</td>\n",
       "      <td>27811.0</td>\n",
       "    </tr>\n",
       "    <tr>\n",
       "      <th>59</th>\n",
       "      <td>-233667.0</td>\n",
       "      <td>37677.0</td>\n",
       "      <td>-44103.0</td>\n",
       "      <td>-91140.0</td>\n",
       "      <td>-144990.0</td>\n",
       "      <td>106769.0</td>\n",
       "      <td>43938.0</td>\n",
       "      <td>81824.0</td>\n",
       "      <td>116195.0</td>\n",
       "      <td>201298.0</td>\n",
       "      <td>4063.0</td>\n",
       "      <td>-46105.0</td>\n",
       "      <td>-228037.0</td>\n",
       "    </tr>\n",
       "  </tbody>\n",
       "</table>\n",
       "</div>"
      ],
      "text/plain": [
       "        diff     lag_1     lag_2     lag_3     lag_4     lag_5     lag_6  \\\n",
       "13    3130.0   19380.0 -186036.0   36056.0  -33320.0  -76854.0  -89161.0   \n",
       "14  175184.0    3130.0   19380.0 -186036.0   36056.0  -33320.0  -76854.0   \n",
       "15   84613.0  175184.0    3130.0   19380.0 -186036.0   36056.0  -33320.0   \n",
       "16   93963.0   84613.0  175184.0    3130.0   19380.0 -186036.0   36056.0   \n",
       "17   23965.0   93963.0   84613.0  175184.0    3130.0   19380.0 -186036.0   \n",
       "18   82168.0   23965.0   93963.0   84613.0  175184.0    3130.0   19380.0   \n",
       "19 -103414.0   82168.0   23965.0   93963.0   84613.0  175184.0    3130.0   \n",
       "20 -100472.0 -103414.0   82168.0   23965.0   93963.0   84613.0  175184.0   \n",
       "21  -26241.0 -100472.0 -103414.0   82168.0   23965.0   93963.0   84613.0   \n",
       "22   41900.0  -26241.0 -100472.0 -103414.0   82168.0   23965.0   93963.0   \n",
       "23 -222735.0   41900.0  -26241.0 -100472.0 -103414.0   82168.0   23965.0   \n",
       "24  -25535.0 -222735.0   41900.0  -26241.0 -100472.0 -103414.0   82168.0   \n",
       "25   -1196.0  -25535.0 -222735.0   41900.0  -26241.0 -100472.0 -103414.0   \n",
       "26  179634.0   -1196.0  -25535.0 -222735.0   41900.0  -26241.0 -100472.0   \n",
       "27   93516.0  179634.0   -1196.0  -25535.0 -222735.0   41900.0  -26241.0   \n",
       "28  102435.0   93516.0  179634.0   -1196.0  -25535.0 -222735.0   41900.0   \n",
       "29   10282.0  102435.0   93516.0  179634.0   -1196.0  -25535.0 -222735.0   \n",
       "30  100166.0   10282.0  102435.0   93516.0  179634.0   -1196.0  -25535.0   \n",
       "31 -116949.0  100166.0   10282.0  102435.0   93516.0  179634.0   -1196.0   \n",
       "32  -97069.0 -116949.0  100166.0   10282.0  102435.0   93516.0  179634.0   \n",
       "33  -26079.0  -97069.0 -116949.0  100166.0   10282.0  102435.0   93516.0   \n",
       "34   30392.0  -26079.0  -97069.0 -116949.0  100166.0   10282.0  102435.0   \n",
       "35 -220073.0   30392.0  -26079.0  -97069.0 -116949.0  100166.0   10282.0   \n",
       "36   -5133.0 -220073.0   30392.0  -26079.0  -97069.0 -116949.0  100166.0   \n",
       "37   12518.0   -5133.0 -220073.0   30392.0  -26079.0  -97069.0 -116949.0   \n",
       "38  175924.0   12518.0   -5133.0 -220073.0   30392.0  -26079.0  -97069.0   \n",
       "39  111069.0  175924.0   12518.0   -5133.0 -220073.0   30392.0  -26079.0   \n",
       "40   86780.0  111069.0  175924.0   12518.0   -5133.0 -220073.0   30392.0   \n",
       "41   33934.0   86780.0  111069.0  175924.0   12518.0   -5133.0 -220073.0   \n",
       "42  116054.0   33934.0   86780.0  111069.0  175924.0   12518.0   -5133.0   \n",
       "43 -157224.0  116054.0   33934.0   86780.0  111069.0  175924.0   12518.0   \n",
       "44  -84663.0 -157224.0  116054.0   33934.0   86780.0  111069.0  175924.0   \n",
       "45  -33194.0  -84663.0 -157224.0  116054.0   33934.0   86780.0  111069.0   \n",
       "46   27811.0  -33194.0  -84663.0 -157224.0  116054.0   33934.0   86780.0   \n",
       "47 -228037.0   27811.0  -33194.0  -84663.0 -157224.0  116054.0   33934.0   \n",
       "48  -46105.0 -228037.0   27811.0  -33194.0  -84663.0 -157224.0  116054.0   \n",
       "49    4063.0  -46105.0 -228037.0   27811.0  -33194.0  -84663.0 -157224.0   \n",
       "50  201298.0    4063.0  -46105.0 -228037.0   27811.0  -33194.0  -84663.0   \n",
       "51  116195.0  201298.0    4063.0  -46105.0 -228037.0   27811.0  -33194.0   \n",
       "52   81824.0  116195.0  201298.0    4063.0  -46105.0 -228037.0   27811.0   \n",
       "53   43938.0   81824.0  116195.0  201298.0    4063.0  -46105.0 -228037.0   \n",
       "54  106769.0   43938.0   81824.0  116195.0  201298.0    4063.0  -46105.0   \n",
       "55 -144990.0  106769.0   43938.0   81824.0  116195.0  201298.0    4063.0   \n",
       "56  -91140.0 -144990.0  106769.0   43938.0   81824.0  116195.0  201298.0   \n",
       "57  -44103.0  -91140.0 -144990.0  106769.0   43938.0   81824.0  116195.0   \n",
       "58   37677.0  -44103.0  -91140.0 -144990.0  106769.0   43938.0   81824.0   \n",
       "59 -233667.0   37677.0  -44103.0  -91140.0 -144990.0  106769.0   43938.0   \n",
       "\n",
       "       lag_7     lag_8     lag_9    lag_10    lag_11    lag_12  \n",
       "13   60325.0   32355.0   80968.0   64892.0  157965.0    4513.0  \n",
       "14  -89161.0   60325.0   32355.0   80968.0   64892.0  157965.0  \n",
       "15  -76854.0  -89161.0   60325.0   32355.0   80968.0   64892.0  \n",
       "16  -33320.0  -76854.0  -89161.0   60325.0   32355.0   80968.0  \n",
       "17   36056.0  -33320.0  -76854.0  -89161.0   60325.0   32355.0  \n",
       "18 -186036.0   36056.0  -33320.0  -76854.0  -89161.0   60325.0  \n",
       "19   19380.0 -186036.0   36056.0  -33320.0  -76854.0  -89161.0  \n",
       "20    3130.0   19380.0 -186036.0   36056.0  -33320.0  -76854.0  \n",
       "21  175184.0    3130.0   19380.0 -186036.0   36056.0  -33320.0  \n",
       "22   84613.0  175184.0    3130.0   19380.0 -186036.0   36056.0  \n",
       "23   93963.0   84613.0  175184.0    3130.0   19380.0 -186036.0  \n",
       "24   23965.0   93963.0   84613.0  175184.0    3130.0   19380.0  \n",
       "25   82168.0   23965.0   93963.0   84613.0  175184.0    3130.0  \n",
       "26 -103414.0   82168.0   23965.0   93963.0   84613.0  175184.0  \n",
       "27 -100472.0 -103414.0   82168.0   23965.0   93963.0   84613.0  \n",
       "28  -26241.0 -100472.0 -103414.0   82168.0   23965.0   93963.0  \n",
       "29   41900.0  -26241.0 -100472.0 -103414.0   82168.0   23965.0  \n",
       "30 -222735.0   41900.0  -26241.0 -100472.0 -103414.0   82168.0  \n",
       "31  -25535.0 -222735.0   41900.0  -26241.0 -100472.0 -103414.0  \n",
       "32   -1196.0  -25535.0 -222735.0   41900.0  -26241.0 -100472.0  \n",
       "33  179634.0   -1196.0  -25535.0 -222735.0   41900.0  -26241.0  \n",
       "34   93516.0  179634.0   -1196.0  -25535.0 -222735.0   41900.0  \n",
       "35  102435.0   93516.0  179634.0   -1196.0  -25535.0 -222735.0  \n",
       "36   10282.0  102435.0   93516.0  179634.0   -1196.0  -25535.0  \n",
       "37  100166.0   10282.0  102435.0   93516.0  179634.0   -1196.0  \n",
       "38 -116949.0  100166.0   10282.0  102435.0   93516.0  179634.0  \n",
       "39  -97069.0 -116949.0  100166.0   10282.0  102435.0   93516.0  \n",
       "40  -26079.0  -97069.0 -116949.0  100166.0   10282.0  102435.0  \n",
       "41   30392.0  -26079.0  -97069.0 -116949.0  100166.0   10282.0  \n",
       "42 -220073.0   30392.0  -26079.0  -97069.0 -116949.0  100166.0  \n",
       "43   -5133.0 -220073.0   30392.0  -26079.0  -97069.0 -116949.0  \n",
       "44   12518.0   -5133.0 -220073.0   30392.0  -26079.0  -97069.0  \n",
       "45  175924.0   12518.0   -5133.0 -220073.0   30392.0  -26079.0  \n",
       "46  111069.0  175924.0   12518.0   -5133.0 -220073.0   30392.0  \n",
       "47   86780.0  111069.0  175924.0   12518.0   -5133.0 -220073.0  \n",
       "48   33934.0   86780.0  111069.0  175924.0   12518.0   -5133.0  \n",
       "49  116054.0   33934.0   86780.0  111069.0  175924.0   12518.0  \n",
       "50 -157224.0  116054.0   33934.0   86780.0  111069.0  175924.0  \n",
       "51  -84663.0 -157224.0  116054.0   33934.0   86780.0  111069.0  \n",
       "52  -33194.0  -84663.0 -157224.0  116054.0   33934.0   86780.0  \n",
       "53   27811.0  -33194.0  -84663.0 -157224.0  116054.0   33934.0  \n",
       "54 -228037.0   27811.0  -33194.0  -84663.0 -157224.0  116054.0  \n",
       "55  -46105.0 -228037.0   27811.0  -33194.0  -84663.0 -157224.0  \n",
       "56    4063.0  -46105.0 -228037.0   27811.0  -33194.0  -84663.0  \n",
       "57  201298.0    4063.0  -46105.0 -228037.0   27811.0  -33194.0  \n",
       "58  116195.0  201298.0    4063.0  -46105.0 -228037.0   27811.0  \n",
       "59   81824.0  116195.0  201298.0    4063.0  -46105.0 -228037.0  "
      ]
     },
     "execution_count": 118,
     "metadata": {},
     "output_type": "execute_result"
    }
   ],
   "source": [
    "df_model\n"
   ]
  },
  {
   "cell_type": "code",
   "execution_count": 83,
   "metadata": {},
   "outputs": [],
   "source": [
    "train_set,test_set=df_model[0:-6].values,df_model[-6:].values"
   ]
  },
  {
   "cell_type": "code",
   "execution_count": 84,
   "metadata": {},
   "outputs": [
    {
     "data": {
      "text/plain": [
       "array([[   3130.,   19380., -186036.,   36056.,  -33320.,  -76854.,\n",
       "         -89161.,   60325.,   32355.,   80968.,   64892.,  157965.,\n",
       "           4513.],\n",
       "       [ 175184.,    3130.,   19380., -186036.,   36056.,  -33320.,\n",
       "         -76854.,  -89161.,   60325.,   32355.,   80968.,   64892.,\n",
       "         157965.],\n",
       "       [  84613.,  175184.,    3130.,   19380., -186036.,   36056.,\n",
       "         -33320.,  -76854.,  -89161.,   60325.,   32355.,   80968.,\n",
       "          64892.],\n",
       "       [  93963.,   84613.,  175184.,    3130.,   19380., -186036.,\n",
       "          36056.,  -33320.,  -76854.,  -89161.,   60325.,   32355.,\n",
       "          80968.],\n",
       "       [  23965.,   93963.,   84613.,  175184.,    3130.,   19380.,\n",
       "        -186036.,   36056.,  -33320.,  -76854.,  -89161.,   60325.,\n",
       "          32355.],\n",
       "       [  82168.,   23965.,   93963.,   84613.,  175184.,    3130.,\n",
       "          19380., -186036.,   36056.,  -33320.,  -76854.,  -89161.,\n",
       "          60325.],\n",
       "       [-103414.,   82168.,   23965.,   93963.,   84613.,  175184.,\n",
       "           3130.,   19380., -186036.,   36056.,  -33320.,  -76854.,\n",
       "         -89161.],\n",
       "       [-100472., -103414.,   82168.,   23965.,   93963.,   84613.,\n",
       "         175184.,    3130.,   19380., -186036.,   36056.,  -33320.,\n",
       "         -76854.],\n",
       "       [ -26241., -100472., -103414.,   82168.,   23965.,   93963.,\n",
       "          84613.,  175184.,    3130.,   19380., -186036.,   36056.,\n",
       "         -33320.],\n",
       "       [  41900.,  -26241., -100472., -103414.,   82168.,   23965.,\n",
       "          93963.,   84613.,  175184.,    3130.,   19380., -186036.,\n",
       "          36056.],\n",
       "       [-222735.,   41900.,  -26241., -100472., -103414.,   82168.,\n",
       "          23965.,   93963.,   84613.,  175184.,    3130.,   19380.,\n",
       "        -186036.],\n",
       "       [ -25535., -222735.,   41900.,  -26241., -100472., -103414.,\n",
       "          82168.,   23965.,   93963.,   84613.,  175184.,    3130.,\n",
       "          19380.],\n",
       "       [  -1196.,  -25535., -222735.,   41900.,  -26241., -100472.,\n",
       "        -103414.,   82168.,   23965.,   93963.,   84613.,  175184.,\n",
       "           3130.],\n",
       "       [ 179634.,   -1196.,  -25535., -222735.,   41900.,  -26241.,\n",
       "        -100472., -103414.,   82168.,   23965.,   93963.,   84613.,\n",
       "         175184.],\n",
       "       [  93516.,  179634.,   -1196.,  -25535., -222735.,   41900.,\n",
       "         -26241., -100472., -103414.,   82168.,   23965.,   93963.,\n",
       "          84613.],\n",
       "       [ 102435.,   93516.,  179634.,   -1196.,  -25535., -222735.,\n",
       "          41900.,  -26241., -100472., -103414.,   82168.,   23965.,\n",
       "          93963.],\n",
       "       [  10282.,  102435.,   93516.,  179634.,   -1196.,  -25535.,\n",
       "        -222735.,   41900.,  -26241., -100472., -103414.,   82168.,\n",
       "          23965.],\n",
       "       [ 100166.,   10282.,  102435.,   93516.,  179634.,   -1196.,\n",
       "         -25535., -222735.,   41900.,  -26241., -100472., -103414.,\n",
       "          82168.],\n",
       "       [-116949.,  100166.,   10282.,  102435.,   93516.,  179634.,\n",
       "          -1196.,  -25535., -222735.,   41900.,  -26241., -100472.,\n",
       "        -103414.],\n",
       "       [ -97069., -116949.,  100166.,   10282.,  102435.,   93516.,\n",
       "         179634.,   -1196.,  -25535., -222735.,   41900.,  -26241.,\n",
       "        -100472.],\n",
       "       [ -26079.,  -97069., -116949.,  100166.,   10282.,  102435.,\n",
       "          93516.,  179634.,   -1196.,  -25535., -222735.,   41900.,\n",
       "         -26241.],\n",
       "       [  30392.,  -26079.,  -97069., -116949.,  100166.,   10282.,\n",
       "         102435.,   93516.,  179634.,   -1196.,  -25535., -222735.,\n",
       "          41900.],\n",
       "       [-220073.,   30392.,  -26079.,  -97069., -116949.,  100166.,\n",
       "          10282.,  102435.,   93516.,  179634.,   -1196.,  -25535.,\n",
       "        -222735.],\n",
       "       [  -5133., -220073.,   30392.,  -26079.,  -97069., -116949.,\n",
       "         100166.,   10282.,  102435.,   93516.,  179634.,   -1196.,\n",
       "         -25535.],\n",
       "       [  12518.,   -5133., -220073.,   30392.,  -26079.,  -97069.,\n",
       "        -116949.,  100166.,   10282.,  102435.,   93516.,  179634.,\n",
       "          -1196.],\n",
       "       [ 175924.,   12518.,   -5133., -220073.,   30392.,  -26079.,\n",
       "         -97069., -116949.,  100166.,   10282.,  102435.,   93516.,\n",
       "         179634.],\n",
       "       [ 111069.,  175924.,   12518.,   -5133., -220073.,   30392.,\n",
       "         -26079.,  -97069., -116949.,  100166.,   10282.,  102435.,\n",
       "          93516.],\n",
       "       [  86780.,  111069.,  175924.,   12518.,   -5133., -220073.,\n",
       "          30392.,  -26079.,  -97069., -116949.,  100166.,   10282.,\n",
       "         102435.],\n",
       "       [  33934.,   86780.,  111069.,  175924.,   12518.,   -5133.,\n",
       "        -220073.,   30392.,  -26079.,  -97069., -116949.,  100166.,\n",
       "          10282.],\n",
       "       [ 116054.,   33934.,   86780.,  111069.,  175924.,   12518.,\n",
       "          -5133., -220073.,   30392.,  -26079.,  -97069., -116949.,\n",
       "         100166.],\n",
       "       [-157224.,  116054.,   33934.,   86780.,  111069.,  175924.,\n",
       "          12518.,   -5133., -220073.,   30392.,  -26079.,  -97069.,\n",
       "        -116949.],\n",
       "       [ -84663., -157224.,  116054.,   33934.,   86780.,  111069.,\n",
       "         175924.,   12518.,   -5133., -220073.,   30392.,  -26079.,\n",
       "         -97069.],\n",
       "       [ -33194.,  -84663., -157224.,  116054.,   33934.,   86780.,\n",
       "         111069.,  175924.,   12518.,   -5133., -220073.,   30392.,\n",
       "         -26079.],\n",
       "       [  27811.,  -33194.,  -84663., -157224.,  116054.,   33934.,\n",
       "          86780.,  111069.,  175924.,   12518.,   -5133., -220073.,\n",
       "          30392.],\n",
       "       [-228037.,   27811.,  -33194.,  -84663., -157224.,  116054.,\n",
       "          33934.,   86780.,  111069.,  175924.,   12518.,   -5133.,\n",
       "        -220073.],\n",
       "       [ -46105., -228037.,   27811.,  -33194.,  -84663., -157224.,\n",
       "         116054.,   33934.,   86780.,  111069.,  175924.,   12518.,\n",
       "          -5133.],\n",
       "       [   4063.,  -46105., -228037.,   27811.,  -33194.,  -84663.,\n",
       "        -157224.,  116054.,   33934.,   86780.,  111069.,  175924.,\n",
       "          12518.],\n",
       "       [ 201298.,    4063.,  -46105., -228037.,   27811.,  -33194.,\n",
       "         -84663., -157224.,  116054.,   33934.,   86780.,  111069.,\n",
       "         175924.],\n",
       "       [ 116195.,  201298.,    4063.,  -46105., -228037.,   27811.,\n",
       "         -33194.,  -84663., -157224.,  116054.,   33934.,   86780.,\n",
       "         111069.],\n",
       "       [  81824.,  116195.,  201298.,    4063.,  -46105., -228037.,\n",
       "          27811.,  -33194.,  -84663., -157224.,  116054.,   33934.,\n",
       "          86780.],\n",
       "       [  43938.,   81824.,  116195.,  201298.,    4063.,  -46105.,\n",
       "        -228037.,   27811.,  -33194.,  -84663., -157224.,  116054.,\n",
       "          33934.]])"
      ]
     },
     "execution_count": 84,
     "metadata": {},
     "output_type": "execute_result"
    }
   ],
   "source": [
    "train_set"
   ]
  },
  {
   "cell_type": "code",
   "execution_count": 85,
   "metadata": {},
   "outputs": [
    {
     "data": {
      "text/plain": [
       "array([[ 106769.,   43938.,   81824.,  116195.,  201298.,    4063.,\n",
       "         -46105., -228037.,   27811.,  -33194.,  -84663., -157224.,\n",
       "         116054.],\n",
       "       [-144990.,  106769.,   43938.,   81824.,  116195.,  201298.,\n",
       "           4063.,  -46105., -228037.,   27811.,  -33194.,  -84663.,\n",
       "        -157224.],\n",
       "       [ -91140., -144990.,  106769.,   43938.,   81824.,  116195.,\n",
       "         201298.,    4063.,  -46105., -228037.,   27811.,  -33194.,\n",
       "         -84663.],\n",
       "       [ -44103.,  -91140., -144990.,  106769.,   43938.,   81824.,\n",
       "         116195.,  201298.,    4063.,  -46105., -228037.,   27811.,\n",
       "         -33194.],\n",
       "       [  37677.,  -44103.,  -91140., -144990.,  106769.,   43938.,\n",
       "          81824.,  116195.,  201298.,    4063.,  -46105., -228037.,\n",
       "          27811.],\n",
       "       [-233667.,   37677.,  -44103.,  -91140., -144990.,  106769.,\n",
       "          43938.,   81824.,  116195.,  201298.,    4063.,  -46105.,\n",
       "        -228037.]])"
      ]
     },
     "execution_count": 85,
     "metadata": {},
     "output_type": "execute_result"
    }
   ],
   "source": [
    "test_set"
   ]
  },
  {
   "cell_type": "code",
   "execution_count": 119,
   "metadata": {},
   "outputs": [
    {
     "data": {
      "text/plain": [
       "MinMaxScaler(feature_range=(-1, 1))"
      ]
     },
     "execution_count": 119,
     "metadata": {},
     "output_type": "execute_result"
    }
   ],
   "source": [
    "scaler=MinMaxScaler(feature_range=(-1, 1))\n",
    "scaler.fit(train_set)"
   ]
  },
  {
   "cell_type": "code",
   "execution_count": 120,
   "metadata": {},
   "outputs": [],
   "source": [
    "train_set = train_set.reshape(train_set.shape[0], train_set.shape[1])\n",
    "train_set_scaled=scaler.transform(train_set)"
   ]
  },
  {
   "cell_type": "code",
   "execution_count": 121,
   "metadata": {},
   "outputs": [
    {
     "data": {
      "text/plain": [
       "array([[ 0.07686073,  0.15255919, -0.80434393,  0.23024212, -0.0447346 ,\n",
       "        -0.25830878, -0.3186859 ,  0.40696724,  0.26794062,  0.50957454,\n",
       "         0.42966779,  0.8922929 ,  0.12955024],\n",
       "       [ 0.8783514 ,  0.07686073,  0.15255919, -0.80434393,  0.29561828,\n",
       "        -0.0447346 , -0.25830878, -0.33606217,  0.40696724,  0.26794062,\n",
       "         0.50957454,  0.42966779,  0.8922929 ],\n",
       "       [ 0.45643845,  0.8783514 ,  0.07686073,  0.15255919, -0.79394659,\n",
       "         0.29561828, -0.0447346 , -0.27488947, -0.33606217,  0.40696724,\n",
       "         0.26794062,  0.50957454,  0.42966779],\n",
       "       [ 0.49999418,  0.45643845,  0.8783514 ,  0.07686073,  0.21380721,\n",
       "        -0.79394659,  0.29561828, -0.05850103, -0.27488947, -0.33606217,\n",
       "         0.40696724,  0.26794062,  0.50957454],\n",
       "       [ 0.1739178 ,  0.49999418,  0.45643845,  0.8783514 ,  0.13408606,\n",
       "         0.21380721, -0.79394659,  0.28633667, -0.05850103, -0.27488947,\n",
       "        -0.33606217,  0.40696724,  0.26794062],\n",
       "       [ 0.44504874,  0.1739178 ,  0.49999418,  0.45643845,  0.97816867,\n",
       "         0.13408606,  0.21380721, -0.81758535,  0.28633667, -0.05850103,\n",
       "        -0.27488947, -0.33606217,  0.40696724],\n",
       "       [-0.41946033,  0.44504874,  0.1739178 ,  0.49999418,  0.53383488,\n",
       "         0.97816867,  0.13408606,  0.20344758, -0.81758535,  0.28633667,\n",
       "        -0.05850103, -0.27488947, -0.33606217],\n",
       "       [-0.40575541, -0.41946033,  0.44504874,  0.1739178 ,  0.5797052 ,\n",
       "         0.53383488,  0.97816867,  0.12267595,  0.20344758, -0.81758535,\n",
       "         0.28633667, -0.05850103, -0.27488947],\n",
       "       [-0.05996017, -0.40575541, -0.41946033,  0.44504874,  0.23630084,\n",
       "         0.5797052 ,  0.53383488,  0.977881  ,  0.12267595,  0.20344758,\n",
       "        -0.81758535,  0.28633667, -0.05850103],\n",
       "       [ 0.25746562, -0.05996017, -0.40575541, -0.41946033,  0.52183992,\n",
       "         0.23630084,  0.5797052 ,  0.52769224,  0.977881  ,  0.12267595,\n",
       "         0.20344758, -0.81758535,  0.28633667],\n",
       "       [-0.97530134,  0.25746562, -0.05996017, -0.40575541, -0.38860993,\n",
       "         0.52183992,  0.23630084,  0.574167  ,  0.52769224,  0.977881  ,\n",
       "         0.12267595,  0.20344758, -0.81758535],\n",
       "       [-0.05667136, -0.97530134,  0.25746562, -0.05996017, -0.37417673,\n",
       "        -0.38860993,  0.52183992,  0.22623761,  0.574167  ,  0.52769224,\n",
       "         0.977881  ,  0.12267595,  0.20344758],\n",
       "       [ 0.05670863, -0.05667136, -0.97530134,  0.25746562, -0.01000562,\n",
       "        -0.37417673, -0.38860993,  0.51553922,  0.22623761,  0.574167  ,\n",
       "         0.52769224,  0.977881  ,  0.12267595],\n",
       "       [ 0.89908114,  0.05670863, -0.05667136, -0.97530134,  0.32428846,\n",
       "        -0.01000562, -0.37417673, -0.40690759,  0.51553922,  0.22623761,\n",
       "         0.574167  ,  0.52769224,  0.977881  ],\n",
       "       [ 0.49791189,  0.89908114,  0.05670863, -0.05667136, -0.97398883,\n",
       "         0.32428846, -0.01000562, -0.3922842 , -0.40690759,  0.51553922,\n",
       "         0.22623761,  0.574167  ,  0.52769224],\n",
       "       [ 0.53945986,  0.49791189,  0.89908114,  0.05670863, -0.00654204,\n",
       "        -0.97398883,  0.32428846, -0.02331442, -0.3922842 , -0.40690759,\n",
       "         0.51553922,  0.22623761,  0.574167  ],\n",
       "       [ 0.11017737,  0.53945986,  0.49791189,  0.89908114,  0.11286307,\n",
       "        -0.00654204, -0.97398883,  0.31538463, -0.02331442, -0.3922842 ,\n",
       "        -0.40690759,  0.51553922,  0.22623761],\n",
       "       [ 0.52889003,  0.11017737,  0.53945986,  0.49791189,  1.        ,\n",
       "         0.11286307, -0.00654204, -1.        ,  0.31538463, -0.02331442,\n",
       "        -0.3922842 , -0.40690759,  0.51553922],\n",
       "       [-0.48251133,  0.52889003,  0.11017737,  0.53945986,  0.57751226,\n",
       "         1.        ,  0.11286307, -0.0198052 , -1.        ,  0.31538463,\n",
       "        -0.02331442, -0.3922842 , -0.40690759],\n",
       "       [-0.38990299, -0.48251133,  0.52889003,  0.11017737,  0.62126813,\n",
       "         0.57751226,  1.        ,  0.1011733 , -0.0198052 , -1.        ,\n",
       "         0.31538463, -0.02331442, -0.3922842 ],\n",
       "       [-0.05920552, -0.38990299, -0.48251133,  0.52889003,  0.16917318,\n",
       "         0.62126813,  0.57751226,  1.        ,  0.1011733 , -0.0198052 ,\n",
       "        -1.        ,  0.31538463, -0.02331442],\n",
       "       [ 0.20385713, -0.05920552, -0.38990299, -0.48251133,  0.61013661,\n",
       "         0.16917318,  0.62126813,  0.57194515,  1.        ,  0.1011733 ,\n",
       "        -0.0198052 , -1.        ,  0.31538463],\n",
       "       [-0.96290077,  0.20385713, -0.05920552, -0.38990299, -0.45501152,\n",
       "         0.61013661,  0.16917318,  0.6162776 ,  0.57194515,  1.        ,\n",
       "         0.1011733 , -0.0198052 , -1.        ],\n",
       "       [ 0.03836864, -0.96290077,  0.20385713, -0.05920552, -0.35748189,\n",
       "        -0.45501152,  0.61013661,  0.15822541,  0.6162776 ,  0.57194515,\n",
       "         1.        ,  0.1011733 , -0.0198052 ],\n",
       "       [ 0.12059348,  0.03836864, -0.96290077,  0.20385713, -0.00921086,\n",
       "        -0.35748189, -0.45501152,  0.60499939,  0.15822541,  0.6162776 ,\n",
       "         0.57194515,  1.        ,  0.1011733 ],\n",
       "       [ 0.8817986 ,  0.12059348,  0.03836864, -0.96290077,  0.26783117,\n",
       "        -0.00921086, -0.35748189, -0.47418414,  0.60499939,  0.15822541,\n",
       "         0.6162776 ,  0.57194515,  1.        ],\n",
       "       [ 0.5796802 ,  0.8817986 ,  0.12059348,  0.03836864, -0.96092928,\n",
       "         0.26783117, -0.00921086, -0.37536937, -0.47418414,  0.60499939,\n",
       "         0.15822541,  0.6162776 ,  0.57194515],\n",
       "       [ 0.46653313,  0.5796802 ,  0.8817986 ,  0.12059348,  0.09354847,\n",
       "        -0.96092928,  0.26783117, -0.02250919, -0.37536937, -0.47418414,\n",
       "         0.60499939,  0.15822541,  0.6162776 ],\n",
       "       [ 0.22035706,  0.46653313,  0.5796802 ,  0.8817986 ,  0.18014281,\n",
       "         0.09354847, -0.96092928,  0.25818341, -0.02250919, -0.37536937,\n",
       "        -0.47418414,  0.60499939,  0.15822541],\n",
       "       [ 0.60290216,  0.22035706,  0.46653313,  0.5796802 ,  0.98179905,\n",
       "         0.18014281,  0.09354847, -0.98676836,  0.25818341, -0.02250919,\n",
       "        -0.37536937, -0.47418414,  0.60499939],\n",
       "       [-0.67012706,  0.60290216,  0.22035706,  0.46653313,  0.66362582,\n",
       "         0.98179905,  0.18014281,  0.0816042 , -0.98676836,  0.25818341,\n",
       "        -0.02250919, -0.37536937, -0.47418414],\n",
       "       [-0.33211129, -0.67012706,  0.60290216,  0.22035706,  0.544466  ,\n",
       "         0.66362582,  0.98179905,  0.16933959,  0.0816042 , -0.98676836,\n",
       "         0.25818341, -0.02250919, -0.37536937],\n",
       "       [-0.0923498 , -0.33211129, -0.67012706,  0.60290216,  0.28520793,\n",
       "         0.544466  ,  0.66362582,  0.98155922,  0.16933959,  0.0816042 ,\n",
       "        -0.98676836,  0.25818341, -0.02250919],\n",
       "       [ 0.19183388, -0.0923498 , -0.33211129, -0.67012706,  0.68808181,\n",
       "         0.28520793,  0.544466  ,  0.65919343,  0.98155922,  0.16933959,\n",
       "         0.0816042 , -0.98676836,  0.25818341],\n",
       "       [-1.        ,  0.19183388, -0.0923498 , -0.33211129, -0.65259731,\n",
       "         0.68808181,  0.28520793,  0.53846345,  0.65919343,  0.98155922,\n",
       "         0.16933959,  0.0816042 , -0.98676836],\n",
       "       [-0.15249397, -1.        ,  0.19183388, -0.0923498 , -0.29661909,\n",
       "        -0.65259731,  0.68808181,  0.27578914,  0.53846345,  0.65919343,\n",
       "         0.98155922,  0.16933959,  0.0816042 ],\n",
       "       [ 0.08120698, -0.15249397, -1.        ,  0.19183388, -0.04411646,\n",
       "        -0.29661909, -0.65259731,  0.68397168,  0.27578914,  0.53846345,\n",
       "         0.65919343,  0.98155922,  0.16933959],\n",
       "       [ 1.        ,  0.08120698, -0.15249397, -1.        ,  0.255169  ,\n",
       "        -0.04411646, -0.29661909, -0.67437352,  0.68397168,  0.27578914,\n",
       "         0.53846345,  0.65919343,  0.98155922],\n",
       "       [ 0.60355899,  1.        ,  0.08120698, -0.15249397, -1.        ,\n",
       "         0.255169  , -0.04411646, -0.31370458, -0.67437352,  0.68397168,\n",
       "         0.27578914,  0.53846345,  0.65919343],\n",
       "       [ 0.44344626,  0.60355899,  1.        ,  0.08120698, -0.10745675,\n",
       "        -1.        ,  0.255169  , -0.05787474, -0.31370458, -0.67437352,\n",
       "         0.68397168,  0.27578914,  0.53846345],\n",
       "       [ 0.26695937,  0.44344626,  0.60355899,  1.        ,  0.13866328,\n",
       "        -0.10745675, -1.        ,  0.24535439, -0.05787474, -0.31370458,\n",
       "        -0.67437352,  0.68397168,  0.27578914]])"
      ]
     },
     "execution_count": 121,
     "metadata": {},
     "output_type": "execute_result"
    }
   ],
   "source": [
    "train_set_scaled"
   ]
  },
  {
   "cell_type": "code",
   "execution_count": 122,
   "metadata": {},
   "outputs": [],
   "source": [
    "test_set = test_set.reshape(test_set.shape[0], test_set.shape[1])\n",
    "test_set_scaled = scaler.transform(test_set)"
   ]
  },
  {
   "cell_type": "code",
   "execution_count": null,
   "metadata": {},
   "outputs": [],
   "source": []
  },
  {
   "cell_type": "code",
   "execution_count": 124,
   "metadata": {},
   "outputs": [
    {
     "data": {
      "text/plain": [
       "array([[ 106769.,   43938.,   81824.,  116195.,  201298.,    4063.,\n",
       "         -46105., -228037.,   27811.,  -33194.,  -84663., -157224.,\n",
       "         116054.],\n",
       "       [-144990.,  106769.,   43938.,   81824.,  116195.,  201298.,\n",
       "           4063.,  -46105., -228037.,   27811.,  -33194.,  -84663.,\n",
       "        -157224.],\n",
       "       [ -91140., -144990.,  106769.,   43938.,   81824.,  116195.,\n",
       "         201298.,    4063.,  -46105., -228037.,   27811.,  -33194.,\n",
       "         -84663.],\n",
       "       [ -44103.,  -91140., -144990.,  106769.,   43938.,   81824.,\n",
       "         116195.,  201298.,    4063.,  -46105., -228037.,   27811.,\n",
       "         -33194.],\n",
       "       [  37677.,  -44103.,  -91140., -144990.,  106769.,   43938.,\n",
       "          81824.,  116195.,  201298.,    4063.,  -46105., -228037.,\n",
       "          27811.],\n",
       "       [-233667.,   37677.,  -44103.,  -91140., -144990.,  106769.,\n",
       "          43938.,   81824.,  116195.,  201298.,    4063.,  -46105.,\n",
       "        -228037.]])"
      ]
     },
     "execution_count": 124,
     "metadata": {},
     "output_type": "execute_result"
    }
   ],
   "source": [
    "test_set"
   ]
  },
  {
   "cell_type": "code",
   "execution_count": 125,
   "metadata": {},
   "outputs": [],
   "source": [
    "X_train, y_train = train_set_scaled[:, 1:], train_set_scaled[:, 0:1]\n",
    "X_train = X_train.reshape(X_train.shape[0], 1, X_train.shape[1])\n",
    "X_test, y_test = test_set_scaled[:, 1:], test_set_scaled[:, 0:1]\n",
    "X_test = X_test.reshape(X_test.shape[0], 1, X_test.shape[1])"
   ]
  },
  {
   "cell_type": "code",
   "execution_count": 126,
   "metadata": {},
   "outputs": [
    {
     "data": {
      "text/plain": [
       "array([[[ 0.15255919, -0.80434393,  0.23024212, -0.0447346 ,\n",
       "         -0.25830878, -0.3186859 ,  0.40696724,  0.26794062,\n",
       "          0.50957454,  0.42966779,  0.8922929 ,  0.12955024]],\n",
       "\n",
       "       [[ 0.07686073,  0.15255919, -0.80434393,  0.29561828,\n",
       "         -0.0447346 , -0.25830878, -0.33606217,  0.40696724,\n",
       "          0.26794062,  0.50957454,  0.42966779,  0.8922929 ]],\n",
       "\n",
       "       [[ 0.8783514 ,  0.07686073,  0.15255919, -0.79394659,\n",
       "          0.29561828, -0.0447346 , -0.27488947, -0.33606217,\n",
       "          0.40696724,  0.26794062,  0.50957454,  0.42966779]],\n",
       "\n",
       "       [[ 0.45643845,  0.8783514 ,  0.07686073,  0.21380721,\n",
       "         -0.79394659,  0.29561828, -0.05850103, -0.27488947,\n",
       "         -0.33606217,  0.40696724,  0.26794062,  0.50957454]],\n",
       "\n",
       "       [[ 0.49999418,  0.45643845,  0.8783514 ,  0.13408606,\n",
       "          0.21380721, -0.79394659,  0.28633667, -0.05850103,\n",
       "         -0.27488947, -0.33606217,  0.40696724,  0.26794062]],\n",
       "\n",
       "       [[ 0.1739178 ,  0.49999418,  0.45643845,  0.97816867,\n",
       "          0.13408606,  0.21380721, -0.81758535,  0.28633667,\n",
       "         -0.05850103, -0.27488947, -0.33606217,  0.40696724]],\n",
       "\n",
       "       [[ 0.44504874,  0.1739178 ,  0.49999418,  0.53383488,\n",
       "          0.97816867,  0.13408606,  0.20344758, -0.81758535,\n",
       "          0.28633667, -0.05850103, -0.27488947, -0.33606217]],\n",
       "\n",
       "       [[-0.41946033,  0.44504874,  0.1739178 ,  0.5797052 ,\n",
       "          0.53383488,  0.97816867,  0.12267595,  0.20344758,\n",
       "         -0.81758535,  0.28633667, -0.05850103, -0.27488947]],\n",
       "\n",
       "       [[-0.40575541, -0.41946033,  0.44504874,  0.23630084,\n",
       "          0.5797052 ,  0.53383488,  0.977881  ,  0.12267595,\n",
       "          0.20344758, -0.81758535,  0.28633667, -0.05850103]],\n",
       "\n",
       "       [[-0.05996017, -0.40575541, -0.41946033,  0.52183992,\n",
       "          0.23630084,  0.5797052 ,  0.52769224,  0.977881  ,\n",
       "          0.12267595,  0.20344758, -0.81758535,  0.28633667]],\n",
       "\n",
       "       [[ 0.25746562, -0.05996017, -0.40575541, -0.38860993,\n",
       "          0.52183992,  0.23630084,  0.574167  ,  0.52769224,\n",
       "          0.977881  ,  0.12267595,  0.20344758, -0.81758535]],\n",
       "\n",
       "       [[-0.97530134,  0.25746562, -0.05996017, -0.37417673,\n",
       "         -0.38860993,  0.52183992,  0.22623761,  0.574167  ,\n",
       "          0.52769224,  0.977881  ,  0.12267595,  0.20344758]],\n",
       "\n",
       "       [[-0.05667136, -0.97530134,  0.25746562, -0.01000562,\n",
       "         -0.37417673, -0.38860993,  0.51553922,  0.22623761,\n",
       "          0.574167  ,  0.52769224,  0.977881  ,  0.12267595]],\n",
       "\n",
       "       [[ 0.05670863, -0.05667136, -0.97530134,  0.32428846,\n",
       "         -0.01000562, -0.37417673, -0.40690759,  0.51553922,\n",
       "          0.22623761,  0.574167  ,  0.52769224,  0.977881  ]],\n",
       "\n",
       "       [[ 0.89908114,  0.05670863, -0.05667136, -0.97398883,\n",
       "          0.32428846, -0.01000562, -0.3922842 , -0.40690759,\n",
       "          0.51553922,  0.22623761,  0.574167  ,  0.52769224]],\n",
       "\n",
       "       [[ 0.49791189,  0.89908114,  0.05670863, -0.00654204,\n",
       "         -0.97398883,  0.32428846, -0.02331442, -0.3922842 ,\n",
       "         -0.40690759,  0.51553922,  0.22623761,  0.574167  ]],\n",
       "\n",
       "       [[ 0.53945986,  0.49791189,  0.89908114,  0.11286307,\n",
       "         -0.00654204, -0.97398883,  0.31538463, -0.02331442,\n",
       "         -0.3922842 , -0.40690759,  0.51553922,  0.22623761]],\n",
       "\n",
       "       [[ 0.11017737,  0.53945986,  0.49791189,  1.        ,\n",
       "          0.11286307, -0.00654204, -1.        ,  0.31538463,\n",
       "         -0.02331442, -0.3922842 , -0.40690759,  0.51553922]],\n",
       "\n",
       "       [[ 0.52889003,  0.11017737,  0.53945986,  0.57751226,\n",
       "          1.        ,  0.11286307, -0.0198052 , -1.        ,\n",
       "          0.31538463, -0.02331442, -0.3922842 , -0.40690759]],\n",
       "\n",
       "       [[-0.48251133,  0.52889003,  0.11017737,  0.62126813,\n",
       "          0.57751226,  1.        ,  0.1011733 , -0.0198052 ,\n",
       "         -1.        ,  0.31538463, -0.02331442, -0.3922842 ]],\n",
       "\n",
       "       [[-0.38990299, -0.48251133,  0.52889003,  0.16917318,\n",
       "          0.62126813,  0.57751226,  1.        ,  0.1011733 ,\n",
       "         -0.0198052 , -1.        ,  0.31538463, -0.02331442]],\n",
       "\n",
       "       [[-0.05920552, -0.38990299, -0.48251133,  0.61013661,\n",
       "          0.16917318,  0.62126813,  0.57194515,  1.        ,\n",
       "          0.1011733 , -0.0198052 , -1.        ,  0.31538463]],\n",
       "\n",
       "       [[ 0.20385713, -0.05920552, -0.38990299, -0.45501152,\n",
       "          0.61013661,  0.16917318,  0.6162776 ,  0.57194515,\n",
       "          1.        ,  0.1011733 , -0.0198052 , -1.        ]],\n",
       "\n",
       "       [[-0.96290077,  0.20385713, -0.05920552, -0.35748189,\n",
       "         -0.45501152,  0.61013661,  0.15822541,  0.6162776 ,\n",
       "          0.57194515,  1.        ,  0.1011733 , -0.0198052 ]],\n",
       "\n",
       "       [[ 0.03836864, -0.96290077,  0.20385713, -0.00921086,\n",
       "         -0.35748189, -0.45501152,  0.60499939,  0.15822541,\n",
       "          0.6162776 ,  0.57194515,  1.        ,  0.1011733 ]],\n",
       "\n",
       "       [[ 0.12059348,  0.03836864, -0.96290077,  0.26783117,\n",
       "         -0.00921086, -0.35748189, -0.47418414,  0.60499939,\n",
       "          0.15822541,  0.6162776 ,  0.57194515,  1.        ]],\n",
       "\n",
       "       [[ 0.8817986 ,  0.12059348,  0.03836864, -0.96092928,\n",
       "          0.26783117, -0.00921086, -0.37536937, -0.47418414,\n",
       "          0.60499939,  0.15822541,  0.6162776 ,  0.57194515]],\n",
       "\n",
       "       [[ 0.5796802 ,  0.8817986 ,  0.12059348,  0.09354847,\n",
       "         -0.96092928,  0.26783117, -0.02250919, -0.37536937,\n",
       "         -0.47418414,  0.60499939,  0.15822541,  0.6162776 ]],\n",
       "\n",
       "       [[ 0.46653313,  0.5796802 ,  0.8817986 ,  0.18014281,\n",
       "          0.09354847, -0.96092928,  0.25818341, -0.02250919,\n",
       "         -0.37536937, -0.47418414,  0.60499939,  0.15822541]],\n",
       "\n",
       "       [[ 0.22035706,  0.46653313,  0.5796802 ,  0.98179905,\n",
       "          0.18014281,  0.09354847, -0.98676836,  0.25818341,\n",
       "         -0.02250919, -0.37536937, -0.47418414,  0.60499939]],\n",
       "\n",
       "       [[ 0.60290216,  0.22035706,  0.46653313,  0.66362582,\n",
       "          0.98179905,  0.18014281,  0.0816042 , -0.98676836,\n",
       "          0.25818341, -0.02250919, -0.37536937, -0.47418414]],\n",
       "\n",
       "       [[-0.67012706,  0.60290216,  0.22035706,  0.544466  ,\n",
       "          0.66362582,  0.98179905,  0.16933959,  0.0816042 ,\n",
       "         -0.98676836,  0.25818341, -0.02250919, -0.37536937]],\n",
       "\n",
       "       [[-0.33211129, -0.67012706,  0.60290216,  0.28520793,\n",
       "          0.544466  ,  0.66362582,  0.98155922,  0.16933959,\n",
       "          0.0816042 , -0.98676836,  0.25818341, -0.02250919]],\n",
       "\n",
       "       [[-0.0923498 , -0.33211129, -0.67012706,  0.68808181,\n",
       "          0.28520793,  0.544466  ,  0.65919343,  0.98155922,\n",
       "          0.16933959,  0.0816042 , -0.98676836,  0.25818341]],\n",
       "\n",
       "       [[ 0.19183388, -0.0923498 , -0.33211129, -0.65259731,\n",
       "          0.68808181,  0.28520793,  0.53846345,  0.65919343,\n",
       "          0.98155922,  0.16933959,  0.0816042 , -0.98676836]],\n",
       "\n",
       "       [[-1.        ,  0.19183388, -0.0923498 , -0.29661909,\n",
       "         -0.65259731,  0.68808181,  0.27578914,  0.53846345,\n",
       "          0.65919343,  0.98155922,  0.16933959,  0.0816042 ]],\n",
       "\n",
       "       [[-0.15249397, -1.        ,  0.19183388, -0.04411646,\n",
       "         -0.29661909, -0.65259731,  0.68397168,  0.27578914,\n",
       "          0.53846345,  0.65919343,  0.98155922,  0.16933959]],\n",
       "\n",
       "       [[ 0.08120698, -0.15249397, -1.        ,  0.255169  ,\n",
       "         -0.04411646, -0.29661909, -0.67437352,  0.68397168,\n",
       "          0.27578914,  0.53846345,  0.65919343,  0.98155922]],\n",
       "\n",
       "       [[ 1.        ,  0.08120698, -0.15249397, -1.        ,\n",
       "          0.255169  , -0.04411646, -0.31370458, -0.67437352,\n",
       "          0.68397168,  0.27578914,  0.53846345,  0.65919343]],\n",
       "\n",
       "       [[ 0.60355899,  1.        ,  0.08120698, -0.10745675,\n",
       "         -1.        ,  0.255169  , -0.05787474, -0.31370458,\n",
       "         -0.67437352,  0.68397168,  0.27578914,  0.53846345]],\n",
       "\n",
       "       [[ 0.44344626,  0.60355899,  1.        ,  0.13866328,\n",
       "         -0.10745675, -1.        ,  0.24535439, -0.05787474,\n",
       "         -0.31370458, -0.67437352,  0.68397168,  0.27578914]]])"
      ]
     },
     "execution_count": 126,
     "metadata": {},
     "output_type": "execute_result"
    }
   ],
   "source": [
    "X_train"
   ]
  },
  {
   "cell_type": "code",
   "execution_count": 127,
   "metadata": {},
   "outputs": [
    {
     "data": {
      "text/plain": [
       "array([[ 0.07686073],\n",
       "       [ 0.8783514 ],\n",
       "       [ 0.45643845],\n",
       "       [ 0.49999418],\n",
       "       [ 0.1739178 ],\n",
       "       [ 0.44504874],\n",
       "       [-0.41946033],\n",
       "       [-0.40575541],\n",
       "       [-0.05996017],\n",
       "       [ 0.25746562],\n",
       "       [-0.97530134],\n",
       "       [-0.05667136],\n",
       "       [ 0.05670863],\n",
       "       [ 0.89908114],\n",
       "       [ 0.49791189],\n",
       "       [ 0.53945986],\n",
       "       [ 0.11017737],\n",
       "       [ 0.52889003],\n",
       "       [-0.48251133],\n",
       "       [-0.38990299],\n",
       "       [-0.05920552],\n",
       "       [ 0.20385713],\n",
       "       [-0.96290077],\n",
       "       [ 0.03836864],\n",
       "       [ 0.12059348],\n",
       "       [ 0.8817986 ],\n",
       "       [ 0.5796802 ],\n",
       "       [ 0.46653313],\n",
       "       [ 0.22035706],\n",
       "       [ 0.60290216],\n",
       "       [-0.67012706],\n",
       "       [-0.33211129],\n",
       "       [-0.0923498 ],\n",
       "       [ 0.19183388],\n",
       "       [-1.        ],\n",
       "       [-0.15249397],\n",
       "       [ 0.08120698],\n",
       "       [ 1.        ],\n",
       "       [ 0.60355899],\n",
       "       [ 0.44344626],\n",
       "       [ 0.26695937]])"
      ]
     },
     "execution_count": 127,
     "metadata": {},
     "output_type": "execute_result"
    }
   ],
   "source": [
    "y_train"
   ]
  },
  {
   "cell_type": "code",
   "execution_count": 129,
   "metadata": {},
   "outputs": [
    {
     "data": {
      "text/plain": [
       "array([[[ 0.26695937,  0.44344626,  0.60355899,  1.10628178,\n",
       "          0.13866328, -0.10745675, -1.02635392,  0.24535439,\n",
       "         -0.05787474, -0.31370458, -0.67437352,  0.68397168]],\n",
       "\n",
       "       [[ 0.55964922,  0.26695937,  0.44344626,  0.68877355,\n",
       "          1.10628178,  0.13866328, -0.12204966, -1.02635392,\n",
       "          0.24535439, -0.05787474, -0.31370458, -0.67437352]],\n",
       "\n",
       "       [[-0.61313659,  0.55964922,  0.26695937,  0.52015228,\n",
       "          0.68877355,  1.10628178,  0.12731349, -0.12204966,\n",
       "         -1.02635392,  0.24535439, -0.05787474, -0.31370458]],\n",
       "\n",
       "       [[-0.36228353, -0.61313659,  0.55964922,  0.33428672,\n",
       "          0.52015228,  0.68877355,  1.10768225,  0.12731349,\n",
       "         -0.12204966, -1.02635392,  0.24535439, -0.05787474]],\n",
       "\n",
       "       [[-0.14316792, -0.36228353, -0.61313659,  0.64253037,\n",
       "          0.33428672,  0.52015228,  0.68467253,  1.10768225,\n",
       "          0.12731349, -0.12204966, -1.02635392,  0.24535439]],\n",
       "\n",
       "       [[ 0.23779333, -0.14316792, -0.36228353, -0.59257833,\n",
       "          0.64253037,  0.33428672,  0.51382935,  0.68467253,\n",
       "          1.10768225,  0.12731349, -0.12204966, -1.02635392]]])"
      ]
     },
     "execution_count": 129,
     "metadata": {},
     "output_type": "execute_result"
    }
   ],
   "source": [
    "X_test"
   ]
  },
  {
   "cell_type": "code",
   "execution_count": 130,
   "metadata": {},
   "outputs": [
    {
     "data": {
      "text/plain": [
       "array([[ 0.55964922],\n",
       "       [-0.61313659],\n",
       "       [-0.36228353],\n",
       "       [-0.14316792],\n",
       "       [ 0.23779333],\n",
       "       [-1.02622661]])"
      ]
     },
     "execution_count": 130,
     "metadata": {},
     "output_type": "execute_result"
    }
   ],
   "source": [
    "y_test"
   ]
  },
  {
   "cell_type": "code",
   "execution_count": 131,
   "metadata": {},
   "outputs": [
    {
     "name": "stdout",
     "output_type": "stream",
     "text": [
      "WARNING:tensorflow:The `nb_epoch` argument in `fit` has been renamed `epochs`.\n",
      "Train on 41 samples\n",
      "Epoch 1/100\n",
      "41/41 [==============================] - 3s 82ms/sample - loss: 0.1501\n",
      "Epoch 2/100\n",
      "41/41 [==============================] - 0s 4ms/sample - loss: 0.0810\n",
      "Epoch 3/100\n",
      "41/41 [==============================] - 0s 3ms/sample - loss: 0.0463\n",
      "Epoch 4/100\n",
      "41/41 [==============================] - 0s 3ms/sample - loss: 0.0243\n",
      "Epoch 5/100\n",
      "41/41 [==============================] - 0s 3ms/sample - loss: 0.0145\n",
      "Epoch 6/100\n",
      "41/41 [==============================] - 0s 3ms/sample - loss: 0.0110\n",
      "Epoch 7/100\n",
      "41/41 [==============================] - 0s 3ms/sample - loss: 0.0095\n",
      "Epoch 8/100\n",
      "41/41 [==============================] - 0s 3ms/sample - loss: 0.0089\n",
      "Epoch 9/100\n",
      "41/41 [==============================] - 0s 4ms/sample - loss: 0.0085\n",
      "Epoch 10/100\n",
      "41/41 [==============================] - 0s 4ms/sample - loss: 0.0082\n",
      "Epoch 11/100\n",
      "41/41 [==============================] - 0s 3ms/sample - loss: 0.0079\n",
      "Epoch 12/100\n",
      "41/41 [==============================] - 0s 3ms/sample - loss: 0.0077\n",
      "Epoch 13/100\n",
      "41/41 [==============================] - 0s 4ms/sample - loss: 0.0075\n",
      "Epoch 14/100\n",
      "41/41 [==============================] - 0s 3ms/sample - loss: 0.0072\n",
      "Epoch 15/100\n",
      "41/41 [==============================] - 0s 3ms/sample - loss: 0.0070\n",
      "Epoch 16/100\n",
      "41/41 [==============================] - 0s 3ms/sample - loss: 0.0068\n",
      "Epoch 17/100\n",
      "41/41 [==============================] - 0s 3ms/sample - loss: 0.0066\n",
      "Epoch 18/100\n",
      "41/41 [==============================] - 0s 4ms/sample - loss: 0.0064\n",
      "Epoch 19/100\n",
      "41/41 [==============================] - 0s 3ms/sample - loss: 0.0062\n",
      "Epoch 20/100\n",
      "41/41 [==============================] - 0s 4ms/sample - loss: 0.0060\n",
      "Epoch 21/100\n",
      "41/41 [==============================] - 0s 4ms/sample - loss: 0.0059\n",
      "Epoch 22/100\n",
      "41/41 [==============================] - 0s 3ms/sample - loss: 0.0057\n",
      "Epoch 23/100\n",
      "41/41 [==============================] - 0s 4ms/sample - loss: 0.0056\n",
      "Epoch 24/100\n",
      "41/41 [==============================] - 0s 4ms/sample - loss: 0.0055\n",
      "Epoch 25/100\n",
      "41/41 [==============================] - 0s 4ms/sample - loss: 0.0053\n",
      "Epoch 26/100\n",
      "41/41 [==============================] - 0s 4ms/sample - loss: 0.0052\n",
      "Epoch 27/100\n",
      "41/41 [==============================] - 0s 4ms/sample - loss: 0.0051\n",
      "Epoch 28/100\n",
      "41/41 [==============================] - 0s 4ms/sample - loss: 0.0050\n",
      "Epoch 29/100\n",
      "41/41 [==============================] - 0s 5ms/sample - loss: 0.0050\n",
      "Epoch 30/100\n",
      "41/41 [==============================] - 0s 4ms/sample - loss: 0.0049\n",
      "Epoch 31/100\n",
      "41/41 [==============================] - 0s 4ms/sample - loss: 0.0048\n",
      "Epoch 32/100\n",
      "41/41 [==============================] - 0s 3ms/sample - loss: 0.0047\n",
      "Epoch 33/100\n",
      "41/41 [==============================] - 0s 4ms/sample - loss: 0.0046\n",
      "Epoch 34/100\n",
      "41/41 [==============================] - 0s 4ms/sample - loss: 0.0046\n",
      "Epoch 35/100\n",
      "41/41 [==============================] - 0s 3ms/sample - loss: 0.0045\n",
      "Epoch 36/100\n",
      "41/41 [==============================] - 0s 3ms/sample - loss: 0.0044\n",
      "Epoch 37/100\n",
      "41/41 [==============================] - 0s 4ms/sample - loss: 0.0044\n",
      "Epoch 38/100\n",
      "41/41 [==============================] - 0s 4ms/sample - loss: 0.0043\n",
      "Epoch 39/100\n",
      "41/41 [==============================] - 0s 3ms/sample - loss: 0.0042\n",
      "Epoch 40/100\n",
      "41/41 [==============================] - 0s 3ms/sample - loss: 0.0042\n",
      "Epoch 41/100\n",
      "41/41 [==============================] - 0s 3ms/sample - loss: 0.0041\n",
      "Epoch 42/100\n",
      "41/41 [==============================] - 0s 3ms/sample - loss: 0.0041\n",
      "Epoch 43/100\n",
      "41/41 [==============================] - 0s 4ms/sample - loss: 0.0040\n",
      "Epoch 44/100\n",
      "41/41 [==============================] - 0s 3ms/sample - loss: 0.0040\n",
      "Epoch 45/100\n",
      "41/41 [==============================] - 0s 3ms/sample - loss: 0.0039\n",
      "Epoch 46/100\n",
      "41/41 [==============================] - 0s 3ms/sample - loss: 0.0038\n",
      "Epoch 47/100\n",
      "41/41 [==============================] - 0s 3ms/sample - loss: 0.0038\n",
      "Epoch 48/100\n",
      "41/41 [==============================] - 0s 3ms/sample - loss: 0.0037\n",
      "Epoch 49/100\n",
      "41/41 [==============================] - 0s 3ms/sample - loss: 0.0037\n",
      "Epoch 50/100\n",
      "41/41 [==============================] - 0s 3ms/sample - loss: 0.0036\n",
      "Epoch 51/100\n",
      "41/41 [==============================] - 0s 4ms/sample - loss: 0.0036\n",
      "Epoch 52/100\n",
      "41/41 [==============================] - 0s 3ms/sample - loss: 0.0035\n",
      "Epoch 53/100\n",
      "41/41 [==============================] - 0s 3ms/sample - loss: 0.0035\n",
      "Epoch 54/100\n",
      "41/41 [==============================] - 0s 3ms/sample - loss: 0.0034\n",
      "Epoch 55/100\n",
      "41/41 [==============================] - 0s 4ms/sample - loss: 0.0034\n",
      "Epoch 56/100\n",
      "41/41 [==============================] - 0s 4ms/sample - loss: 0.0033\n",
      "Epoch 57/100\n",
      "41/41 [==============================] - 0s 4ms/sample - loss: 0.0033\n",
      "Epoch 58/100\n",
      "41/41 [==============================] - 0s 5ms/sample - loss: 0.0032\n",
      "Epoch 59/100\n",
      "41/41 [==============================] - 0s 4ms/sample - loss: 0.0032\n",
      "Epoch 60/100\n",
      "41/41 [==============================] - 0s 4ms/sample - loss: 0.0031\n",
      "Epoch 61/100\n",
      "41/41 [==============================] - 0s 4ms/sample - loss: 0.0031\n",
      "Epoch 62/100\n",
      "41/41 [==============================] - 0s 4ms/sample - loss: 0.0030\n",
      "Epoch 63/100\n",
      "41/41 [==============================] - 0s 4ms/sample - loss: 0.0030\n",
      "Epoch 64/100\n",
      "41/41 [==============================] - 0s 4ms/sample - loss: 0.0030\n",
      "Epoch 65/100\n",
      "41/41 [==============================] - 0s 4ms/sample - loss: 0.0029\n",
      "Epoch 66/100\n",
      "41/41 [==============================] - 0s 4ms/sample - loss: 0.0029\n",
      "Epoch 67/100\n",
      "41/41 [==============================] - 0s 5ms/sample - loss: 0.0029\n",
      "Epoch 68/100\n",
      "41/41 [==============================] - 0s 6ms/sample - loss: 0.0028\n",
      "Epoch 69/100\n",
      "41/41 [==============================] - 0s 6ms/sample - loss: 0.0028\n",
      "Epoch 70/100\n",
      "41/41 [==============================] - 0s 4ms/sample - loss: 0.0028\n",
      "Epoch 71/100\n",
      "41/41 [==============================] - 0s 3ms/sample - loss: 0.0027\n",
      "Epoch 72/100\n",
      "41/41 [==============================] - 0s 3ms/sample - loss: 0.0027\n",
      "Epoch 73/100\n",
      "41/41 [==============================] - 0s 3ms/sample - loss: 0.0027\n",
      "Epoch 74/100\n",
      "41/41 [==============================] - 0s 4ms/sample - loss: 0.0027\n",
      "Epoch 75/100\n",
      "41/41 [==============================] - 0s 4ms/sample - loss: 0.0026\n",
      "Epoch 76/100\n",
      "41/41 [==============================] - 0s 4ms/sample - loss: 0.0026\n",
      "Epoch 77/100\n",
      "41/41 [==============================] - 0s 4ms/sample - loss: 0.0026\n",
      "Epoch 78/100\n",
      "41/41 [==============================] - 0s 5ms/sample - loss: 0.0025\n",
      "Epoch 79/100\n",
      "41/41 [==============================] - 0s 4ms/sample - loss: 0.0025\n",
      "Epoch 80/100\n",
      "41/41 [==============================] - 0s 3ms/sample - loss: 0.0025\n",
      "Epoch 81/100\n",
      "41/41 [==============================] - 0s 3ms/sample - loss: 0.0024\n",
      "Epoch 82/100\n",
      "41/41 [==============================] - 0s 3ms/sample - loss: 0.0024\n",
      "Epoch 83/100\n",
      "41/41 [==============================] - 0s 4ms/sample - loss: 0.0023\n",
      "Epoch 84/100\n",
      "41/41 [==============================] - 0s 4ms/sample - loss: 0.0023\n",
      "Epoch 85/100\n",
      "41/41 [==============================] - 0s 3ms/sample - loss: 0.0023\n",
      "Epoch 86/100\n",
      "41/41 [==============================] - 0s 4ms/sample - loss: 0.0022\n",
      "Epoch 87/100\n",
      "41/41 [==============================] - 0s 4ms/sample - loss: 0.0022\n",
      "Epoch 88/100\n",
      "41/41 [==============================] - 0s 4ms/sample - loss: 0.0022\n",
      "Epoch 89/100\n",
      "41/41 [==============================] - 0s 3ms/sample - loss: 0.0022\n",
      "Epoch 90/100\n",
      "41/41 [==============================] - 0s 4ms/sample - loss: 0.0021\n",
      "Epoch 91/100\n",
      "41/41 [==============================] - 0s 3ms/sample - loss: 0.0021\n",
      "Epoch 92/100\n",
      "41/41 [==============================] - 0s 3ms/sample - loss: 0.0021\n",
      "Epoch 93/100\n",
      "41/41 [==============================] - 0s 3ms/sample - loss: 0.0021\n",
      "Epoch 94/100\n",
      "41/41 [==============================] - 0s 4ms/sample - loss: 0.0020\n",
      "Epoch 95/100\n",
      "41/41 [==============================] - 0s 3ms/sample - loss: 0.0020\n",
      "Epoch 96/100\n",
      "41/41 [==============================] - 0s 3ms/sample - loss: 0.0020\n",
      "Epoch 97/100\n",
      "41/41 [==============================] - 0s 3ms/sample - loss: 0.0020\n",
      "Epoch 98/100\n",
      "41/41 [==============================] - 0s 4ms/sample - loss: 0.0019\n",
      "Epoch 99/100\n",
      "41/41 [==============================] - 0s 4ms/sample - loss: 0.0019\n",
      "Epoch 100/100\n",
      "41/41 [==============================] - 0s 4ms/sample - loss: 0.0019\n"
     ]
    },
    {
     "data": {
      "text/plain": [
       "<tensorflow.python.keras.callbacks.History at 0x1b78b2f7848>"
      ]
     },
     "execution_count": 131,
     "metadata": {},
     "output_type": "execute_result"
    }
   ],
   "source": [
    "model=Sequential()\n",
    "model.add(LSTM(100, batch_input_shape=(1, X_train.shape[1], X_train.shape[2]), stateful=True))\n",
    "model.add(Dense(1))\n",
    "model.compile(optimizer='Adam',loss='mean_squared_error')\n",
    "model.fit(X_train,y_train,nb_epoch=100,batch_size=1, verbose=1, shuffle=False)"
   ]
  },
  {
   "cell_type": "code",
   "execution_count": 132,
   "metadata": {},
   "outputs": [],
   "source": [
    "y_pred = model.predict(X_test,batch_size=1)"
   ]
  },
  {
   "cell_type": "code",
   "execution_count": 133,
   "metadata": {
    "scrolled": true
   },
   "outputs": [
    {
     "data": {
      "text/plain": [
       "array([[ 0.6704461 ],\n",
       "       [-0.78572017],\n",
       "       [-0.29254377],\n",
       "       [-0.11287521],\n",
       "       [ 0.1708381 ],\n",
       "       [-1.0077392 ]], dtype=float32)"
      ]
     },
     "execution_count": 133,
     "metadata": {},
     "output_type": "execute_result"
    }
   ],
   "source": [
    "y_pred"
   ]
  },
  {
   "cell_type": "code",
   "execution_count": 134,
   "metadata": {},
   "outputs": [
    {
     "data": {
      "text/plain": [
       "array([[ 0.55964922],\n",
       "       [-0.61313659],\n",
       "       [-0.36228353],\n",
       "       [-0.14316792],\n",
       "       [ 0.23779333],\n",
       "       [-1.02622661]])"
      ]
     },
     "execution_count": 134,
     "metadata": {},
     "output_type": "execute_result"
    }
   ],
   "source": [
    "y_test"
   ]
  },
  {
   "cell_type": "code",
   "execution_count": 136,
   "metadata": {},
   "outputs": [],
   "source": [
    "y_pred = y_pred.reshape(y_pred.shape[0], 1, y_pred.shape[1])"
   ]
  },
  {
   "cell_type": "code",
   "execution_count": 143,
   "metadata": {},
   "outputs": [
    {
     "data": {
      "text/plain": [
       "(6, 1, 12)"
      ]
     },
     "execution_count": 143,
     "metadata": {},
     "output_type": "execute_result"
    }
   ],
   "source": [
    "X_test.shape"
   ]
  },
  {
   "cell_type": "code",
   "execution_count": 137,
   "metadata": {},
   "outputs": [
    {
     "data": {
      "text/plain": [
       "(6, 1, 1)"
      ]
     },
     "execution_count": 137,
     "metadata": {},
     "output_type": "execute_result"
    }
   ],
   "source": [
    "y_pred.shape"
   ]
  },
  {
   "cell_type": "code",
   "execution_count": 138,
   "metadata": {},
   "outputs": [],
   "source": [
    "import numpy as np"
   ]
  },
  {
   "cell_type": "code",
   "execution_count": 139,
   "metadata": {},
   "outputs": [
    {
     "data": {
      "text/plain": [
       "6"
      ]
     },
     "execution_count": 139,
     "metadata": {},
     "output_type": "execute_result"
    }
   ],
   "source": [
    "len(y_pred)"
   ]
  },
  {
   "cell_type": "code",
   "execution_count": 140,
   "metadata": {},
   "outputs": [
    {
     "name": "stdout",
     "output_type": "stream",
     "text": [
      "[[ 0.6704461   0.26695937  0.44344626  0.60355899  1.10628178  0.13866328\n",
      "  -0.10745675 -1.02635392  0.24535439 -0.05787474 -0.31370458 -0.67437352\n",
      "   0.68397168]]\n",
      "[[-0.78572017  0.55964922  0.26695937  0.44344626  0.68877355  1.10628178\n",
      "   0.13866328 -0.12204966 -1.02635392  0.24535439 -0.05787474 -0.31370458\n",
      "  -0.67437352]]\n",
      "[[-0.29254377 -0.61313659  0.55964922  0.26695937  0.52015228  0.68877355\n",
      "   1.10628178  0.12731349 -0.12204966 -1.02635392  0.24535439 -0.05787474\n",
      "  -0.31370458]]\n",
      "[[-0.11287521 -0.36228353 -0.61313659  0.55964922  0.33428672  0.52015228\n",
      "   0.68877355  1.10768225  0.12731349 -0.12204966 -1.02635392  0.24535439\n",
      "  -0.05787474]]\n",
      "[[ 0.1708381  -0.14316792 -0.36228353 -0.61313659  0.64253037  0.33428672\n",
      "   0.52015228  0.68467253  1.10768225  0.12731349 -0.12204966 -1.02635392\n",
      "   0.24535439]]\n",
      "[[-1.00773919  0.23779333 -0.14316792 -0.36228353 -0.59257833  0.64253037\n",
      "   0.33428672  0.51382935  0.68467253  1.10768225  0.12731349 -0.12204966\n",
      "  -1.02635392]]\n"
     ]
    }
   ],
   "source": [
    "pred_test_set = []\n",
    "for index in range(0,len(y_pred)):\n",
    "    print (np.concatenate([y_pred[index],X_test[index]],axis=1))\n",
    "    pred_test_set.append(np.concatenate([y_pred[index],X_test[index]],axis=1))"
   ]
  },
  {
   "cell_type": "code",
   "execution_count": 52,
   "metadata": {},
   "outputs": [
    {
     "data": {
      "text/plain": [
       "6"
      ]
     },
     "execution_count": 52,
     "metadata": {},
     "output_type": "execute_result"
    }
   ],
   "source": [
    "len(pred_test_set)"
   ]
  },
  {
   "cell_type": "code",
   "execution_count": 53,
   "metadata": {},
   "outputs": [],
   "source": [
    "#pred_test_set.append(np.concatenate([y_pred[index],X_test[index]],axis=1))"
   ]
  },
  {
   "cell_type": "code",
   "execution_count": 54,
   "metadata": {},
   "outputs": [
    {
     "data": {
      "text/plain": [
       "[array([[ 0.78089702,  0.63347968,  0.72172313,  0.8017795 ,  1.05314089,\n",
       "          0.56933164,  0.44627163, -0.01317696,  0.62267719,  0.47106263,\n",
       "          0.34314771,  0.16281324,  0.84198584]]),\n",
       " array([[ 0.08644949,  0.77982461,  0.63347968,  0.72172313,  0.84438677,\n",
       "          1.05314089,  0.56933164,  0.43897517, -0.01317696,  0.62267719,\n",
       "          0.47106263,  0.34314771,  0.16281324]]),\n",
       " array([[ 0.31946462,  0.1934317 ,  0.77982461,  0.63347968,  0.76007614,\n",
       "          0.84438677,  1.05314089,  0.56365674,  0.43897517, -0.01317696,\n",
       "          0.62267719,  0.47106263,  0.34314771]]),\n",
       " array([[ 0.41652367,  0.31885823,  0.1934317 ,  0.77982461,  0.66714336,\n",
       "          0.76007614,  0.84438677,  1.05384113,  0.56365674,  0.43897517,\n",
       "         -0.01317696,  0.62267719,  0.47106263]]),\n",
       " array([[ 0.56396157,  0.42841604,  0.31885823,  0.1934317 ,  0.82126519,\n",
       "          0.66714336,  0.76007614,  0.84233626,  1.05384113,  0.56365674,\n",
       "          0.43897517, -0.01317696,  0.62267719]]),\n",
       " array([[-0.04801291,  0.61889667,  0.42841604,  0.31885823,  0.20371084,\n",
       "          0.82126519,  0.66714336,  0.75691467,  0.84233626,  1.05384113,\n",
       "          0.56365674,  0.43897517, -0.01317696]])]"
      ]
     },
     "execution_count": 54,
     "metadata": {},
     "output_type": "execute_result"
    }
   ],
   "source": [
    "pred_test_set"
   ]
  },
  {
   "cell_type": "code",
   "execution_count": 144,
   "metadata": {},
   "outputs": [],
   "source": [
    "pred_test_set = np.array(pred_test_set)\n",
    "pred_test_set = pred_test_set.reshape(pred_test_set.shape[0], pred_test_set.shape[2])"
   ]
  },
  {
   "cell_type": "code",
   "execution_count": 145,
   "metadata": {},
   "outputs": [
    {
     "data": {
      "text/plain": [
       "(6, 13)"
      ]
     },
     "execution_count": 145,
     "metadata": {},
     "output_type": "execute_result"
    }
   ],
   "source": [
    "pred_test_set.shape"
   ]
  },
  {
   "cell_type": "code",
   "execution_count": 148,
   "metadata": {},
   "outputs": [
    {
     "data": {
      "text/plain": [
       "array([[ 130553.48771039,   43938.        ,   81824.        ,\n",
       "         116195.        ,  201298.        ,    4063.        ,\n",
       "         -46105.        , -228037.        ,   27811.        ,\n",
       "         -33194.        ,  -84663.        , -157224.        ,\n",
       "         116054.        ],\n",
       "       [-182038.08449563,  106769.        ,   43938.        ,\n",
       "          81824.        ,  116195.        ,  201298.        ,\n",
       "           4063.        ,  -46105.        , -228037.        ,\n",
       "          27811.        ,  -33194.        ,  -84663.        ,\n",
       "        -157224.        ],\n",
       "       [ -76169.13950664, -144990.        ,  106769.        ,\n",
       "          43938.        ,   81824.        ,  116195.        ,\n",
       "         201298.        ,    4063.        ,  -46105.        ,\n",
       "        -228037.        ,   27811.        ,  -33194.        ,\n",
       "         -84663.        ],\n",
       "       [ -37600.13876886,  -91140.        , -144990.        ,\n",
       "         106769.        ,   43938.        ,   81824.        ,\n",
       "         116195.        ,  201298.        ,    4063.        ,\n",
       "         -46105.        , -228037.        ,   27811.        ,\n",
       "         -33194.        ],\n",
       "       [  23303.88841099,  -44103.        ,  -91140.        ,\n",
       "        -144990.        ,  106769.        ,   43938.        ,\n",
       "          81824.        ,  116195.        ,  201298.        ,\n",
       "           4063.        ,  -46105.        , -228037.        ,\n",
       "          27811.        ],\n",
       "       [-229698.35177225,   37677.        ,  -44103.        ,\n",
       "         -91140.        , -144990.        ,  106769.        ,\n",
       "          43938.        ,   81824.        ,  116195.        ,\n",
       "         201298.        ,    4063.        ,  -46105.        ,\n",
       "        -228037.        ]])"
      ]
     },
     "execution_count": 148,
     "metadata": {},
     "output_type": "execute_result"
    }
   ],
   "source": [
    "pred_test_set_inverted = scaler.inverse_transform(pred_test_set)\n",
    "pred_test_set_inverted"
   ]
  },
  {
   "cell_type": "code",
   "execution_count": 150,
   "metadata": {},
   "outputs": [
    {
     "data": {
      "text/plain": [
       "-182038.08449563384"
      ]
     },
     "execution_count": 150,
     "metadata": {},
     "output_type": "execute_result"
    }
   ],
   "source": [
    "pred_test_set_inverted[1][0]"
   ]
  },
  {
   "cell_type": "code",
   "execution_count": 151,
   "metadata": {},
   "outputs": [
    {
     "data": {
      "text/plain": [
       "[41, 63, 59, 74, 62, 82]"
      ]
     },
     "execution_count": 151,
     "metadata": {},
     "output_type": "execute_result"
    }
   ],
   "source": [
    "act_sales = list(df[-6:].sales)\n",
    "act_sales"
   ]
  },
  {
   "cell_type": "code",
   "execution_count": 154,
   "metadata": {},
   "outputs": [],
   "source": [
    "#create dataframe that shows the predicted sales\n",
    "result_list = []\n",
    "sales_dates = list(df_supervised[-7:].date)\n",
    "act_sales = list(df_supervised[-7:].sales)\n",
    "for index in range(0,len(pred_test_set_inverted)):\n",
    "    result_dict = {}\n",
    "    result_dict['pred_value'] = int(pred_test_set_inverted[index][0] + act_sales[index])\n",
    "    result_dict['date'] = sales_dates[index+1]\n",
    "    result_list.append(result_dict)\n",
    "df_result = pd.DataFrame(result_list)\n",
    "#for multistep prediction, replace act_sales with the predicted sales"
   ]
  },
  {
   "cell_type": "code",
   "execution_count": 155,
   "metadata": {},
   "outputs": [
    {
     "data": {
      "text/plain": [
       "[Timestamp('2017-06-30 00:00:00'),\n",
       " Timestamp('2017-07-31 00:00:00'),\n",
       " Timestamp('2017-08-31 00:00:00'),\n",
       " Timestamp('2017-09-30 00:00:00'),\n",
       " Timestamp('2017-10-31 00:00:00'),\n",
       " Timestamp('2017-11-30 00:00:00'),\n",
       " Timestamp('2017-12-31 00:00:00')]"
      ]
     },
     "execution_count": 155,
     "metadata": {},
     "output_type": "execute_result"
    }
   ],
   "source": [
    "sales_dates"
   ]
  },
  {
   "cell_type": "code",
   "execution_count": 156,
   "metadata": {},
   "outputs": [
    {
     "data": {
      "text/plain": [
       "[1064624, 1171393, 1026403, 935263, 891160, 928837, 695170]"
      ]
     },
     "execution_count": 156,
     "metadata": {},
     "output_type": "execute_result"
    }
   ],
   "source": [
    "act_sales"
   ]
  },
  {
   "cell_type": "code",
   "execution_count": null,
   "metadata": {},
   "outputs": [],
   "source": []
  },
  {
   "cell_type": "code",
   "execution_count": 157,
   "metadata": {},
   "outputs": [
    {
     "data": {
      "text/plain": [
       "[{'pred_value': 1195177, 'date': Timestamp('2017-07-31 00:00:00')},\n",
       " {'pred_value': 989354, 'date': Timestamp('2017-08-31 00:00:00')},\n",
       " {'pred_value': 950233, 'date': Timestamp('2017-09-30 00:00:00')},\n",
       " {'pred_value': 897662, 'date': Timestamp('2017-10-31 00:00:00')},\n",
       " {'pred_value': 914463, 'date': Timestamp('2017-11-30 00:00:00')},\n",
       " {'pred_value': 699138, 'date': Timestamp('2017-12-31 00:00:00')}]"
      ]
     },
     "execution_count": 157,
     "metadata": {},
     "output_type": "execute_result"
    }
   ],
   "source": [
    "result_list"
   ]
  },
  {
   "cell_type": "code",
   "execution_count": 158,
   "metadata": {},
   "outputs": [
    {
     "data": {
      "text/html": [
       "<div>\n",
       "<style scoped>\n",
       "    .dataframe tbody tr th:only-of-type {\n",
       "        vertical-align: middle;\n",
       "    }\n",
       "\n",
       "    .dataframe tbody tr th {\n",
       "        vertical-align: top;\n",
       "    }\n",
       "\n",
       "    .dataframe thead th {\n",
       "        text-align: right;\n",
       "    }\n",
       "</style>\n",
       "<table border=\"1\" class=\"dataframe\">\n",
       "  <thead>\n",
       "    <tr style=\"text-align: right;\">\n",
       "      <th></th>\n",
       "      <th>pred_value</th>\n",
       "      <th>date</th>\n",
       "    </tr>\n",
       "  </thead>\n",
       "  <tbody>\n",
       "    <tr>\n",
       "      <th>0</th>\n",
       "      <td>1195177</td>\n",
       "      <td>2017-07-31</td>\n",
       "    </tr>\n",
       "    <tr>\n",
       "      <th>1</th>\n",
       "      <td>989354</td>\n",
       "      <td>2017-08-31</td>\n",
       "    </tr>\n",
       "    <tr>\n",
       "      <th>2</th>\n",
       "      <td>950233</td>\n",
       "      <td>2017-09-30</td>\n",
       "    </tr>\n",
       "    <tr>\n",
       "      <th>3</th>\n",
       "      <td>897662</td>\n",
       "      <td>2017-10-31</td>\n",
       "    </tr>\n",
       "    <tr>\n",
       "      <th>4</th>\n",
       "      <td>914463</td>\n",
       "      <td>2017-11-30</td>\n",
       "    </tr>\n",
       "    <tr>\n",
       "      <th>5</th>\n",
       "      <td>699138</td>\n",
       "      <td>2017-12-31</td>\n",
       "    </tr>\n",
       "  </tbody>\n",
       "</table>\n",
       "</div>"
      ],
      "text/plain": [
       "   pred_value       date\n",
       "0     1195177 2017-07-31\n",
       "1      989354 2017-08-31\n",
       "2      950233 2017-09-30\n",
       "3      897662 2017-10-31\n",
       "4      914463 2017-11-30\n",
       "5      699138 2017-12-31"
      ]
     },
     "execution_count": 158,
     "metadata": {},
     "output_type": "execute_result"
    }
   ],
   "source": [
    "df_result"
   ]
  },
  {
   "cell_type": "code",
   "execution_count": 161,
   "metadata": {},
   "outputs": [],
   "source": [
    "df_sales_pred = pd.merge(df_supervised,df_result,on='date',how='left')"
   ]
  },
  {
   "cell_type": "code",
   "execution_count": 162,
   "metadata": {},
   "outputs": [
    {
     "data": {
      "application/vnd.plotly.v1+json": {
       "config": {
        "linkText": "Export to plot.ly",
        "plotlyServerURL": "https://plot.ly",
        "showLink": false
       },
       "data": [
        {
         "name": "actual",
         "type": "scatter",
         "x": [
          "2014-02-28T00:00:00",
          "2014-03-31T00:00:00",
          "2014-04-30T00:00:00",
          "2014-05-31T00:00:00",
          "2014-06-30T00:00:00",
          "2014-07-31T00:00:00",
          "2014-08-31T00:00:00",
          "2014-09-30T00:00:00",
          "2014-10-31T00:00:00",
          "2014-11-30T00:00:00",
          "2014-12-31T00:00:00",
          "2015-01-31T00:00:00",
          "2015-02-28T00:00:00",
          "2015-03-31T00:00:00",
          "2015-04-30T00:00:00",
          "2015-05-31T00:00:00",
          "2015-06-30T00:00:00",
          "2015-07-31T00:00:00",
          "2015-08-31T00:00:00",
          "2015-09-30T00:00:00",
          "2015-10-31T00:00:00",
          "2015-11-30T00:00:00",
          "2015-12-31T00:00:00",
          "2016-01-31T00:00:00",
          "2016-02-29T00:00:00",
          "2016-03-31T00:00:00",
          "2016-04-30T00:00:00",
          "2016-05-31T00:00:00",
          "2016-06-30T00:00:00",
          "2016-07-31T00:00:00",
          "2016-08-31T00:00:00",
          "2016-09-30T00:00:00",
          "2016-10-31T00:00:00",
          "2016-11-30T00:00:00",
          "2016-12-31T00:00:00",
          "2017-01-31T00:00:00",
          "2017-02-28T00:00:00",
          "2017-03-31T00:00:00",
          "2017-04-30T00:00:00",
          "2017-05-31T00:00:00",
          "2017-06-30T00:00:00",
          "2017-07-31T00:00:00",
          "2017-08-31T00:00:00",
          "2017-09-30T00:00:00",
          "2017-10-31T00:00:00",
          "2017-11-30T00:00:00",
          "2017-12-31T00:00:00"
         ],
         "y": [
          529117,
          704301,
          788914,
          882877,
          906842,
          989010,
          885596,
          785124,
          758883,
          800783,
          578048,
          552513,
          551317,
          730951,
          824467,
          926902,
          937184,
          1037350,
          920401,
          823332,
          797253,
          827645,
          607572,
          602439,
          614957,
          790881,
          901950,
          988730,
          1022664,
          1138718,
          981494,
          896831,
          863637,
          891448,
          663411,
          617306,
          621369,
          822667,
          938862,
          1020686,
          1064624,
          1171393,
          1026403,
          935263,
          891160,
          928837,
          695170
         ]
        },
        {
         "name": "predicted",
         "type": "scatter",
         "x": [
          "2014-02-28T00:00:00",
          "2014-03-31T00:00:00",
          "2014-04-30T00:00:00",
          "2014-05-31T00:00:00",
          "2014-06-30T00:00:00",
          "2014-07-31T00:00:00",
          "2014-08-31T00:00:00",
          "2014-09-30T00:00:00",
          "2014-10-31T00:00:00",
          "2014-11-30T00:00:00",
          "2014-12-31T00:00:00",
          "2015-01-31T00:00:00",
          "2015-02-28T00:00:00",
          "2015-03-31T00:00:00",
          "2015-04-30T00:00:00",
          "2015-05-31T00:00:00",
          "2015-06-30T00:00:00",
          "2015-07-31T00:00:00",
          "2015-08-31T00:00:00",
          "2015-09-30T00:00:00",
          "2015-10-31T00:00:00",
          "2015-11-30T00:00:00",
          "2015-12-31T00:00:00",
          "2016-01-31T00:00:00",
          "2016-02-29T00:00:00",
          "2016-03-31T00:00:00",
          "2016-04-30T00:00:00",
          "2016-05-31T00:00:00",
          "2016-06-30T00:00:00",
          "2016-07-31T00:00:00",
          "2016-08-31T00:00:00",
          "2016-09-30T00:00:00",
          "2016-10-31T00:00:00",
          "2016-11-30T00:00:00",
          "2016-12-31T00:00:00",
          "2017-01-31T00:00:00",
          "2017-02-28T00:00:00",
          "2017-03-31T00:00:00",
          "2017-04-30T00:00:00",
          "2017-05-31T00:00:00",
          "2017-06-30T00:00:00",
          "2017-07-31T00:00:00",
          "2017-08-31T00:00:00",
          "2017-09-30T00:00:00",
          "2017-10-31T00:00:00",
          "2017-11-30T00:00:00",
          "2017-12-31T00:00:00"
         ],
         "y": [
          null,
          null,
          null,
          null,
          null,
          null,
          null,
          null,
          null,
          null,
          null,
          null,
          null,
          null,
          null,
          null,
          null,
          null,
          null,
          null,
          null,
          null,
          null,
          null,
          null,
          null,
          null,
          null,
          null,
          null,
          null,
          null,
          null,
          null,
          null,
          null,
          null,
          null,
          null,
          null,
          null,
          1195177,
          989354,
          950233,
          897662,
          914463,
          699138
         ]
        }
       ],
       "layout": {
        "template": {
         "data": {
          "bar": [
           {
            "error_x": {
             "color": "#2a3f5f"
            },
            "error_y": {
             "color": "#2a3f5f"
            },
            "marker": {
             "line": {
              "color": "#E5ECF6",
              "width": 0.5
             }
            },
            "type": "bar"
           }
          ],
          "barpolar": [
           {
            "marker": {
             "line": {
              "color": "#E5ECF6",
              "width": 0.5
             }
            },
            "type": "barpolar"
           }
          ],
          "carpet": [
           {
            "aaxis": {
             "endlinecolor": "#2a3f5f",
             "gridcolor": "white",
             "linecolor": "white",
             "minorgridcolor": "white",
             "startlinecolor": "#2a3f5f"
            },
            "baxis": {
             "endlinecolor": "#2a3f5f",
             "gridcolor": "white",
             "linecolor": "white",
             "minorgridcolor": "white",
             "startlinecolor": "#2a3f5f"
            },
            "type": "carpet"
           }
          ],
          "choropleth": [
           {
            "colorbar": {
             "outlinewidth": 0,
             "ticks": ""
            },
            "type": "choropleth"
           }
          ],
          "contour": [
           {
            "colorbar": {
             "outlinewidth": 0,
             "ticks": ""
            },
            "colorscale": [
             [
              0,
              "#0d0887"
             ],
             [
              0.1111111111111111,
              "#46039f"
             ],
             [
              0.2222222222222222,
              "#7201a8"
             ],
             [
              0.3333333333333333,
              "#9c179e"
             ],
             [
              0.4444444444444444,
              "#bd3786"
             ],
             [
              0.5555555555555556,
              "#d8576b"
             ],
             [
              0.6666666666666666,
              "#ed7953"
             ],
             [
              0.7777777777777778,
              "#fb9f3a"
             ],
             [
              0.8888888888888888,
              "#fdca26"
             ],
             [
              1,
              "#f0f921"
             ]
            ],
            "type": "contour"
           }
          ],
          "contourcarpet": [
           {
            "colorbar": {
             "outlinewidth": 0,
             "ticks": ""
            },
            "type": "contourcarpet"
           }
          ],
          "heatmap": [
           {
            "colorbar": {
             "outlinewidth": 0,
             "ticks": ""
            },
            "colorscale": [
             [
              0,
              "#0d0887"
             ],
             [
              0.1111111111111111,
              "#46039f"
             ],
             [
              0.2222222222222222,
              "#7201a8"
             ],
             [
              0.3333333333333333,
              "#9c179e"
             ],
             [
              0.4444444444444444,
              "#bd3786"
             ],
             [
              0.5555555555555556,
              "#d8576b"
             ],
             [
              0.6666666666666666,
              "#ed7953"
             ],
             [
              0.7777777777777778,
              "#fb9f3a"
             ],
             [
              0.8888888888888888,
              "#fdca26"
             ],
             [
              1,
              "#f0f921"
             ]
            ],
            "type": "heatmap"
           }
          ],
          "heatmapgl": [
           {
            "colorbar": {
             "outlinewidth": 0,
             "ticks": ""
            },
            "colorscale": [
             [
              0,
              "#0d0887"
             ],
             [
              0.1111111111111111,
              "#46039f"
             ],
             [
              0.2222222222222222,
              "#7201a8"
             ],
             [
              0.3333333333333333,
              "#9c179e"
             ],
             [
              0.4444444444444444,
              "#bd3786"
             ],
             [
              0.5555555555555556,
              "#d8576b"
             ],
             [
              0.6666666666666666,
              "#ed7953"
             ],
             [
              0.7777777777777778,
              "#fb9f3a"
             ],
             [
              0.8888888888888888,
              "#fdca26"
             ],
             [
              1,
              "#f0f921"
             ]
            ],
            "type": "heatmapgl"
           }
          ],
          "histogram": [
           {
            "marker": {
             "colorbar": {
              "outlinewidth": 0,
              "ticks": ""
             }
            },
            "type": "histogram"
           }
          ],
          "histogram2d": [
           {
            "colorbar": {
             "outlinewidth": 0,
             "ticks": ""
            },
            "colorscale": [
             [
              0,
              "#0d0887"
             ],
             [
              0.1111111111111111,
              "#46039f"
             ],
             [
              0.2222222222222222,
              "#7201a8"
             ],
             [
              0.3333333333333333,
              "#9c179e"
             ],
             [
              0.4444444444444444,
              "#bd3786"
             ],
             [
              0.5555555555555556,
              "#d8576b"
             ],
             [
              0.6666666666666666,
              "#ed7953"
             ],
             [
              0.7777777777777778,
              "#fb9f3a"
             ],
             [
              0.8888888888888888,
              "#fdca26"
             ],
             [
              1,
              "#f0f921"
             ]
            ],
            "type": "histogram2d"
           }
          ],
          "histogram2dcontour": [
           {
            "colorbar": {
             "outlinewidth": 0,
             "ticks": ""
            },
            "colorscale": [
             [
              0,
              "#0d0887"
             ],
             [
              0.1111111111111111,
              "#46039f"
             ],
             [
              0.2222222222222222,
              "#7201a8"
             ],
             [
              0.3333333333333333,
              "#9c179e"
             ],
             [
              0.4444444444444444,
              "#bd3786"
             ],
             [
              0.5555555555555556,
              "#d8576b"
             ],
             [
              0.6666666666666666,
              "#ed7953"
             ],
             [
              0.7777777777777778,
              "#fb9f3a"
             ],
             [
              0.8888888888888888,
              "#fdca26"
             ],
             [
              1,
              "#f0f921"
             ]
            ],
            "type": "histogram2dcontour"
           }
          ],
          "mesh3d": [
           {
            "colorbar": {
             "outlinewidth": 0,
             "ticks": ""
            },
            "type": "mesh3d"
           }
          ],
          "parcoords": [
           {
            "line": {
             "colorbar": {
              "outlinewidth": 0,
              "ticks": ""
             }
            },
            "type": "parcoords"
           }
          ],
          "pie": [
           {
            "automargin": true,
            "type": "pie"
           }
          ],
          "scatter": [
           {
            "marker": {
             "colorbar": {
              "outlinewidth": 0,
              "ticks": ""
             }
            },
            "type": "scatter"
           }
          ],
          "scatter3d": [
           {
            "line": {
             "colorbar": {
              "outlinewidth": 0,
              "ticks": ""
             }
            },
            "marker": {
             "colorbar": {
              "outlinewidth": 0,
              "ticks": ""
             }
            },
            "type": "scatter3d"
           }
          ],
          "scattercarpet": [
           {
            "marker": {
             "colorbar": {
              "outlinewidth": 0,
              "ticks": ""
             }
            },
            "type": "scattercarpet"
           }
          ],
          "scattergeo": [
           {
            "marker": {
             "colorbar": {
              "outlinewidth": 0,
              "ticks": ""
             }
            },
            "type": "scattergeo"
           }
          ],
          "scattergl": [
           {
            "marker": {
             "colorbar": {
              "outlinewidth": 0,
              "ticks": ""
             }
            },
            "type": "scattergl"
           }
          ],
          "scattermapbox": [
           {
            "marker": {
             "colorbar": {
              "outlinewidth": 0,
              "ticks": ""
             }
            },
            "type": "scattermapbox"
           }
          ],
          "scatterpolar": [
           {
            "marker": {
             "colorbar": {
              "outlinewidth": 0,
              "ticks": ""
             }
            },
            "type": "scatterpolar"
           }
          ],
          "scatterpolargl": [
           {
            "marker": {
             "colorbar": {
              "outlinewidth": 0,
              "ticks": ""
             }
            },
            "type": "scatterpolargl"
           }
          ],
          "scatterternary": [
           {
            "marker": {
             "colorbar": {
              "outlinewidth": 0,
              "ticks": ""
             }
            },
            "type": "scatterternary"
           }
          ],
          "surface": [
           {
            "colorbar": {
             "outlinewidth": 0,
             "ticks": ""
            },
            "colorscale": [
             [
              0,
              "#0d0887"
             ],
             [
              0.1111111111111111,
              "#46039f"
             ],
             [
              0.2222222222222222,
              "#7201a8"
             ],
             [
              0.3333333333333333,
              "#9c179e"
             ],
             [
              0.4444444444444444,
              "#bd3786"
             ],
             [
              0.5555555555555556,
              "#d8576b"
             ],
             [
              0.6666666666666666,
              "#ed7953"
             ],
             [
              0.7777777777777778,
              "#fb9f3a"
             ],
             [
              0.8888888888888888,
              "#fdca26"
             ],
             [
              1,
              "#f0f921"
             ]
            ],
            "type": "surface"
           }
          ],
          "table": [
           {
            "cells": {
             "fill": {
              "color": "#EBF0F8"
             },
             "line": {
              "color": "white"
             }
            },
            "header": {
             "fill": {
              "color": "#C8D4E3"
             },
             "line": {
              "color": "white"
             }
            },
            "type": "table"
           }
          ]
         },
         "layout": {
          "annotationdefaults": {
           "arrowcolor": "#2a3f5f",
           "arrowhead": 0,
           "arrowwidth": 1
          },
          "coloraxis": {
           "colorbar": {
            "outlinewidth": 0,
            "ticks": ""
           }
          },
          "colorscale": {
           "diverging": [
            [
             0,
             "#8e0152"
            ],
            [
             0.1,
             "#c51b7d"
            ],
            [
             0.2,
             "#de77ae"
            ],
            [
             0.3,
             "#f1b6da"
            ],
            [
             0.4,
             "#fde0ef"
            ],
            [
             0.5,
             "#f7f7f7"
            ],
            [
             0.6,
             "#e6f5d0"
            ],
            [
             0.7,
             "#b8e186"
            ],
            [
             0.8,
             "#7fbc41"
            ],
            [
             0.9,
             "#4d9221"
            ],
            [
             1,
             "#276419"
            ]
           ],
           "sequential": [
            [
             0,
             "#0d0887"
            ],
            [
             0.1111111111111111,
             "#46039f"
            ],
            [
             0.2222222222222222,
             "#7201a8"
            ],
            [
             0.3333333333333333,
             "#9c179e"
            ],
            [
             0.4444444444444444,
             "#bd3786"
            ],
            [
             0.5555555555555556,
             "#d8576b"
            ],
            [
             0.6666666666666666,
             "#ed7953"
            ],
            [
             0.7777777777777778,
             "#fb9f3a"
            ],
            [
             0.8888888888888888,
             "#fdca26"
            ],
            [
             1,
             "#f0f921"
            ]
           ],
           "sequentialminus": [
            [
             0,
             "#0d0887"
            ],
            [
             0.1111111111111111,
             "#46039f"
            ],
            [
             0.2222222222222222,
             "#7201a8"
            ],
            [
             0.3333333333333333,
             "#9c179e"
            ],
            [
             0.4444444444444444,
             "#bd3786"
            ],
            [
             0.5555555555555556,
             "#d8576b"
            ],
            [
             0.6666666666666666,
             "#ed7953"
            ],
            [
             0.7777777777777778,
             "#fb9f3a"
            ],
            [
             0.8888888888888888,
             "#fdca26"
            ],
            [
             1,
             "#f0f921"
            ]
           ]
          },
          "colorway": [
           "#636efa",
           "#EF553B",
           "#00cc96",
           "#ab63fa",
           "#FFA15A",
           "#19d3f3",
           "#FF6692",
           "#B6E880",
           "#FF97FF",
           "#FECB52"
          ],
          "font": {
           "color": "#2a3f5f"
          },
          "geo": {
           "bgcolor": "white",
           "lakecolor": "white",
           "landcolor": "#E5ECF6",
           "showlakes": true,
           "showland": true,
           "subunitcolor": "white"
          },
          "hoverlabel": {
           "align": "left"
          },
          "hovermode": "closest",
          "mapbox": {
           "style": "light"
          },
          "paper_bgcolor": "white",
          "plot_bgcolor": "#E5ECF6",
          "polar": {
           "angularaxis": {
            "gridcolor": "white",
            "linecolor": "white",
            "ticks": ""
           },
           "bgcolor": "#E5ECF6",
           "radialaxis": {
            "gridcolor": "white",
            "linecolor": "white",
            "ticks": ""
           }
          },
          "scene": {
           "xaxis": {
            "backgroundcolor": "#E5ECF6",
            "gridcolor": "white",
            "gridwidth": 2,
            "linecolor": "white",
            "showbackground": true,
            "ticks": "",
            "zerolinecolor": "white"
           },
           "yaxis": {
            "backgroundcolor": "#E5ECF6",
            "gridcolor": "white",
            "gridwidth": 2,
            "linecolor": "white",
            "showbackground": true,
            "ticks": "",
            "zerolinecolor": "white"
           },
           "zaxis": {
            "backgroundcolor": "#E5ECF6",
            "gridcolor": "white",
            "gridwidth": 2,
            "linecolor": "white",
            "showbackground": true,
            "ticks": "",
            "zerolinecolor": "white"
           }
          },
          "shapedefaults": {
           "line": {
            "color": "#2a3f5f"
           }
          },
          "ternary": {
           "aaxis": {
            "gridcolor": "white",
            "linecolor": "white",
            "ticks": ""
           },
           "baxis": {
            "gridcolor": "white",
            "linecolor": "white",
            "ticks": ""
           },
           "bgcolor": "#E5ECF6",
           "caxis": {
            "gridcolor": "white",
            "linecolor": "white",
            "ticks": ""
           }
          },
          "title": {
           "x": 0.05
          },
          "xaxis": {
           "automargin": true,
           "gridcolor": "white",
           "linecolor": "white",
           "ticks": "",
           "title": {
            "standoff": 15
           },
           "zerolinecolor": "white",
           "zerolinewidth": 2
          },
          "yaxis": {
           "automargin": true,
           "gridcolor": "white",
           "linecolor": "white",
           "ticks": "",
           "title": {
            "standoff": 15
           },
           "zerolinecolor": "white",
           "zerolinewidth": 2
          }
         }
        },
        "title": {
         "text": "Sales Prediction"
        }
       }
      },
      "text/html": [
       "<div>                            <div id=\"06cf00cb-d332-496e-ae6f-5d262127a79d\" class=\"plotly-graph-div\" style=\"height:525px; width:100%;\"></div>            <script type=\"text/javascript\">                require([\"plotly\"], function(Plotly) {                    window.PLOTLYENV=window.PLOTLYENV || {};                                    if (document.getElementById(\"06cf00cb-d332-496e-ae6f-5d262127a79d\")) {                    Plotly.newPlot(                        \"06cf00cb-d332-496e-ae6f-5d262127a79d\",                        [{\"name\": \"actual\", \"type\": \"scatter\", \"x\": [\"2014-02-28T00:00:00\", \"2014-03-31T00:00:00\", \"2014-04-30T00:00:00\", \"2014-05-31T00:00:00\", \"2014-06-30T00:00:00\", \"2014-07-31T00:00:00\", \"2014-08-31T00:00:00\", \"2014-09-30T00:00:00\", \"2014-10-31T00:00:00\", \"2014-11-30T00:00:00\", \"2014-12-31T00:00:00\", \"2015-01-31T00:00:00\", \"2015-02-28T00:00:00\", \"2015-03-31T00:00:00\", \"2015-04-30T00:00:00\", \"2015-05-31T00:00:00\", \"2015-06-30T00:00:00\", \"2015-07-31T00:00:00\", \"2015-08-31T00:00:00\", \"2015-09-30T00:00:00\", \"2015-10-31T00:00:00\", \"2015-11-30T00:00:00\", \"2015-12-31T00:00:00\", \"2016-01-31T00:00:00\", \"2016-02-29T00:00:00\", \"2016-03-31T00:00:00\", \"2016-04-30T00:00:00\", \"2016-05-31T00:00:00\", \"2016-06-30T00:00:00\", \"2016-07-31T00:00:00\", \"2016-08-31T00:00:00\", \"2016-09-30T00:00:00\", \"2016-10-31T00:00:00\", \"2016-11-30T00:00:00\", \"2016-12-31T00:00:00\", \"2017-01-31T00:00:00\", \"2017-02-28T00:00:00\", \"2017-03-31T00:00:00\", \"2017-04-30T00:00:00\", \"2017-05-31T00:00:00\", \"2017-06-30T00:00:00\", \"2017-07-31T00:00:00\", \"2017-08-31T00:00:00\", \"2017-09-30T00:00:00\", \"2017-10-31T00:00:00\", \"2017-11-30T00:00:00\", \"2017-12-31T00:00:00\"], \"y\": [529117, 704301, 788914, 882877, 906842, 989010, 885596, 785124, 758883, 800783, 578048, 552513, 551317, 730951, 824467, 926902, 937184, 1037350, 920401, 823332, 797253, 827645, 607572, 602439, 614957, 790881, 901950, 988730, 1022664, 1138718, 981494, 896831, 863637, 891448, 663411, 617306, 621369, 822667, 938862, 1020686, 1064624, 1171393, 1026403, 935263, 891160, 928837, 695170]}, {\"name\": \"predicted\", \"type\": \"scatter\", \"x\": [\"2014-02-28T00:00:00\", \"2014-03-31T00:00:00\", \"2014-04-30T00:00:00\", \"2014-05-31T00:00:00\", \"2014-06-30T00:00:00\", \"2014-07-31T00:00:00\", \"2014-08-31T00:00:00\", \"2014-09-30T00:00:00\", \"2014-10-31T00:00:00\", \"2014-11-30T00:00:00\", \"2014-12-31T00:00:00\", \"2015-01-31T00:00:00\", \"2015-02-28T00:00:00\", \"2015-03-31T00:00:00\", \"2015-04-30T00:00:00\", \"2015-05-31T00:00:00\", \"2015-06-30T00:00:00\", \"2015-07-31T00:00:00\", \"2015-08-31T00:00:00\", \"2015-09-30T00:00:00\", \"2015-10-31T00:00:00\", \"2015-11-30T00:00:00\", \"2015-12-31T00:00:00\", \"2016-01-31T00:00:00\", \"2016-02-29T00:00:00\", \"2016-03-31T00:00:00\", \"2016-04-30T00:00:00\", \"2016-05-31T00:00:00\", \"2016-06-30T00:00:00\", \"2016-07-31T00:00:00\", \"2016-08-31T00:00:00\", \"2016-09-30T00:00:00\", \"2016-10-31T00:00:00\", \"2016-11-30T00:00:00\", \"2016-12-31T00:00:00\", \"2017-01-31T00:00:00\", \"2017-02-28T00:00:00\", \"2017-03-31T00:00:00\", \"2017-04-30T00:00:00\", \"2017-05-31T00:00:00\", \"2017-06-30T00:00:00\", \"2017-07-31T00:00:00\", \"2017-08-31T00:00:00\", \"2017-09-30T00:00:00\", \"2017-10-31T00:00:00\", \"2017-11-30T00:00:00\", \"2017-12-31T00:00:00\"], \"y\": [null, null, null, null, null, null, null, null, null, null, null, null, null, null, null, null, null, null, null, null, null, null, null, null, null, null, null, null, null, null, null, null, null, null, null, null, null, null, null, null, null, 1195177.0, 989354.0, 950233.0, 897662.0, 914463.0, 699138.0]}],                        {\"template\": {\"data\": {\"bar\": [{\"error_x\": {\"color\": \"#2a3f5f\"}, \"error_y\": {\"color\": \"#2a3f5f\"}, \"marker\": {\"line\": {\"color\": \"#E5ECF6\", \"width\": 0.5}}, \"type\": \"bar\"}], \"barpolar\": [{\"marker\": {\"line\": {\"color\": \"#E5ECF6\", \"width\": 0.5}}, \"type\": \"barpolar\"}], \"carpet\": [{\"aaxis\": {\"endlinecolor\": \"#2a3f5f\", \"gridcolor\": \"white\", \"linecolor\": \"white\", \"minorgridcolor\": \"white\", \"startlinecolor\": \"#2a3f5f\"}, \"baxis\": {\"endlinecolor\": \"#2a3f5f\", \"gridcolor\": \"white\", \"linecolor\": \"white\", \"minorgridcolor\": \"white\", \"startlinecolor\": \"#2a3f5f\"}, \"type\": \"carpet\"}], \"choropleth\": [{\"colorbar\": {\"outlinewidth\": 0, \"ticks\": \"\"}, \"type\": \"choropleth\"}], \"contour\": [{\"colorbar\": {\"outlinewidth\": 0, \"ticks\": \"\"}, \"colorscale\": [[0.0, \"#0d0887\"], [0.1111111111111111, \"#46039f\"], [0.2222222222222222, \"#7201a8\"], [0.3333333333333333, \"#9c179e\"], [0.4444444444444444, \"#bd3786\"], [0.5555555555555556, \"#d8576b\"], [0.6666666666666666, \"#ed7953\"], [0.7777777777777778, \"#fb9f3a\"], [0.8888888888888888, \"#fdca26\"], [1.0, \"#f0f921\"]], \"type\": \"contour\"}], \"contourcarpet\": [{\"colorbar\": {\"outlinewidth\": 0, \"ticks\": \"\"}, \"type\": \"contourcarpet\"}], \"heatmap\": [{\"colorbar\": {\"outlinewidth\": 0, \"ticks\": \"\"}, \"colorscale\": [[0.0, \"#0d0887\"], [0.1111111111111111, \"#46039f\"], [0.2222222222222222, \"#7201a8\"], [0.3333333333333333, \"#9c179e\"], [0.4444444444444444, \"#bd3786\"], [0.5555555555555556, \"#d8576b\"], [0.6666666666666666, \"#ed7953\"], [0.7777777777777778, \"#fb9f3a\"], [0.8888888888888888, \"#fdca26\"], [1.0, \"#f0f921\"]], \"type\": \"heatmap\"}], \"heatmapgl\": [{\"colorbar\": {\"outlinewidth\": 0, \"ticks\": \"\"}, \"colorscale\": [[0.0, \"#0d0887\"], [0.1111111111111111, \"#46039f\"], [0.2222222222222222, \"#7201a8\"], [0.3333333333333333, \"#9c179e\"], [0.4444444444444444, \"#bd3786\"], [0.5555555555555556, \"#d8576b\"], [0.6666666666666666, \"#ed7953\"], [0.7777777777777778, \"#fb9f3a\"], [0.8888888888888888, \"#fdca26\"], [1.0, \"#f0f921\"]], \"type\": \"heatmapgl\"}], \"histogram\": [{\"marker\": {\"colorbar\": {\"outlinewidth\": 0, \"ticks\": \"\"}}, \"type\": \"histogram\"}], \"histogram2d\": [{\"colorbar\": {\"outlinewidth\": 0, \"ticks\": \"\"}, \"colorscale\": [[0.0, \"#0d0887\"], [0.1111111111111111, \"#46039f\"], [0.2222222222222222, \"#7201a8\"], [0.3333333333333333, \"#9c179e\"], [0.4444444444444444, \"#bd3786\"], [0.5555555555555556, \"#d8576b\"], [0.6666666666666666, \"#ed7953\"], [0.7777777777777778, \"#fb9f3a\"], [0.8888888888888888, \"#fdca26\"], [1.0, \"#f0f921\"]], \"type\": \"histogram2d\"}], \"histogram2dcontour\": [{\"colorbar\": {\"outlinewidth\": 0, \"ticks\": \"\"}, \"colorscale\": [[0.0, \"#0d0887\"], [0.1111111111111111, \"#46039f\"], [0.2222222222222222, \"#7201a8\"], [0.3333333333333333, \"#9c179e\"], [0.4444444444444444, \"#bd3786\"], [0.5555555555555556, \"#d8576b\"], [0.6666666666666666, \"#ed7953\"], [0.7777777777777778, \"#fb9f3a\"], [0.8888888888888888, \"#fdca26\"], [1.0, \"#f0f921\"]], \"type\": \"histogram2dcontour\"}], \"mesh3d\": [{\"colorbar\": {\"outlinewidth\": 0, \"ticks\": \"\"}, \"type\": \"mesh3d\"}], \"parcoords\": [{\"line\": {\"colorbar\": {\"outlinewidth\": 0, \"ticks\": \"\"}}, \"type\": \"parcoords\"}], \"pie\": [{\"automargin\": true, \"type\": \"pie\"}], \"scatter\": [{\"marker\": {\"colorbar\": {\"outlinewidth\": 0, \"ticks\": \"\"}}, \"type\": \"scatter\"}], \"scatter3d\": [{\"line\": {\"colorbar\": {\"outlinewidth\": 0, \"ticks\": \"\"}}, \"marker\": {\"colorbar\": {\"outlinewidth\": 0, \"ticks\": \"\"}}, \"type\": \"scatter3d\"}], \"scattercarpet\": [{\"marker\": {\"colorbar\": {\"outlinewidth\": 0, \"ticks\": \"\"}}, \"type\": \"scattercarpet\"}], \"scattergeo\": [{\"marker\": {\"colorbar\": {\"outlinewidth\": 0, \"ticks\": \"\"}}, \"type\": \"scattergeo\"}], \"scattergl\": [{\"marker\": {\"colorbar\": {\"outlinewidth\": 0, \"ticks\": \"\"}}, \"type\": \"scattergl\"}], \"scattermapbox\": [{\"marker\": {\"colorbar\": {\"outlinewidth\": 0, \"ticks\": \"\"}}, \"type\": \"scattermapbox\"}], \"scatterpolar\": [{\"marker\": {\"colorbar\": {\"outlinewidth\": 0, \"ticks\": \"\"}}, \"type\": \"scatterpolar\"}], \"scatterpolargl\": [{\"marker\": {\"colorbar\": {\"outlinewidth\": 0, \"ticks\": \"\"}}, \"type\": \"scatterpolargl\"}], \"scatterternary\": [{\"marker\": {\"colorbar\": {\"outlinewidth\": 0, \"ticks\": \"\"}}, \"type\": \"scatterternary\"}], \"surface\": [{\"colorbar\": {\"outlinewidth\": 0, \"ticks\": \"\"}, \"colorscale\": [[0.0, \"#0d0887\"], [0.1111111111111111, \"#46039f\"], [0.2222222222222222, \"#7201a8\"], [0.3333333333333333, \"#9c179e\"], [0.4444444444444444, \"#bd3786\"], [0.5555555555555556, \"#d8576b\"], [0.6666666666666666, \"#ed7953\"], [0.7777777777777778, \"#fb9f3a\"], [0.8888888888888888, \"#fdca26\"], [1.0, \"#f0f921\"]], \"type\": \"surface\"}], \"table\": [{\"cells\": {\"fill\": {\"color\": \"#EBF0F8\"}, \"line\": {\"color\": \"white\"}}, \"header\": {\"fill\": {\"color\": \"#C8D4E3\"}, \"line\": {\"color\": \"white\"}}, \"type\": \"table\"}]}, \"layout\": {\"annotationdefaults\": {\"arrowcolor\": \"#2a3f5f\", \"arrowhead\": 0, \"arrowwidth\": 1}, \"coloraxis\": {\"colorbar\": {\"outlinewidth\": 0, \"ticks\": \"\"}}, \"colorscale\": {\"diverging\": [[0, \"#8e0152\"], [0.1, \"#c51b7d\"], [0.2, \"#de77ae\"], [0.3, \"#f1b6da\"], [0.4, \"#fde0ef\"], [0.5, \"#f7f7f7\"], [0.6, \"#e6f5d0\"], [0.7, \"#b8e186\"], [0.8, \"#7fbc41\"], [0.9, \"#4d9221\"], [1, \"#276419\"]], \"sequential\": [[0.0, \"#0d0887\"], [0.1111111111111111, \"#46039f\"], [0.2222222222222222, \"#7201a8\"], [0.3333333333333333, \"#9c179e\"], [0.4444444444444444, \"#bd3786\"], [0.5555555555555556, \"#d8576b\"], [0.6666666666666666, \"#ed7953\"], [0.7777777777777778, \"#fb9f3a\"], [0.8888888888888888, \"#fdca26\"], [1.0, \"#f0f921\"]], \"sequentialminus\": [[0.0, \"#0d0887\"], [0.1111111111111111, \"#46039f\"], [0.2222222222222222, \"#7201a8\"], [0.3333333333333333, \"#9c179e\"], [0.4444444444444444, \"#bd3786\"], [0.5555555555555556, \"#d8576b\"], [0.6666666666666666, \"#ed7953\"], [0.7777777777777778, \"#fb9f3a\"], [0.8888888888888888, \"#fdca26\"], [1.0, \"#f0f921\"]]}, \"colorway\": [\"#636efa\", \"#EF553B\", \"#00cc96\", \"#ab63fa\", \"#FFA15A\", \"#19d3f3\", \"#FF6692\", \"#B6E880\", \"#FF97FF\", \"#FECB52\"], \"font\": {\"color\": \"#2a3f5f\"}, \"geo\": {\"bgcolor\": \"white\", \"lakecolor\": \"white\", \"landcolor\": \"#E5ECF6\", \"showlakes\": true, \"showland\": true, \"subunitcolor\": \"white\"}, \"hoverlabel\": {\"align\": \"left\"}, \"hovermode\": \"closest\", \"mapbox\": {\"style\": \"light\"}, \"paper_bgcolor\": \"white\", \"plot_bgcolor\": \"#E5ECF6\", \"polar\": {\"angularaxis\": {\"gridcolor\": \"white\", \"linecolor\": \"white\", \"ticks\": \"\"}, \"bgcolor\": \"#E5ECF6\", \"radialaxis\": {\"gridcolor\": \"white\", \"linecolor\": \"white\", \"ticks\": \"\"}}, \"scene\": {\"xaxis\": {\"backgroundcolor\": \"#E5ECF6\", \"gridcolor\": \"white\", \"gridwidth\": 2, \"linecolor\": \"white\", \"showbackground\": true, \"ticks\": \"\", \"zerolinecolor\": \"white\"}, \"yaxis\": {\"backgroundcolor\": \"#E5ECF6\", \"gridcolor\": \"white\", \"gridwidth\": 2, \"linecolor\": \"white\", \"showbackground\": true, \"ticks\": \"\", \"zerolinecolor\": \"white\"}, \"zaxis\": {\"backgroundcolor\": \"#E5ECF6\", \"gridcolor\": \"white\", \"gridwidth\": 2, \"linecolor\": \"white\", \"showbackground\": true, \"ticks\": \"\", \"zerolinecolor\": \"white\"}}, \"shapedefaults\": {\"line\": {\"color\": \"#2a3f5f\"}}, \"ternary\": {\"aaxis\": {\"gridcolor\": \"white\", \"linecolor\": \"white\", \"ticks\": \"\"}, \"baxis\": {\"gridcolor\": \"white\", \"linecolor\": \"white\", \"ticks\": \"\"}, \"bgcolor\": \"#E5ECF6\", \"caxis\": {\"gridcolor\": \"white\", \"linecolor\": \"white\", \"ticks\": \"\"}}, \"title\": {\"x\": 0.05}, \"xaxis\": {\"automargin\": true, \"gridcolor\": \"white\", \"linecolor\": \"white\", \"ticks\": \"\", \"title\": {\"standoff\": 15}, \"zerolinecolor\": \"white\", \"zerolinewidth\": 2}, \"yaxis\": {\"automargin\": true, \"gridcolor\": \"white\", \"linecolor\": \"white\", \"ticks\": \"\", \"title\": {\"standoff\": 15}, \"zerolinecolor\": \"white\", \"zerolinewidth\": 2}}}, \"title\": {\"text\": \"Sales Prediction\"}},                        {\"responsive\": true}                    ).then(function(){\n",
       "                            \n",
       "var gd = document.getElementById('06cf00cb-d332-496e-ae6f-5d262127a79d');\n",
       "var x = new MutationObserver(function (mutations, observer) {{\n",
       "        var display = window.getComputedStyle(gd).display;\n",
       "        if (!display || display === 'none') {{\n",
       "            console.log([gd, 'removed!']);\n",
       "            Plotly.purge(gd);\n",
       "            observer.disconnect();\n",
       "        }}\n",
       "}});\n",
       "\n",
       "// Listen for the removal of the full notebook cells\n",
       "var notebookContainer = gd.closest('#notebook-container');\n",
       "if (notebookContainer) {{\n",
       "    x.observe(notebookContainer, {childList: true});\n",
       "}}\n",
       "\n",
       "// Listen for the clearing of the current output cell\n",
       "var outputEl = gd.closest('.output');\n",
       "if (outputEl) {{\n",
       "    x.observe(outputEl, {childList: true});\n",
       "}}\n",
       "\n",
       "                        })                };                });            </script>        </div>"
      ]
     },
     "metadata": {},
     "output_type": "display_data"
    }
   ],
   "source": [
    "#plot actual and predicted\n",
    "plot_data = [\n",
    "    go.Scatter(\n",
    "        x=df_sales_pred['date'],\n",
    "        y=df_sales_pred['sales'],\n",
    "        name='actual'\n",
    "    ),\n",
    "        go.Scatter(\n",
    "        x=df_sales_pred['date'],\n",
    "        y=df_sales_pred['pred_value'],\n",
    "        name='predicted'\n",
    "    )\n",
    "    \n",
    "]\n",
    "plot_layout = go.Layout(\n",
    "        title='Sales Prediction'\n",
    "    )\n",
    "fig = go.Figure(data=plot_data, layout=plot_layout)\n",
    "pyoff.iplot(fig)"
   ]
  },
  {
   "cell_type": "code",
   "execution_count": null,
   "metadata": {},
   "outputs": [],
   "source": []
  }
 ],
 "metadata": {
  "kernelspec": {
   "display_name": "Python 3",
   "language": "python",
   "name": "python3"
  },
  "language_info": {
   "codemirror_mode": {
    "name": "ipython",
    "version": 3
   },
   "file_extension": ".py",
   "mimetype": "text/x-python",
   "name": "python",
   "nbconvert_exporter": "python",
   "pygments_lexer": "ipython3",
   "version": "3.7.9"
  }
 },
 "nbformat": 4,
 "nbformat_minor": 4
}
